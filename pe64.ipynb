{
 "cells": [
  {
   "cell_type": "markdown",
   "metadata": {},
   "source": [
    "## Problem 64: Odd period square roots"
   ]
  },
  {
   "cell_type": "code",
   "execution_count": 70,
   "metadata": {},
   "outputs": [
    {
     "data": {
      "text/plain": [
       "nreps (generic function with 1 method)"
      ]
     },
     "execution_count": 70,
     "metadata": {},
     "output_type": "execute_result"
    }
   ],
   "source": [
    "function getclist(s)\n",
    "    x0 = BigFloat(s)\n",
    "    x = sqrt(x0)\n",
    "    a0 = Int(floor(x))\n",
    "    x = 1/(x - floor(x))\n",
    "    aa = []\n",
    "    for n = 1:100\n",
    "        a = Int(floor(x))\n",
    "        x = 1/(x - floor(x))\n",
    "        push!(aa, a)\n",
    "    end\n",
    "    return a0, aa\n",
    "end\n",
    "\n",
    "function getclist2(s)\n",
    "    m = 0\n",
    "    d = 1\n",
    "    a = floor(sqrt(s))\n",
    "    a0 = a\n",
    "    aa = []\n",
    "    for i = 1:500\n",
    "        m = d*a - m\n",
    "        d = (s - m^2)/d\n",
    "        a = floor((a0 + m)/d)\n",
    "        push!(aa, Int(a))\n",
    "    end\n",
    "    return Int(a0), aa\n",
    "end\n",
    "\n",
    "function nreps(clist)\n",
    "    lmax = Int(floor(length(clist)/2))\n",
    "    for l = 1:lmax\n",
    "        isrep = true\n",
    "        n1 = 1\n",
    "        n2 = l\n",
    "        n3 = l+1\n",
    "        n4 = 2*l\n",
    "        while n4 <= length(clist)\n",
    "            if !(clist[n1:n2] == clist[n3:n4])\n",
    "                isrep = false\n",
    "            end\n",
    "            n1 = n3\n",
    "            n2 = n4\n",
    "            n3 += l\n",
    "            n4 += l\n",
    "        end\n",
    "        if isrep\n",
    "            return l\n",
    "        end\n",
    "    end\n",
    "    return 0\n",
    "end"
   ]
  },
  {
   "cell_type": "code",
   "execution_count": 65,
   "metadata": {},
   "outputs": [
    {
     "name": "stdout",
     "output_type": "stream",
     "text": [
      "1\n",
      "2\n",
      "4\n",
      "5\n"
     ]
    }
   ],
   "source": [
    "# Test of nreps\n",
    "l1 = [2, 2, 2, 2, 2, 2, 2, 2, 2, 2]\n",
    "l2 = [1, 2, 1, 2, 1, 2, 1, 2, 1, 2, 1]\n",
    "l3 = [1, 1, 1, 4, 1, 1, 1, 4, 1, 1, 1, 4, 1, 1, 1, 4, 1, 1]\n",
    "l4 = [1, 1, 1, 1, 6, 1, 1, 1, 1, 6, 1, 1, 1, 1, 6, 1, 1, 1, 1, 6, 1, 1, 1, 1, 6, 1, 1, 1, 1, 6, 1]\n",
    "println(nreps(l1))\n",
    "println(nreps(l2))\n",
    "println(nreps(l3))\n",
    "println(nreps(l4))"
   ]
  },
  {
   "cell_type": "code",
   "execution_count": 71,
   "metadata": {},
   "outputs": [],
   "source": [
    "nmax = 10000\n",
    "psquares = [x^2 for x = 2:Int(floor(sqrt(nmax)))]\n",
    "all = 2:nmax\n",
    "nlist = sort(collect(setdiff(Set(all), Set(psquares))))\n",
    "reps = []\n",
    "for n = nlist\n",
    "    a0, aa = getclist2(n)\n",
    "    rep = nreps(aa)\n",
    "    push!(reps, rep)\n",
    "end"
   ]
  },
  {
   "cell_type": "code",
   "execution_count": 72,
   "metadata": {},
   "outputs": [],
   "source": [
    "count = 0\n",
    "for n in reps\n",
    "    if n % 2 != 0\n",
    "        count += 1\n",
    "    end\n",
    "end"
   ]
  },
  {
   "cell_type": "code",
   "execution_count": 73,
   "metadata": {},
   "outputs": [
    {
     "data": {
      "text/plain": [
       "1322"
      ]
     },
     "execution_count": 73,
     "metadata": {},
     "output_type": "execute_result"
    }
   ],
   "source": [
    "count"
   ]
  },
  {
   "cell_type": "code",
   "execution_count": 74,
   "metadata": {},
   "outputs": [
    {
     "data": {
      "text/plain": [
       "0"
      ]
     },
     "execution_count": 74,
     "metadata": {},
     "output_type": "execute_result"
    }
   ],
   "source": [
    "sum(reps .== 0)"
   ]
  },
  {
   "cell_type": "code",
   "execution_count": null,
   "metadata": {},
   "outputs": [],
   "source": []
  }
 ],
 "metadata": {
  "kernelspec": {
   "display_name": "Julia 1.3.1",
   "language": "julia",
   "name": "julia-1.3"
  },
  "language_info": {
   "file_extension": ".jl",
   "mimetype": "application/julia",
   "name": "julia",
   "version": "1.3.1"
  }
 },
 "nbformat": 4,
 "nbformat_minor": 4
}
