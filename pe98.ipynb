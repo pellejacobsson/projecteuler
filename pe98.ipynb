{
 "cells": [
  {
   "cell_type": "markdown",
   "metadata": {},
   "source": [
    "## Problem 98: Anagramic squares"
   ]
  },
  {
   "cell_type": "code",
   "execution_count": 54,
   "metadata": {},
   "outputs": [],
   "source": [
    "using DelimitedFiles\n",
    "using Combinatorics"
   ]
  },
  {
   "cell_type": "code",
   "execution_count": 10,
   "metadata": {},
   "outputs": [
    {
     "data": {
      "text/plain": [
       "1×1786 Array{Any,2}:\n",
       " \"A\"  \"ABILITY\"  \"ABLE\"  \"ABOUT\"  \"ABOVE\"  …  \"YOUR\"  \"YOURSELF\"  \"YOUTH\""
      ]
     },
     "execution_count": 10,
     "metadata": {},
     "output_type": "execute_result"
    }
   ],
   "source": [
    "wl = readdlm(\"p098_words.txt\", ',')"
   ]
  },
  {
   "cell_type": "code",
   "execution_count": 36,
   "metadata": {},
   "outputs": [
    {
     "data": {
      "text/plain": [
       "isanagram (generic function with 1 method)"
      ]
     },
     "execution_count": 36,
     "metadata": {},
     "output_type": "execute_result"
    }
   ],
   "source": [
    "function isanagram(word1, word2)\n",
    "    return (length(word1) == length(word2)) & (sort(collect(word1)) == sort(collect(word2)))\n",
    "end"
   ]
  },
  {
   "cell_type": "code",
   "execution_count": 46,
   "metadata": {},
   "outputs": [],
   "source": [
    "anagrams = Dict()\n",
    "anlistall = []\n",
    "for w1 in wl\n",
    "    if !(w1 in anlistall)\n",
    "        anlist = []\n",
    "        for w2 in wl\n",
    "            if (w1 != w2) & isanagram(w1, w2)\n",
    "                push!(anlist, w2)\n",
    "                push!(anlistall, w2)\n",
    "            end\n",
    "        end\n",
    "        if length(anlist) > 0\n",
    "            anagrams[w1] = anlist\n",
    "        end\n",
    "    end\n",
    "end"
   ]
  },
  {
   "cell_type": "code",
   "execution_count": 108,
   "metadata": {},
   "outputs": [
    {
     "data": {
      "text/plain": [
       "isanagrampair (generic function with 1 method)"
      ]
     },
     "execution_count": 108,
     "metadata": {},
     "output_type": "execute_result"
    }
   ],
   "source": [
    "function issquarepair(l1, l2)\n",
    "    n1 = parse(Int, join([string(n) for n in l1]))\n",
    "    if isinteger(sqrt(n1))\n",
    "        n2 = parse(Int, join([string(n) for n in l2]))\n",
    "        if isinteger(sqrt(n2))\n",
    "            return true\n",
    "        end\n",
    "    end\n",
    "    return false\n",
    "end\n",
    "\n",
    "function isanagrampair(w1, w2)\n",
    "    w1set = unique(collect(w1))\n",
    "    n = length(w1set)\n",
    "    c = combinations(0:9, n)\n",
    "    w1list = []\n",
    "    w2list = []\n",
    "    for cc in c\n",
    "        for ccc in permutations(cc)\n",
    "            wmap = Dict(w1set[m] => ccc[m] for m = 1:length(ccc))\n",
    "            cc1 = [wmap[s] for s in w1]\n",
    "            cc2 = [wmap[s] for s in w2]\n",
    "            if !(cc1[1] == 0) & !(cc2[1] == 0)\n",
    "                if issquarepair(cc1, cc2)\n",
    "                    push!(w1list, cc1)\n",
    "                    push!(w2list, cc2)\n",
    "                end\n",
    "            end\n",
    "        end\n",
    "    end\n",
    "    return w1list, w2list\n",
    "end\n",
    "    "
   ]
  },
  {
   "cell_type": "code",
   "execution_count": 109,
   "metadata": {},
   "outputs": [
    {
     "data": {
      "text/plain": [
       "(Any[[1, 2, 9, 6], [9, 2, 1, 6]], Any[[9, 2, 1, 6], [1, 2, 9, 6]])"
      ]
     },
     "execution_count": 109,
     "metadata": {},
     "output_type": "execute_result"
    }
   ],
   "source": [
    "isanagrampair(\"CARE\", \"RACE\")"
   ]
  },
  {
   "cell_type": "code",
   "execution_count": 112,
   "metadata": {},
   "outputs": [],
   "source": [
    "l1 = []\n",
    "l2 = []\n",
    "for (w1, w2list) in anagrams\n",
    "    for w2 in w2list\n",
    "        lw1, lw2 = isanagrampair(w1, w2)\n",
    "        push!(l1, lw1)\n",
    "        push!(l2, lw2)\n",
    "    end\n",
    "end"
   ]
  },
  {
   "cell_type": "code",
   "execution_count": 119,
   "metadata": {},
   "outputs": [],
   "source": [
    "sqmax = 0\n",
    "for ll in l1\n",
    "    for lll in ll\n",
    "        sq = parse(Int, join(string(p) for p in lll))\n",
    "        if sq > sqmax\n",
    "            sqmax = sq\n",
    "        end\n",
    "    end\n",
    "end\n",
    "for ll in l2\n",
    "    for lll in ll\n",
    "        sq = parse(Int, join(string(p) for p in lll))\n",
    "        if sq > sqmax\n",
    "            sqmax = sq\n",
    "        end\n",
    "    end\n",
    "end\n"
   ]
  },
  {
   "cell_type": "code",
   "execution_count": 120,
   "metadata": {},
   "outputs": [
    {
     "data": {
      "text/plain": [
       "18769"
      ]
     },
     "execution_count": 120,
     "metadata": {},
     "output_type": "execute_result"
    }
   ],
   "source": [
    "sqmax"
   ]
  },
  {
   "cell_type": "code",
   "execution_count": null,
   "metadata": {},
   "outputs": [],
   "source": []
  }
 ],
 "metadata": {
  "kernelspec": {
   "display_name": "Julia 1.5.2",
   "language": "julia",
   "name": "julia-1.5"
  },
  "language_info": {
   "file_extension": ".jl",
   "mimetype": "application/julia",
   "name": "julia",
   "version": "1.5.2"
  }
 },
 "nbformat": 4,
 "nbformat_minor": 4
}
