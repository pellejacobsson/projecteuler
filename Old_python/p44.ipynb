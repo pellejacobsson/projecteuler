{
 "cells": [
  {
   "cell_type": "code",
   "execution_count": 42,
   "metadata": {
    "collapsed": true
   },
   "outputs": [],
   "source": [
    "from matplotlib import pyplot as plt\n",
    "import numpy as np\n",
    "%matplotlib notebook"
   ]
  },
  {
   "cell_type": "code",
   "execution_count": 79,
   "metadata": {
    "collapsed": true
   },
   "outputs": [],
   "source": [
    "def isPentagonal(n):\n",
    "    n = (np.sqrt(24*n + 1) + 1)/6\n",
    "    return n == int(n)\n",
    "\n",
    "def pent(n):\n",
    "    return int(n*(3*n-1)/2)"
   ]
  },
  {
   "cell_type": "code",
   "execution_count": 88,
   "metadata": {},
   "outputs": [
    {
     "name": "stdout",
     "output_type": "stream",
     "text": [
      "Found: m = 1020 and n = 2167, pm = 1560090, pn = 7042750, pn - pm = 5482660\n"
     ]
    }
   ],
   "source": [
    "found = False\n",
    "for n in range(1, 10001):\n",
    "    p1 = pent(n)\n",
    "    for m in range(n-1, 0, -1):\n",
    "        p2 = pent(m)\n",
    "        if isPentagonal(p1 + p2) and isPentagonal(p1 - p2):\n",
    "            print(\"Found: m = {} and n = {}, pm = {}, pn = {}, pn - pm = {}\".format(m, n, pent(m), pent(n), pent(n) - pent(m)))\n",
    "            found = True\n",
    "    if found:\n",
    "        break"
   ]
  },
  {
   "cell_type": "code",
   "execution_count": 98,
   "metadata": {},
   "outputs": [
    {
     "name": "stdout",
     "output_type": "stream",
     "text": [
      "Found: p1 = 1560090, p2 = 7042750, p2 - p1 = 5482660\n"
     ]
    }
   ],
   "source": [
    "s = set(int(n*(3*n-1)/2) for n in range(1,10001))\n",
    "found = False\n",
    "for p1 in s:\n",
    "    for p2 in s:\n",
    "        if (p1 + p2 in s) and (p2 - p1 in s):\n",
    "            print(\"Found: p1 = {}, p2 = {}, p2 - p1 = {}\".format(p1, p2, p2 - p1))\n",
    "            found = True\n",
    "    if found:\n",
    "        break"
   ]
  },
  {
   "cell_type": "code",
   "execution_count": null,
   "metadata": {
    "collapsed": true
   },
   "outputs": [],
   "source": []
  }
 ],
 "metadata": {
  "kernelspec": {
   "display_name": "Python 3",
   "language": "python",
   "name": "python3"
  },
  "language_info": {
   "codemirror_mode": {
    "name": "ipython",
    "version": 3
   },
   "file_extension": ".py",
   "mimetype": "text/x-python",
   "name": "python",
   "nbconvert_exporter": "python",
   "pygments_lexer": "ipython3",
   "version": "3.6.1"
  }
 },
 "nbformat": 4,
 "nbformat_minor": 2
}
