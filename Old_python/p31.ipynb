{
 "cells": [
  {
   "cell_type": "code",
   "execution_count": 52,
   "metadata": {
    "collapsed": true
   },
   "outputs": [],
   "source": [
    "import time"
   ]
  },
  {
   "cell_type": "code",
   "execution_count": 49,
   "metadata": {},
   "outputs": [],
   "source": [
    "def change(coins, value):\n",
    "    if value < 0:\n",
    "        return 0\n",
    "    elif value == 0:\n",
    "        return 1\n",
    "    elif len(coins) == 0:\n",
    "        return 0\n",
    "    else:\n",
    "        return change(coins, value - coins[-1]) + change(coins[:-1], value)\n",
    "    \n",
    "def changedp(coins, value, visited):\n",
    "    clen = len(coins)\n",
    "    if value < 0:\n",
    "        return 0\n",
    "    elif value == 0:\n",
    "        return 1\n",
    "    elif clen == 0:\n",
    "        return 0\n",
    "    else:\n",
    "        if (clen, value) in visited.keys():\n",
    "            return visited[(clen, value)]\n",
    "        else:\n",
    "            visited[(clen, value)] = changedp(coins, value - coins[-1], visited) + changedp(coins[:-1], value, visited)\n",
    "            return visited[(clen, value)]\n",
    "    "
   ]
  },
  {
   "cell_type": "code",
   "execution_count": 56,
   "metadata": {
    "collapsed": true
   },
   "outputs": [],
   "source": [
    "coins = [1, 2, 5, 10, 20, 50, 100, 200]\n",
    "t1 = time.time()\n",
    "for n in range(10):\n",
    "    change(coins, 200)\n",
    "t2 = time.time()\n",
    "tChange = t2 - t1\n",
    "t1 = time.time()\n",
    "for n in range(10):\n",
    "    changedp(coins, 200, {})\n",
    "t2 = time.time()\n",
    "tChangeDp = t2 - t1"
   ]
  }
 ],
 "metadata": {
  "kernelspec": {
   "display_name": "Python 3",
   "language": "python",
   "name": "python3"
  },
  "language_info": {
   "codemirror_mode": {
    "name": "ipython",
    "version": 3
   },
   "file_extension": ".py",
   "mimetype": "text/x-python",
   "name": "python",
   "nbconvert_exporter": "python",
   "pygments_lexer": "ipython3",
   "version": "3.6.1"
  }
 },
 "nbformat": 4,
 "nbformat_minor": 2
}
