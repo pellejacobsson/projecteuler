{
 "cells": [
  {
   "cell_type": "code",
   "execution_count": 92,
   "metadata": {
    "collapsed": true
   },
   "outputs": [],
   "source": [
    "import numpy as np\n",
    "import time"
   ]
  },
  {
   "cell_type": "code",
   "execution_count": 93,
   "metadata": {
    "collapsed": true
   },
   "outputs": [],
   "source": [
    "def isPrime(n):\n",
    "    if n == 1:\n",
    "        return False\n",
    "    if n == 2:\n",
    "        return True\n",
    "    if n % 2 == 0:\n",
    "        return False\n",
    "    for m in range(3, int(np.floor(np.sqrt(n)))+1, 2):\n",
    "        if n % m == 0:\n",
    "            return False\n",
    "    return True\n",
    "\n",
    "def isRightTrunc(n):\n",
    "    for m in range(1, int(np.log10(n)) + 1):\n",
    "        if not isPrime(n // (10**m)):\n",
    "            return False\n",
    "    return True"
   ]
  },
  {
   "cell_type": "code",
   "execution_count": 94,
   "metadata": {},
   "outputs": [],
   "source": [
    "t1 = time.time()\n",
    "trunc = []\n",
    "candidates = [2, 3, 5, 7]\n",
    "add = [1, 2, 3, 5, 7, 9]\n",
    "while candidates:\n",
    "    m = candidates.pop(0)\n",
    "    for n in add:\n",
    "        cand = int(str(n) + str(m))\n",
    "        if isPrime(cand):\n",
    "            candidates.append(cand)\n",
    "            if isRightTrunc(cand):\n",
    "                trunc.append(cand)\n",
    "t2 = time.time()\n"
   ]
  },
  {
   "cell_type": "code",
   "execution_count": 95,
   "metadata": {},
   "outputs": [
    {
     "name": "stdout",
     "output_type": "stream",
     "text": [
      "Answer: 748317. Found in 2.333768367767334 seconds\n"
     ]
    }
   ],
   "source": [
    "print(\"Answer: {}. Found in {} seconds\".format(np.sum(trunc), t2-t1))"
   ]
  }
 ],
 "metadata": {
  "kernelspec": {
   "display_name": "Python 3",
   "language": "python",
   "name": "python3"
  },
  "language_info": {
   "codemirror_mode": {
    "name": "ipython",
    "version": 3
   },
   "file_extension": ".py",
   "mimetype": "text/x-python",
   "name": "python",
   "nbconvert_exporter": "python",
   "pygments_lexer": "ipython3",
   "version": "3.6.1"
  }
 },
 "nbformat": 4,
 "nbformat_minor": 2
}
