{
 "cells": [
  {
   "cell_type": "code",
   "execution_count": 113,
   "metadata": {
    "collapsed": true
   },
   "outputs": [],
   "source": [
    "import numpy as np\n",
    "import time"
   ]
  },
  {
   "cell_type": "code",
   "execution_count": 150,
   "metadata": {},
   "outputs": [],
   "source": [
    "t11 = time.time()\n",
    "plist = [2, 3]\n",
    "for n in range(5, 1000000, 2):\n",
    "    isPrime = True\n",
    "    for m in plist:\n",
    "        if (n % m == 0):\n",
    "            isPrime = False\n",
    "            break\n",
    "        elif (m > np.sqrt(n)):\n",
    "            break\n",
    "    if isPrime:\n",
    "        plist.append(n)\n",
    "t12 = time.time()"
   ]
  },
  {
   "cell_type": "code",
   "execution_count": 151,
   "metadata": {},
   "outputs": [],
   "source": [
    "t21 = time.time()\n",
    "N = 1000000\n",
    "ps = [True]*N\n",
    "for m in range(2, int(np.ceil(np.sqrt(N)))):\n",
    "    if ps[m]:\n",
    "        n = 0\n",
    "        while m**2 + m*n <= N-1:\n",
    "            ps[m**2+m*n] = False\n",
    "            n += 1\n",
    "all = np.arange(0,1000000)\n",
    "plist2 = all[ps][2:]\n",
    "t22 = time.time()"
   ]
  },
  {
   "cell_type": "code",
   "execution_count": 153,
   "metadata": {},
   "outputs": [
    {
     "name": "stdout",
     "output_type": "stream",
     "text": [
      "Brute: 14.417775869369507\n",
      "Sieve: 1.9400322437286377\n"
     ]
    }
   ],
   "source": [
    "print('Brute: {}\\nSieve: {}'.format(t12-t11, t22-t21))"
   ]
  },
  {
   "cell_type": "code",
   "execution_count": 110,
   "metadata": {},
   "outputs": [],
   "source": [
    "cp = []\n",
    "pcand = 0\n",
    "for p in plist:\n",
    "    pa = np.array([int(n) for n in str(p)])\n",
    "    isCyclicPrime = True\n",
    "    for m in range(1, len(pa)):\n",
    "        pcand = int(''.join([str(x) for x in np.roll(pa,m)]))\n",
    "        if (pcand % 2 == 0) or (pcand not in plist):\n",
    "            isCyclicPrime = False\n",
    "            break\n",
    "    if isCyclicPrime:\n",
    "        cp.append(p)"
   ]
  },
  {
   "cell_type": "code",
   "execution_count": 111,
   "metadata": {},
   "outputs": [
    {
     "data": {
      "text/plain": [
       "55"
      ]
     },
     "execution_count": 111,
     "metadata": {},
     "output_type": "execute_result"
    }
   ],
   "source": [
    "len(cp)"
   ]
  }
 ],
 "metadata": {
  "kernelspec": {
   "display_name": "Python 3",
   "language": "python",
   "name": "python3"
  },
  "language_info": {
   "codemirror_mode": {
    "name": "ipython",
    "version": 3
   },
   "file_extension": ".py",
   "mimetype": "text/x-python",
   "name": "python",
   "nbconvert_exporter": "python",
   "pygments_lexer": "ipython3",
   "version": "3.6.1"
  }
 },
 "nbformat": 4,
 "nbformat_minor": 2
}
