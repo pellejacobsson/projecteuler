{
 "cells": [
  {
   "cell_type": "code",
   "execution_count": 1,
   "metadata": {
    "collapsed": true
   },
   "outputs": [],
   "source": [
    "import numpy as np\n",
    "import time"
   ]
  },
  {
   "cell_type": "code",
   "execution_count": 2,
   "metadata": {
    "collapsed": true
   },
   "outputs": [],
   "source": [
    "def primes(nmax):\n",
    "    ps = [True]*nmax\n",
    "    for m in range(2, int(np.ceil(np.sqrt(nmax)))):\n",
    "        if ps[m]:\n",
    "            n = 0\n",
    "            while m**2 + m*n <= nmax-1:\n",
    "                ps[m**2+m*n] = False\n",
    "                n += 1\n",
    "    all = np.arange(0,nmax)\n",
    "    plist = all[ps][2:]\n",
    "    return plist"
   ]
  },
  {
   "cell_type": "code",
   "execution_count": 41,
   "metadata": {
    "collapsed": true
   },
   "outputs": [],
   "source": [
    "pmax = 1000000\n",
    "plist = primes(pmax)"
   ]
  },
  {
   "cell_type": "code",
   "execution_count": 31,
   "metadata": {},
   "outputs": [
    {
     "name": "stdout",
     "output_type": "stream",
     "text": [
      "0\n",
      "536\n",
      "1\n",
      "2\n",
      "539\n",
      "3\n",
      "543\n",
      "4\n"
     ]
    }
   ],
   "source": [
    "t0 = time.time()\n",
    "ntermsmax = 0\n",
    "for n in range(len(plist)):\n",
    "    print(n)\n",
    "    if np.sum(plist[n:n+ntermsmax]) > pmax:\n",
    "        break\n",
    "    pl = plist[n:]\n",
    "    nl = np.arange(len(pl))\n",
    "    pcs = np.cumsum(pl, dtype='int64')\n",
    "    idx = [x in plist for x in pcs]\n",
    "    nterms = nl[idx][-1] + 1\n",
    "    if nterms > ntermsmax:\n",
    "        pnmax = pcs[idx][-1]\n",
    "        ntermsmax = nterms\n",
    "        nstartmax = n\n",
    "        print(ntermsmax)\n",
    "t1 = time.time()"
   ]
  },
  {
   "cell_type": "code",
   "execution_count": 32,
   "metadata": {},
   "outputs": [
    {
     "data": {
      "text/plain": [
       "178.79797077178955"
      ]
     },
     "execution_count": 32,
     "metadata": {},
     "output_type": "execute_result"
    }
   ],
   "source": [
    "t1-t0"
   ]
  },
  {
   "cell_type": "code",
   "execution_count": 33,
   "metadata": {},
   "outputs": [
    {
     "data": {
      "text/plain": [
       "997651"
      ]
     },
     "execution_count": 33,
     "metadata": {},
     "output_type": "execute_result"
    }
   ],
   "source": [
    "pnmax"
   ]
  },
  {
   "cell_type": "code",
   "execution_count": 34,
   "metadata": {},
   "outputs": [
    {
     "data": {
      "text/plain": [
       "543"
      ]
     },
     "execution_count": 34,
     "metadata": {},
     "output_type": "execute_result"
    }
   ],
   "source": [
    "ntermsmax"
   ]
  }
 ],
 "metadata": {
  "kernelspec": {
   "display_name": "Python 3",
   "language": "python",
   "name": "python3"
  },
  "language_info": {
   "codemirror_mode": {
    "name": "ipython",
    "version": 3
   },
   "file_extension": ".py",
   "mimetype": "text/x-python",
   "name": "python",
   "nbconvert_exporter": "python",
   "pygments_lexer": "ipython3",
   "version": "3.6.6"
  }
 },
 "nbformat": 4,
 "nbformat_minor": 2
}
