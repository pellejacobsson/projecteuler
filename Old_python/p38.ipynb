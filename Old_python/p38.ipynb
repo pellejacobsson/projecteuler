{
 "cells": [
  {
   "cell_type": "code",
   "execution_count": null,
   "metadata": {
    "collapsed": true
   },
   "outputs": [],
   "source": [
    "import numpy as np"
   ]
  },
  {
   "cell_type": "code",
   "execution_count": 59,
   "metadata": {
    "collapsed": true
   },
   "outputs": [],
   "source": [
    "def isPanDigit(n):\n",
    "    nl = np.array([int(p) for p in str(n)])\n",
    "    return (len(nl) == 9) and np.array_equal(np.unique(nl), np.arange(1,10))\n",
    "\n",
    "def conProd(m, n):\n",
    "    return int(''.join([str(m*x) for x in range(1, n+1)]))"
   ]
  },
  {
   "cell_type": "code",
   "execution_count": 60,
   "metadata": {},
   "outputs": [],
   "source": [
    "pd = []\n",
    "pdmn = []\n",
    "for m in range(1, 10000):\n",
    "    for n in range(2, 10):\n",
    "        cp = conProd(m, n)\n",
    "        if isPanDigit(cp):\n",
    "            pd.append(cp)\n",
    "            pdmn.append((m,n))"
   ]
  },
  {
   "cell_type": "code",
   "execution_count": 70,
   "metadata": {},
   "outputs": [
    {
     "name": "stdout",
     "output_type": "stream",
     "text": [
      "Largest pandigital number is 932718654 for 9327, [1, 2]\n"
     ]
    }
   ],
   "source": [
    "maxIdx = np.argmax(pd)\n",
    "print(\"Largest pandigital number is {} for {}, {}\".format(pd[maxIdx], pdmn[maxIdx][0], list(range(1, pdmn[maxIdx][1]+1))))"
   ]
  }
 ],
 "metadata": {
  "kernelspec": {
   "display_name": "Python 3",
   "language": "python",
   "name": "python3"
  },
  "language_info": {
   "codemirror_mode": {
    "name": "ipython",
    "version": 3
   },
   "file_extension": ".py",
   "mimetype": "text/x-python",
   "name": "python",
   "nbconvert_exporter": "python",
   "pygments_lexer": "ipython3",
   "version": "3.6.1"
  }
 },
 "nbformat": 4,
 "nbformat_minor": 2
}
