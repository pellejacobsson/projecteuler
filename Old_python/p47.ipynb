{
 "cells": [
  {
   "cell_type": "code",
   "execution_count": 3,
   "metadata": {
    "collapsed": true
   },
   "outputs": [],
   "source": [
    "import numpy as np"
   ]
  },
  {
   "cell_type": "code",
   "execution_count": 22,
   "metadata": {
    "collapsed": true
   },
   "outputs": [],
   "source": [
    "def isPrime(n):\n",
    "    if n == 1:\n",
    "        return False\n",
    "    if n == 2:\n",
    "        return True\n",
    "    if n % 2 == 0:\n",
    "        return False\n",
    "    for m in range(3, int(np.floor(np.sqrt(n)))+1, 2):\n",
    "        if n % m == 0:\n",
    "            return False\n",
    "    return True\n",
    "\n",
    "def gen_primes():\n",
    "\n",
    "    D = {}\n",
    "    q = 2\n",
    "    \n",
    "    while True:\n",
    "        if q not in D:\n",
    "            yield q\n",
    "            D[q * q] = [q]\n",
    "        else:\n",
    "            for p in D[q]:\n",
    "                D.setdefault(p + q, []).append(p)\n",
    "            del D[q]\n",
    "        q += 1\n",
    "        \n",
    "def findFactors(n):\n",
    "    if n < 2:\n",
    "        return []\n",
    "    prime_factors = []\n",
    "    for p in gen_primes():\n",
    "        if p**2 > n:\n",
    "            break\n",
    "        while n % p == 0:\n",
    "            prime_factors.append(p)\n",
    "            n //= p\n",
    "    if n > 1:\n",
    "        prime_factors.append(n)\n",
    "    return prime_factors"
   ]
  },
  {
   "cell_type": "code",
   "execution_count": 35,
   "metadata": {},
   "outputs": [
    {
     "name": "stdout",
     "output_type": "stream",
     "text": [
      "Found: 134043: [3, 7, 13, 491], 134044: [2, 2, 23, 31, 47], 134045: [5, 17, 19, 83], 134046: [2, 3, 3, 11, 677]\n"
     ]
    }
   ],
   "source": [
    "n = 648\n",
    "found = False\n",
    "while not found:\n",
    "    if not (isPrime(n) or isPrime(n+1) or isPrime(n+2) or isPrime(n+3)):\n",
    "        f1 = findFactors(n)\n",
    "        f2 = findFactors(n+1)\n",
    "        f3 = findFactors(n+2)\n",
    "        f4 = findFactors(n+3)\n",
    "        if (len(set(f1)) == 4) and (len(set(f2)) == 4) and (len(set(f3)) == 4) and (len(set(f4)) == 4):\n",
    "            print(\"Found: {}: {}, {}: {}, {}: {}, {}: {}\".format(n, f1, n+1, f2, n+2, f3, n+3, f4))\n",
    "            found = True\n",
    "    n += 1"
   ]
  }
 ],
 "metadata": {
  "kernelspec": {
   "display_name": "Python 3",
   "language": "python",
   "name": "python3"
  },
  "language_info": {
   "codemirror_mode": {
    "name": "ipython",
    "version": 3
   },
   "file_extension": ".py",
   "mimetype": "text/x-python",
   "name": "python",
   "nbconvert_exporter": "python",
   "pygments_lexer": "ipython3",
   "version": "3.6.6"
  }
 },
 "nbformat": 4,
 "nbformat_minor": 2
}
