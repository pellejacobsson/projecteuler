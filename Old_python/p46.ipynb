{
 "cells": [
  {
   "cell_type": "code",
   "execution_count": 1,
   "metadata": {
    "collapsed": true
   },
   "outputs": [],
   "source": [
    "import numpy as np"
   ]
  },
  {
   "cell_type": "code",
   "execution_count": 34,
   "metadata": {},
   "outputs": [],
   "source": [
    "def primes(nmax):\n",
    "    ps = [True]*nmax\n",
    "    for m in range(2, int(np.ceil(np.sqrt(nmax)))):\n",
    "        if ps[m]:\n",
    "            n = 0\n",
    "            while m**2 + m*n <= nmax-1:\n",
    "                ps[m**2+m*n] = False\n",
    "                n += 1\n",
    "    all = np.arange(0,nmax)\n",
    "    plist = all[ps][2:]\n",
    "    return plist\n",
    "\n",
    "def compodd(nmax):\n",
    "    odd = np.arange(9, nmax, 2)\n",
    "    return set(odd) - set(primes(nmax))\n",
    "                           \n",
    "def isTwoSq(n):\n",
    "    return np.sqrt(n/2) == int(np.sqrt(n/2))"
   ]
  },
  {
   "cell_type": "code",
   "execution_count": 42,
   "metadata": {},
   "outputs": [
    {
     "name": "stdout",
     "output_type": "stream",
     "text": [
      "Found 5777\n",
      "Found 5993\n"
     ]
    }
   ],
   "source": [
    "nmax = 10000\n",
    "c = compodd(nmax)\n",
    "p = primes(nmax)\n",
    "for n in c:\n",
    "    found = False\n",
    "    for m in p:\n",
    "        if m > n:\n",
    "            break\n",
    "        if isTwoSq(n-m):\n",
    "            found = True\n",
    "            break\n",
    "    if not found:\n",
    "        print(\"Found {}\".format(n))"
   ]
  },
  {
   "cell_type": "code",
   "execution_count": null,
   "metadata": {
    "collapsed": true
   },
   "outputs": [],
   "source": []
  }
 ],
 "metadata": {
  "kernelspec": {
   "display_name": "Python 3",
   "language": "python",
   "name": "python3"
  },
  "language_info": {
   "codemirror_mode": {
    "name": "ipython",
    "version": 3
   },
   "file_extension": ".py",
   "mimetype": "text/x-python",
   "name": "python",
   "nbconvert_exporter": "python",
   "pygments_lexer": "ipython3",
   "version": "3.6.1"
  }
 },
 "nbformat": 4,
 "nbformat_minor": 2
}
