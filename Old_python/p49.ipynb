{
 "cells": [
  {
   "cell_type": "code",
   "execution_count": 1,
   "metadata": {
    "collapsed": true
   },
   "outputs": [],
   "source": [
    "import numpy as np\n",
    "import itertools as it"
   ]
  },
  {
   "cell_type": "code",
   "execution_count": 2,
   "metadata": {
    "collapsed": true
   },
   "outputs": [],
   "source": [
    "def primes(nmax):\n",
    "    ps = [True]*nmax\n",
    "    for m in range(2, int(np.ceil(np.sqrt(nmax)))):\n",
    "        if ps[m]:\n",
    "            n = 0\n",
    "            while m**2 + m*n <= nmax-1:\n",
    "                ps[m**2+m*n] = False\n",
    "                n += 1\n",
    "    all = np.arange(0,nmax)\n",
    "    plist = all[ps][2:]\n",
    "    return plist\n",
    "\n",
    "def getPerm(n):\n",
    "    perms = it.permutations(str(n))\n",
    "    return np.unique([int(''.join(m)) for m in perms])\n",
    "\n"
   ]
  },
  {
   "cell_type": "code",
   "execution_count": 3,
   "metadata": {
    "collapsed": true
   },
   "outputs": [],
   "source": [
    "allp = primes(9999)"
   ]
  },
  {
   "cell_type": "code",
   "execution_count": 4,
   "metadata": {
    "collapsed": true
   },
   "outputs": [],
   "source": [
    "plist = [pp for pp in allp if pp >= 1000]"
   ]
  },
  {
   "cell_type": "code",
   "execution_count": 38,
   "metadata": {},
   "outputs": [],
   "source": [
    "pl3list = {}\n",
    "for p in plist:\n",
    "    pplist = []\n",
    "    for pp in getPerm(p):\n",
    "        if pp in plist:\n",
    "            pplist.append(pp)\n",
    "    if any(np.diff(np.diff(np.sort(pplist))) == 0):\n",
    "        pl3list[p] = pplist"
   ]
  },
  {
   "cell_type": "code",
   "execution_count": 39,
   "metadata": {},
   "outputs": [
    {
     "data": {
      "text/plain": [
       "{2699: [2699, 2969, 6299, 9629],\n",
       " 2969: [2699, 2969, 6299, 9629],\n",
       " 6299: [2699, 2969, 6299, 9629],\n",
       " 9629: [2699, 2969, 6299, 9629]}"
      ]
     },
     "execution_count": 39,
     "metadata": {},
     "output_type": "execute_result"
    }
   ],
   "source": [
    "pl3list"
   ]
  },
  {
   "cell_type": "code",
   "execution_count": 42,
   "metadata": {},
   "outputs": [
    {
     "data": {
      "text/plain": [
       "array([3330, 3330])"
      ]
     },
     "execution_count": 42,
     "metadata": {},
     "output_type": "execute_result"
    }
   ],
   "source": [
    "np.diff(pl3list[2699][1:])"
   ]
  },
  {
   "cell_type": "code",
   "execution_count": 43,
   "metadata": {},
   "outputs": [
    {
     "data": {
      "text/plain": [
       "[2969, 6299, 9629]"
      ]
     },
     "execution_count": 43,
     "metadata": {},
     "output_type": "execute_result"
    }
   ],
   "source": [
    "pl3list[2699][1:]"
   ]
  }
 ],
 "metadata": {
  "kernelspec": {
   "display_name": "Python 3",
   "language": "python",
   "name": "python3"
  },
  "language_info": {
   "codemirror_mode": {
    "name": "ipython",
    "version": 3
   },
   "file_extension": ".py",
   "mimetype": "text/x-python",
   "name": "python",
   "nbconvert_exporter": "python",
   "pygments_lexer": "ipython3",
   "version": "3.6.6"
  }
 },
 "nbformat": 4,
 "nbformat_minor": 2
}
