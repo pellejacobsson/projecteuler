{
 "cells": [
  {
   "cell_type": "markdown",
   "metadata": {},
   "source": [
    "## Problem 58: Spiral primes\n",
    "Starting with 1 and spiralling anticlockwise in the following way, a square spiral with side length 7 is formed.\n",
    "\n",
    "<img src=\"spiral_primes.png\" width=\"200\">\n",
    "\n",
    "It is interesting to note that the odd squares lie along the bottom right diagonal, but what is more interesting is that 8 out of the 13 numbers lying along both diagonals are prime; that is, a ratio of 8/13 ≈ 62%.\n",
    "\n",
    "If one complete new layer is wrapped around the spiral above, a square spiral with side length 9 will be formed. If this process is continued, what is the side length of the square spiral for which the ratio of primes along both diagonals first falls below 10%?"
   ]
  },
  {
   "cell_type": "code",
   "execution_count": 29,
   "metadata": {},
   "outputs": [
    {
     "data": {
      "text/plain": [
       "addlayer! (generic function with 1 method)"
      ]
     },
     "execution_count": 29,
     "metadata": {},
     "output_type": "execute_result"
    }
   ],
   "source": [
    "function isprime(n)\n",
    "    if n == 2\n",
    "        return true\n",
    "    else\n",
    "        for m = 2:ceil(sqrt(n))\n",
    "            if n % m == 0\n",
    "                return false\n",
    "            end\n",
    "        end\n",
    "        return true\n",
    "    end\n",
    "end\n",
    "\n",
    "function addlayer!(m)\n",
    "    nmax = length(m)\n",
    "    nlayers = Int(sqrt(nmax))\n",
    "    x0 = Int((nlayers-1)/2)\n",
    "    y0 = -Int((nlayers-1)/2)\n",
    "    lmax = Int((nlayers+1)/2)\n",
    "    xmax = lmax\n",
    "    ymax = lmax\n",
    "    x = x0\n",
    "    y = y0\n",
    "    n = nmax\n",
    "    while x < xmax\n",
    "        x += 1\n",
    "        n += 1\n",
    "        m[(x,y)] = n\n",
    "    end\n",
    "    while y < ymax\n",
    "        y += 1\n",
    "        n += 1\n",
    "        m[(x,y)] = n\n",
    "    end\n",
    "    while x > -xmax\n",
    "        x -= 1\n",
    "        n += 1\n",
    "        m[(x,y)] = n\n",
    "    end\n",
    "    while y > -ymax\n",
    "        y -= 1\n",
    "        n += 1\n",
    "        m[(x,y)] = n\n",
    "    end\n",
    "    while x < xmax\n",
    "        x += 1\n",
    "        n += 1\n",
    "        m[(x,y)] = n\n",
    "    end\n",
    "    return m\n",
    "end"
   ]
  },
  {
   "cell_type": "code",
   "execution_count": 30,
   "metadata": {},
   "outputs": [
    {
     "name": "stdout",
     "output_type": "stream",
     "text": [
      "99: 0.24873096446700507\n",
      "199: 0.22670025188916876\n",
      "299: 0.20268006700167504\n",
      "399: 0.18444165621079048\n",
      "499: 0.17552657973921765\n",
      "599: 0.1670843776106934\n",
      "699: 0.16105941302791696\n",
      "799: 0.15716969317470256\n",
      "899: 0.15247634947134112\n",
      "999: 0.15022533800701052\n",
      "1099: 0.14974965862539827\n",
      "1199: 0.14810179390905298\n",
      "1299: 0.14516750096264922\n",
      "1399: 0.14479799785484448\n",
      "1499: 0.14414414414414414\n",
      "1599: 0.1445104785736628\n",
      "1699: 0.14336178981454226\n",
      "1799: 0.1412288017792605\n",
      "1899: 0.139847247827232\n",
      "1999: 0.138353765323993\n",
      "2099: 0.13867047891350964\n",
      "2199: 0.13736638617239028\n",
      "2299: 0.13552316728301067\n",
      "2399: 0.13529289139045236\n",
      "2499: 0.1356814088453072\n",
      "2599: 0.1346930921685588\n",
      "2699: 0.13433388919770242\n",
      "2799: 0.1341790244773986\n",
      "2899: 0.13403484560979817\n",
      "2999: 0.13340003335000833\n",
      "3099: 0.13199935452638373\n",
      "3199: 0.13162419884320775\n",
      "3299: 0.13142337426102774\n",
      "3399: 0.13064587317934384\n",
      "3499: 0.13048449335429468\n",
      "3599: 0.129915242462137\n",
      "3699: 0.12897120454238203\n",
      "3799: 0.12873502698433592\n"
     ]
    },
    {
     "ename": "InterruptException",
     "evalue": "InterruptException:",
     "output_type": "error",
     "traceback": [
      "InterruptException:",
      "",
      "Stacktrace:",
      " [1] try_yieldto(::typeof(Base.ensure_rescheduled), ::Base.RefValue{Task}) at .\\task.jl:517",
      " [2] wait() at .\\task.jl:592",
      " [3] uv_write(::Base.PipeEndpoint, ::Ptr{UInt8}, ::UInt64) at .\\stream.jl:883",
      " [4] unsafe_write(::Base.PipeEndpoint, ::Ptr{UInt8}, ::UInt64) at .\\stream.jl:931",
      " [5] unsafe_write at .\\io.jl:522 [inlined]",
      " [6] unsafe_write(::Base.PipeEndpoint, ::Base.RefValue{UInt8}, ::Int64) at .\\io.jl:520",
      " [7] write at .\\io.jl:523 [inlined]",
      " [8] write(::Base.PipeEndpoint, ::UInt8) at .\\stream.jl:973",
      " [9] write at .\\io.jl:237 [inlined]",
      " [10] write at .\\io.jl:576 [inlined]",
      " [11] print at .\\char.jl:229 [inlined]",
      " [12] print(::IJulia.IJuliaStdio{Base.PipeEndpoint}, ::String, ::Char) at .\\strings\\io.jl:48",
      " [13] println(::IJulia.IJuliaStdio{Base.PipeEndpoint}, ::String) at .\\strings\\io.jl:75",
      " [14] println(::String) at .\\coreio.jl:4",
      " [15] top-level scope at .\\In[30]:25"
     ]
    }
   ],
   "source": [
    "m = Dict((0,0) => 1)\n",
    "ntot = 0\n",
    "found = false\n",
    "rightlayers = 0\n",
    "while !found\n",
    "    nprimes = 0\n",
    "    addlayer!(m)\n",
    "    nlayers = Int(sqrt(length(m)))\n",
    "    for i = 1:Int((nlayers-1)/2)\n",
    "        if isprime(m[(-i, -i)])\n",
    "            nprimes += 1\n",
    "        end\n",
    "        if isprime(m[(-i, i)])\n",
    "            nprimes += 1\n",
    "        end\n",
    "        if isprime(m[(i, -i)])\n",
    "            nprimes += 1\n",
    "        end\n",
    "        if isprime(m[(i, i)])\n",
    "            nprimes += 1\n",
    "        end\n",
    "    end\n",
    "    ntot = Int((nlayers-1)/2)*4+1\n",
    "    if (nlayers+1) % 100 == 0\n",
    "        println(\"$(nlayers): $(nprimes/ntot)\")\n",
    "    end\n",
    "    if nprimes / ntot < 0.1\n",
    "        found = true\n",
    "        rightlayers = nlayers\n",
    "    end\n",
    "    nlayers += 2\n",
    "end"
   ]
  },
  {
   "cell_type": "markdown",
   "metadata": {},
   "source": [
    "Tog för lång tid. Fuskar lite och räknar bara ut diagonalerna."
   ]
  },
  {
   "cell_type": "code",
   "execution_count": 44,
   "metadata": {},
   "outputs": [
    {
     "name": "stdout",
     "output_type": "stream",
     "text": [
      "999: 0.15022533800701052\n",
      "1999: 0.138353765323993\n",
      "2999: 0.13340003335000833\n",
      "3999: 0.12804801800675253\n",
      "4999: 0.125037511253376\n",
      "5999: 0.12153038259564891\n",
      "6999: 0.11895406158462528\n",
      "7999: 0.11545914859036069\n",
      "8999: 0.11335222537089515\n",
      "9999: 0.11246687003050458\n",
      "10999: 0.1116970495976724\n",
      "11999: 0.11022211109722048\n",
      "12999: 0.10858945262914951\n",
      "13999: 0.10697574740150731\n",
      "14999: 0.10637730439710638\n",
      "15999: 0.10591617964184143\n",
      "16999: 0.10536223784451569\n",
      "17999: 0.10445314887351724\n",
      "18999: 0.10382398610416611\n",
      "19999: 0.1034577593319499\n",
      "20999: 0.10255494440079053\n",
      "21999: 0.10243880264563493\n",
      "22999: 0.10194143096288888\n",
      "23999: 0.10115215534304227\n",
      "24999: 0.10082604956297378\n",
      "25999: 0.1001788564724888\n"
     ]
    }
   ],
   "source": [
    "diags = [1]\n",
    "nlayers = 3\n",
    "nprimes = 0\n",
    "ntot = 1\n",
    "found = false\n",
    "while !found\n",
    "    n = Int((nlayers-1)/2)\n",
    "    d1 = nlayers^2 - n*6\n",
    "    d2 = d1 + n*2\n",
    "    d3 = d2 + n*2\n",
    "    d4 = nlayers^2\n",
    "    if isprime(d1)\n",
    "        nprimes += 1\n",
    "    end\n",
    "    if isprime(d2)\n",
    "        nprimes += 1\n",
    "    end\n",
    "    if isprime(d3)\n",
    "        nprimes += 1\n",
    "    end\n",
    "    if isprime(d4)\n",
    "        nprimes += 1\n",
    "    end\n",
    "    ntot += 4\n",
    "    if nprimes / ntot < 0.1\n",
    "        found = true\n",
    "    end\n",
    "    if (nlayers+1) % 1000 == 0\n",
    "        println(\"$nlayers: $(nprimes/ntot)\")\n",
    "    end\n",
    "    nlayers += 2\n",
    "    #push!(diags, d1, d2, d3, d4)\n",
    "end"
   ]
  },
  {
   "cell_type": "code",
   "execution_count": 47,
   "metadata": {},
   "outputs": [
    {
     "name": "stdout",
     "output_type": "stream",
     "text": [
      "Side length when ratio of primes on the diagnoal < 10%: 26241\n"
     ]
    }
   ],
   "source": [
    "println(\"Side length when ratio of primes on the diagnoal < 10%: $(nlayers-2)\")"
   ]
  },
  {
   "cell_type": "code",
   "execution_count": null,
   "metadata": {},
   "outputs": [],
   "source": []
  }
 ],
 "metadata": {
  "kernelspec": {
   "display_name": "Julia 1.2.0",
   "language": "julia",
   "name": "julia-1.2"
  },
  "language_info": {
   "file_extension": ".jl",
   "mimetype": "application/julia",
   "name": "julia",
   "version": "1.2.0"
  }
 },
 "nbformat": 4,
 "nbformat_minor": 4
}
