{
 "cells": [
  {
   "cell_type": "markdown",
   "metadata": {},
   "source": [
    "## Problem 59: XOR decryption\n",
    "Each character on a computer is assigned a unique code and the preferred standard is ASCII (American Standard Code for Information Interchange). For example, uppercase A = 65, asterisk (*) = 42, and lowercase k = 107.\n",
    "\n",
    "A modern encryption method is to take a text file, convert the bytes to ASCII, then XOR each byte with a given value, taken from a secret key. The advantage with the XOR function is that using the same encryption key on the cipher text, restores the plain text; for example, 65 XOR 42 = 107, then 107 XOR 42 = 65.\n",
    "\n",
    "For unbreakable encryption, the key is the same length as the plain text message, and the key is made up of random bytes. The user would keep the encrypted message and the encryption key in different locations, and without both \"halves\", it is impossible to decrypt the message.\n",
    "\n",
    "Unfortunately, this method is impractical for most users, so the modified method is to use a password as a key. If the password is shorter than the message, which is likely, the key is repeated cyclically throughout the message. The balance for this method is using a sufficiently long password key for security, but short enough to be memorable.\n",
    "\n",
    "Your task has been made easy, as the encryption key consists of three lower case characters. Using p059_cipher.txt (right click and 'Save Link/Target As...'), a file containing the encrypted ASCII codes, and the knowledge that the plain text must contain common English words, decrypt the message and find the sum of the ASCII values in the original text.\n",
    "\n"
   ]
  },
  {
   "cell_type": "code",
   "execution_count": 1,
   "metadata": {},
   "outputs": [
    {
     "data": {
      "text/plain": [
       "decodedwords (generic function with 1 method)"
      ]
     },
     "execution_count": 1,
     "metadata": {},
     "output_type": "execute_result"
    }
   ],
   "source": [
    "function filetolist(filename)\n",
    "    s = open(filename) do file\n",
    "        read(file, String)\n",
    "    end\n",
    "    ss = split(s, \",\")\n",
    "    return [parse(Int, x) for x in ss]\n",
    "end\n",
    "\n",
    "function intlisttobytes(sl)\n",
    "    return [reverse(digits(x, base=2, pad=8)) for x in sl]\n",
    "end\n",
    "\n",
    "function pwdtokey(pwd, length)\n",
    "    pwdi = [Int(x) for x in pwd]\n",
    "    nextra = mod(length, 3)\n",
    "    nreps = div(length, 3)\n",
    "    pwdb = intlisttobytes(pwdi)\n",
    "    key = repeat(pwdb, nreps)\n",
    "    for i = 1:nextra\n",
    "        push!(key, pwdb)\n",
    "    end\n",
    "    return key\n",
    "end\n",
    "\n",
    "function bytestoascii(bytes)\n",
    "    return parse(Int, join([string(x) for x in bytes]), base=2)\n",
    "end\n",
    "\n",
    "function asciilisttotext(alist)\n",
    "    charlist = [Char(x) for x in alist]\n",
    "    text = join(charlist)\n",
    "    textsplit = split(text, \" \")\n",
    "end\n",
    "\n",
    "function decodedwords(encodedbytes, pwd)\n",
    "    key = pwdtokey(pwd, length(encodedbytes))\n",
    "    decodedbytes = [x .⊻ y for (x,y) in zip(encodedbytes, key)]\n",
    "    decodedascii = [bytestoascii(x) for x in decodedbytes];\n",
    "    decodedtext = asciilisttotext(decodedascii)\n",
    "    return decodedtext\n",
    "end"
   ]
  },
  {
   "cell_type": "code",
   "execution_count": 2,
   "metadata": {},
   "outputs": [
    {
     "name": "stdout",
     "output_type": "stream",
     "text": [
      "97\n",
      "98\n",
      "99\n",
      "100\n",
      "101\n",
      "102\n",
      "103\n",
      "104\n",
      "105\n",
      "106\n",
      "107\n",
      "108\n",
      "109\n",
      "110\n",
      "111\n",
      "112\n",
      "113\n",
      "114\n",
      "115\n",
      "116\n",
      "117\n",
      "118\n",
      "119\n",
      "120\n",
      "121\n",
      "122\n"
     ]
    }
   ],
   "source": [
    "encodedbytes = intlisttobytes(filetolist(\"p059_cipher.txt\"))\n",
    "commonwords = [\"the\", \"to\", \"be\", \"of\", \"and\"]\n",
    "pwdsave = \"000\"\n",
    "for s1 = 97:122\n",
    "    println(\"$s1\")\n",
    "    for s2 = 97:122\n",
    "        for s3 = 97:122\n",
    "            pwd = join([Char(s1), Char(s2), Char(s3)])\n",
    "            text = decodedwords(encodedbytes, pwd)\n",
    "            havewords = [w in text for w in commonwords]\n",
    "            if sum(havewords) > 2\n",
    "                pwdsave = pwd\n",
    "                break\n",
    "            end\n",
    "        end\n",
    "    end\n",
    "end"
   ]
  },
  {
   "cell_type": "code",
   "execution_count": 16,
   "metadata": {},
   "outputs": [],
   "source": [
    "text = decodedwords(encodedbytes, \"exp\");\n",
    "textall = join(text, \" \");\n",
    "textascii = [Int(c) for c in textall];\n",
    "textsum = sum(textascii);"
   ]
  },
  {
   "cell_type": "code",
   "execution_count": 17,
   "metadata": {},
   "outputs": [
    {
     "name": "stdout",
     "output_type": "stream",
     "text": [
      "Sum of ASCII characters: 129448\n"
     ]
    }
   ],
   "source": [
    "println(\"Sum of ASCII characters: $textsum\")"
   ]
  },
  {
   "cell_type": "code",
   "execution_count": null,
   "metadata": {},
   "outputs": [],
   "source": []
  }
 ],
 "metadata": {
  "kernelspec": {
   "display_name": "Julia 1.3.1",
   "language": "julia",
   "name": "julia-1.3"
  },
  "language_info": {
   "file_extension": ".jl",
   "mimetype": "application/julia",
   "name": "julia",
   "version": "1.3.1"
  }
 },
 "nbformat": 4,
 "nbformat_minor": 4
}
