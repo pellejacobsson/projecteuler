{
 "cells": [
  {
   "cell_type": "markdown",
   "metadata": {},
   "source": [
    "## Problem 56: Powerful digit sum\n",
    "A googol ($10^{100}$) is a massive number: one followed by one-hundred zeros; $100^{100}$ is almost unimaginably large: one followed by two-hundred zeros. Despite their size, the sum of the digits in each number is only 1.\n",
    "\n",
    "Considering natural numbers of the form, $a^b$, where $a, b < 100$, what is the maximum digital sum?"
   ]
  },
  {
   "cell_type": "code",
   "execution_count": 1,
   "metadata": {},
   "outputs": [
    {
     "data": {
      "text/plain": [
       "inttolist (generic function with 2 methods)"
      ]
     },
     "execution_count": 1,
     "metadata": {},
     "output_type": "execute_result"
    }
   ],
   "source": [
    "function inttolist(n, intsize=Int32)\n",
    "    return [parse(intsize, x) for x in string(n)]\n",
    "end\n"
   ]
  },
  {
   "cell_type": "code",
   "execution_count": 13,
   "metadata": {},
   "outputs": [],
   "source": [
    "smax = 0\n",
    "abmax = (1,1)\n",
    "for a in 1:100\n",
    "    for b in 1:100\n",
    "        n = BigInt(a)^BigInt(b)\n",
    "        nsum = sum(inttolist(n))\n",
    "        if nsum > smax\n",
    "            smax = nsum\n",
    "            abmax = (a,b)\n",
    "        end\n",
    "    end\n",
    "end"
   ]
  },
  {
   "cell_type": "code",
   "execution_count": 17,
   "metadata": {},
   "outputs": [
    {
     "name": "stdout",
     "output_type": "stream",
     "text": [
      "Maximum digital sum: 972 for a=99, b=95, aᵇ=823565395850064843"
     ]
    }
   ],
   "source": [
    "print(\"Maximum digital sum: $smax for a=$(abmax[1]), b=$(abmax[2]), aᵇ=$(abmax[1]^abmax[2])\")"
   ]
  }
 ],
 "metadata": {
  "kernelspec": {
   "display_name": "Julia 1.2.0",
   "language": "julia",
   "name": "julia-1.2"
  },
  "language_info": {
   "file_extension": ".jl",
   "mimetype": "application/julia",
   "name": "julia",
   "version": "1.2.0"
  }
 },
 "nbformat": 4,
 "nbformat_minor": 4
}
