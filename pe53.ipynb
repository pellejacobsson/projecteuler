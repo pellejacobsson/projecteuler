{
 "cells": [
  {
   "cell_type": "markdown",
   "metadata": {},
   "source": [
    "## Problem 53: Combinatoric selections\n",
    "There are exactly ten ways of selecting three from five, 12345:\n",
    "\n",
    "123, 124, 125, 134, 135, 145, 234, 235, 245, and 345\n",
    "\n",
    "In combinatorics, we use the notation, ${5\\choose3} = 10$.\n",
    "\n",
    "In general, ${n\\choose r} = \\frac{n!}{r!(n−r)!}$, where $r \\leq n$, $n! = n \\cdot (n-1) \\cdots 2 \\cdot 1$, and $0!=1$.\n",
    "\n",
    "It is not until $n=23$, that a value exceeds one-million: ${23 \\choose 10} = 1144066$.\n",
    "\n",
    "How many, not necessarily distinct, values of ${n \\choose r}$ for $1 \\leq n \\leq 100$, are greater than one-million?"
   ]
  },
  {
   "cell_type": "code",
   "execution_count": 5,
   "metadata": {},
   "outputs": [],
   "source": [
    "count = 0\n",
    "for n in 1:100\n",
    "    for r in 1:n\n",
    "        if binomial(BigInt(n), BigInt(r)) > 1000000\n",
    "            count += 1\n",
    "        end\n",
    "    end\n",
    "end"
   ]
  },
  {
   "cell_type": "code",
   "execution_count": 7,
   "metadata": {},
   "outputs": [
    {
     "name": "stdout",
     "output_type": "stream",
     "text": [
      "Number of values over one million: 4075\n"
     ]
    }
   ],
   "source": [
    "println(\"Number of values over one million: $count\")"
   ]
  },
  {
   "cell_type": "code",
   "execution_count": null,
   "metadata": {},
   "outputs": [],
   "source": []
  }
 ],
 "metadata": {
  "kernelspec": {
   "display_name": "Julia 1.2.0",
   "language": "julia",
   "name": "julia-1.2"
  },
  "language_info": {
   "file_extension": ".jl",
   "mimetype": "application/julia",
   "name": "julia",
   "version": "1.2.0"
  }
 },
 "nbformat": 4,
 "nbformat_minor": 4
}
