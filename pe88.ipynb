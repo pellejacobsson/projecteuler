{
 "cells": [
  {
   "cell_type": "markdown",
   "metadata": {},
   "source": [
    "## Problem 88: Product-sum numbers"
   ]
  },
  {
   "cell_type": "code",
   "execution_count": 53,
   "metadata": {},
   "outputs": [
    {
     "data": {
      "text/plain": [
       "prodsum (generic function with 1 method)"
      ]
     },
     "execution_count": 53,
     "metadata": {},
     "output_type": "execute_result"
    }
   ],
   "source": [
    "function prodsum(p, s, c, start)\n",
    "    k = p - s + c\n",
    "    println(\"p = $p, s = $s, c = $c, start = $start, k = $k\")\n",
    "    if k < kmax\n",
    "        if p < n[k]\n",
    "            n[k] = p\n",
    "        end\n",
    "        for i = start:Int(floor(kmax/p)*2)\n",
    "            prodsum(p*i, s+i, c+1, i)\n",
    "        end\n",
    "    end\n",
    "end"
   ]
  },
  {
   "cell_type": "code",
   "execution_count": 58,
   "metadata": {},
   "outputs": [
    {
     "name": "stdout",
     "output_type": "stream",
     "text": [
      "p = 1, s = 1, c = 1, start = 2, k = 1\n",
      "p = 2, s = 3, c = 2, start = 2, k = 1\n",
      "p = 4, s = 5, c = 3, start = 2, k = 2\n",
      "p = 8, s = 7, c = 4, start = 2, k = 5\n",
      "p = 6, s = 6, c = 3, start = 3, k = 3\n",
      "p = 8, s = 7, c = 3, start = 4, k = 4\n",
      "p = 3, s = 4, c = 2, start = 3, k = 1\n",
      "p = 4, s = 5, c = 2, start = 4, k = 1\n",
      "p = 5, s = 6, c = 2, start = 5, k = 1\n",
      "p = 6, s = 7, c = 2, start = 6, k = 1\n",
      "p = 7, s = 8, c = 2, start = 7, k = 1\n",
      "p = 8, s = 9, c = 2, start = 8, k = 1\n"
     ]
    }
   ],
   "source": [
    "kmax = 4\n",
    "n = ones(Int, kmax-1)*2*kmax\n",
    "prodsum(1, 1, 1, 2)"
   ]
  },
  {
   "cell_type": "code",
   "execution_count": 61,
   "metadata": {},
   "outputs": [
    {
     "data": {
      "text/plain": [
       "2-element Array{Int64,1}:\n",
       " 4\n",
       " 6"
      ]
     },
     "execution_count": 61,
     "metadata": {},
     "output_type": "execute_result"
    }
   ],
   "source": [
    "unique(n[2:end])"
   ]
  },
  {
   "cell_type": "code",
   "execution_count": 2,
   "metadata": {},
   "outputs": [
    {
     "data": {
      "text/plain": [
       "16384"
      ]
     },
     "execution_count": 2,
     "metadata": {},
     "output_type": "execute_result"
    }
   ],
   "source": []
  },
  {
   "cell_type": "code",
   "execution_count": null,
   "metadata": {},
   "outputs": [],
   "source": []
  }
 ],
 "metadata": {
  "kernelspec": {
   "display_name": "Julia 1.5.3",
   "language": "julia",
   "name": "julia-1.5"
  },
  "language_info": {
   "file_extension": ".jl",
   "mimetype": "application/julia",
   "name": "julia",
   "version": "1.5.3"
  }
 },
 "nbformat": 4,
 "nbformat_minor": 4
}
