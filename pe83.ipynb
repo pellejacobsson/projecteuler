{
 "cells": [
  {
   "cell_type": "markdown",
   "metadata": {},
   "source": [
    "## Problem 83: Path sum: four ways\n",
    "Use Djikstra's algortithm"
   ]
  },
  {
   "cell_type": "code",
   "execution_count": 59,
   "metadata": {},
   "outputs": [
    {
     "data": {
      "text/plain": [
       "djikstra (generic function with 1 method)"
      ]
     },
     "execution_count": 59,
     "metadata": {},
     "output_type": "execute_result"
    }
   ],
   "source": [
    "function djikstra(A, source, target)\n",
    "    isource = source[1]\n",
    "    jsource = source[2]\n",
    "    dist = fill(Inf, size(A))\n",
    "    prev = Dict()\n",
    "    Q = trues(size(A))\n",
    "    dist[isource, jsource] = A[isource, jsource]\n",
    "    while any(Q)\n",
    "        umin = Inf\n",
    "        ui = 1\n",
    "        uj = 1\n",
    "        for i = 1:size(A)[1]\n",
    "            for j = 1:size(A)[2]\n",
    "                if Q[i, j] & (dist[i, j] < umin)\n",
    "                    umin = dist[i, j]\n",
    "                    ui = i\n",
    "                    uj = j\n",
    "                end\n",
    "            end\n",
    "        end\n",
    "        Q[ui,uj] = false\n",
    "        if (ui == target[1]) & (uj == target[2])\n",
    "            return dist, prev\n",
    "        end\n",
    "        for (vi, vj) = [(ui-1, uj), (ui+1, uj), (ui, uj-1), (ui, uj+1)]\n",
    "            if (vi > 0) & (vj > 0) & (vi < size(A)[1] + 1) & (vj < size(A)[2] + 1)\n",
    "                if Q[vi, vj]\n",
    "                    alt = dist[ui,uj] + A[vi,vj]\n",
    "                    if alt < dist[vi, vj]\n",
    "                        dist[vi, vj] = alt\n",
    "                        prev[(ui,uj)] = (vi, vj)\n",
    "                    end\n",
    "                end\n",
    "            end\n",
    "        end\n",
    "    end\n",
    "    return dist, prev\n",
    "end"
   ]
  },
  {
   "cell_type": "code",
   "execution_count": 1,
   "metadata": {},
   "outputs": [
    {
     "data": {
      "text/plain": [
       "5×5 Array{Int64,2}:\n",
       " 131  673  234  103   18\n",
       " 201   96  342  965  150\n",
       " 630  803  746  422  111\n",
       " 537  699  497  121  956\n",
       " 805  732  524   37  331"
      ]
     },
     "execution_count": 1,
     "metadata": {},
     "output_type": "execute_result"
    }
   ],
   "source": [
    "Atest = [131 673 234 103 18\n",
    "         201 96  342 965 150\n",
    "         630 803 746 422 111\n",
    "         537 699 497 121 956\n",
    "         805 732 524 37 331]"
   ]
  },
  {
   "cell_type": "code",
   "execution_count": 60,
   "metadata": {},
   "outputs": [
    {
     "data": {
      "text/plain": [
       "([131.0 804.0 … 1107.0 1125.0; 332.0 428.0 … 1735.0 1275.0; … ; 1499.0 1930.0 … 1929.0 2342.0; 2304.0 2662.0 … 1966.0 2297.0], Dict{Any,Any}((4, 2) => (5, 2),(2, 3) => (2, 4),(2, 2) => (2, 3),(4, 4) => (5, 4),(5, 4) => (5, 5),(2, 1) => (2, 2),(2, 5) => (3, 5),(3, 1) => (4, 1),(1, 4) => (1, 5),(3, 3) => (4, 3)…))"
      ]
     },
     "execution_count": 60,
     "metadata": {},
     "output_type": "execute_result"
    }
   ],
   "source": [
    "dist, prev = djikstra(Atest, (1,1), (5,5))"
   ]
  },
  {
   "cell_type": "code",
   "execution_count": 61,
   "metadata": {},
   "outputs": [
    {
     "data": {
      "text/plain": [
       "5×5 Array{Float64,2}:\n",
       "  131.0   804.0  1004.0  1107.0  1125.0\n",
       "  332.0   428.0   770.0  1735.0  1275.0\n",
       "  962.0  1231.0  1516.0  1808.0  1386.0\n",
       " 1499.0  1930.0  2013.0  1929.0  2342.0\n",
       " 2304.0  2662.0  2490.0  1966.0  2297.0"
      ]
     },
     "execution_count": 61,
     "metadata": {},
     "output_type": "execute_result"
    }
   ],
   "source": [
    "dist"
   ]
  },
  {
   "cell_type": "code",
   "execution_count": 62,
   "metadata": {},
   "outputs": [
    {
     "data": {
      "text/plain": [
       "80×80 Array{Int64,2}:\n",
       " 4445  2697  5115   718  2209  2212  …  6401  9462  3168  2758  3748  5870\n",
       " 1096    20  1318  7586  5167  2642     1908  9983   481  4187  9353  9377\n",
       " 9607  7385   521  6084  1364  8983     8635  7466  5036  9515  6385  9230\n",
       " 7206  3114  7760  1094  6150  5182     7873  8042  8434  3939  9256  2187\n",
       " 3620  8024   577  9997  7377  7682     3412   345  4778  5152  4883  7505\n",
       " 1074  5438  9008  2679  5397  5429  …  1538  5507   668  3352  2678  6942\n",
       " 4295  1176  5596  1521  3061  9868     1042  7162  5206  1232  4556  4757\n",
       "  510  3556  5377  1406  5721  4946     3212  1442  9993  3988  4930  7706\n",
       " 9444  3401  5891  9716  1228  7107     1838  6979  9132  9315   715  5048\n",
       " 3327  4030  7177  6336  9933  5296     3209  4908  9224  7409  1325  8540\n",
       " 6882  1265  1775  3648  4690   959  …  6113  8859  9370   966  8673  2442\n",
       " 7338  3423  4723  6533   848  8041     1841  4968  1172  5179  7175  3509\n",
       " 4420  1327  3560  2376  6260  2988     4181  1866  8731  7745  3744  1000\n",
       "    ⋮                             ⋮  ⋱           ⋮                        \n",
       " 4865  9912  8038  8238   782  3095     8158  6730  3748  3867  1866  7181\n",
       "  171  3771  7134  8927  4778  2913     3199  1150  1865  5386  9699  6501\n",
       " 3744  8454  6885  8277   919  1923  …  2117  4562  1130  9086  4117  6698\n",
       " 2810  2280  2331  1170  4554  4071     6201  3100  3144   163  9530  4531\n",
       " 7096  6070  1009  4988  3538  5801     9240  5395  2009  6310  2854  9255\n",
       " 8830  3145  2960  9615  8220  6061     7526  2582  4327  7725  3503  2631\n",
       " 2738  9323   721  7434  1453  6294     9844  8291  9199  7101  3391  8914\n",
       " 6044  2928  9332  3328  8588   447  …  7486  8657  8228  9635  6932  4864\n",
       " 8478  4777  6334  4678  7476  4963     4240  2313  5514  3022  1040  9738\n",
       " 2265  8192  1763  1369  8469  8789     6394   391  7659  7456  5128  5294\n",
       " 2132  8992  8160  5782  4420  3371     2739  6522  3765  5634  1113  5789\n",
       " 5304  5499   564  2801   679  2653     4563  6842  5432  2751  3406  7981"
      ]
     },
     "execution_count": 62,
     "metadata": {},
     "output_type": "execute_result"
    }
   ],
   "source": [
    "using DelimitedFiles\n",
    "A = readdlm(\"p081_matrix.txt\", ',', Int, '\\n')"
   ]
  },
  {
   "cell_type": "code",
   "execution_count": 64,
   "metadata": {},
   "outputs": [
    {
     "data": {
      "text/plain": [
       "([4445.0 7142.0 … 268595.0 274465.0; 5541.0 5561.0 … 272461.0 281838.0; … ; 308814.0 314744.0 … 413798.0 419587.0; 314118.0 311987.0 … 417204.0 425185.0], Dict{Any,Any}((58, 9) => (59, 9),(64, 20) => (64, 21),(76, 69) => (77, 69),(65, 20) => (65, 21),(41, 34) => (41, 35),(32, 65) => (32, 66),(56, 55) => (57, 55),(16, 73) => (16, 74),(16, 67) => (16, 68),(57, 62) => (57, 63)…))"
      ]
     },
     "execution_count": 64,
     "metadata": {},
     "output_type": "execute_result"
    }
   ],
   "source": [
    "dist, prev = djikstra(A, (1,1), (80,80))"
   ]
  },
  {
   "cell_type": "code",
   "execution_count": 66,
   "metadata": {},
   "outputs": [
    {
     "data": {
      "text/plain": [
       "425185.0"
      ]
     },
     "execution_count": 66,
     "metadata": {},
     "output_type": "execute_result"
    }
   ],
   "source": [
    "dist[end,end]"
   ]
  },
  {
   "cell_type": "code",
   "execution_count": null,
   "metadata": {},
   "outputs": [],
   "source": []
  }
 ],
 "metadata": {
  "kernelspec": {
   "display_name": "Julia 1.3.1",
   "language": "julia",
   "name": "julia-1.3"
  },
  "language_info": {
   "file_extension": ".jl",
   "mimetype": "application/julia",
   "name": "julia",
   "version": "1.3.1"
  }
 },
 "nbformat": 4,
 "nbformat_minor": 4
}
