{
 "cells": [
  {
   "cell_type": "markdown",
   "metadata": {},
   "source": [
    "## Problem 91: Right triangles with integer coordinates\n"
   ]
  },
  {
   "cell_type": "code",
   "execution_count": 107,
   "metadata": {},
   "outputs": [
    {
     "data": {
      "text/plain": [
       "isrighttriangle (generic function with 1 method)"
      ]
     },
     "execution_count": 107,
     "metadata": {},
     "output_type": "execute_result"
    }
   ],
   "source": [
    "function isrighttriangle(sides)\n",
    "    sort!(sides)\n",
    "    if abs(sides[1]^2 + sides[2]^2 - sides[3]^2) < 1e-10\n",
    "        return true\n",
    "    else\n",
    "        return false\n",
    "    end\n",
    "\n",
    "end"
   ]
  },
  {
   "cell_type": "code",
   "execution_count": 140,
   "metadata": {},
   "outputs": [
    {
     "data": {
      "text/plain": [
       "runit (generic function with 1 method)"
      ]
     },
     "execution_count": 140,
     "metadata": {},
     "output_type": "execute_result"
    }
   ],
   "source": [
    "function runit(xymax)\n",
    "    points = ((x,y) for x = 0:xymax for y = 0:xymax if !((x == 0) & (y == 0)))\n",
    "    righttriangles = []\n",
    "    visited = Dict()\n",
    "    for p in points\n",
    "        for q in points\n",
    "            if (q[1] >= p[1])\n",
    "                s1 = sqrt(p[1]^2 + p[2]^2)\n",
    "                s2 = sqrt(q[1]^2 + q[2]^2)\n",
    "                s3 = sqrt((p[1] - q[1])^2 + (p[2] - q[2])^2)\n",
    "                sides = [s1, s2, s3]\n",
    "                if !(any(sides .== 0)) & isrighttriangle(sides)\n",
    "                    if !(haskey(visited, (p,q)) | haskey(visited, (q,p)))\n",
    "                        visited[(p,q)] = true\n",
    "                        push!(righttriangles, (p,q))\n",
    "                    end\n",
    "                end\n",
    "            end\n",
    "        end\n",
    "    end\n",
    "    return length(righttriangles)\n",
    "end"
   ]
  },
  {
   "cell_type": "code",
   "execution_count": 164,
   "metadata": {},
   "outputs": [],
   "source": [
    "t = []\n",
    "nn = 1:50\n",
    "for n = nn\n",
    "    push!(t, @elapsed runit(n))\n",
    "end"
   ]
  },
  {
   "cell_type": "code",
   "execution_count": 154,
   "metadata": {},
   "outputs": [
    {
     "name": "stderr",
     "output_type": "stream",
     "text": [
      "┌ Info: Precompiling Plots [91a5bcdd-55d7-5caf-9e0b-520d859cae80]\n",
      "└ @ Base loading.jl:1278\n"
     ]
    }
   ],
   "source": [
    "using Plots"
   ]
  },
  {
   "cell_type": "code",
   "execution_count": 168,
   "metadata": {},
   "outputs": [
    {
     "data": {
      "image/svg+xml": [
       "<?xml version=\"1.0\" encoding=\"utf-8\"?>\n",
       "<svg xmlns=\"http://www.w3.org/2000/svg\" xmlns:xlink=\"http://www.w3.org/1999/xlink\" width=\"600\" height=\"400\" viewBox=\"0 0 2400 1600\">\n",
       "<defs>\n",
       "  <clipPath id=\"clip640\">\n",
       "    <rect x=\"0\" y=\"0\" width=\"2400\" height=\"1600\"/>\n",
       "  </clipPath>\n",
       "</defs>\n",
       "<path clip-path=\"url(#clip640)\" d=\"\n",
       "M0 1600 L2400 1600 L2400 0 L0 0  Z\n",
       "  \" fill=\"#ffffff\" fill-rule=\"evenodd\" fill-opacity=\"1\"/>\n",
       "<defs>\n",
       "  <clipPath id=\"clip641\">\n",
       "    <rect x=\"480\" y=\"0\" width=\"1681\" height=\"1600\"/>\n",
       "  </clipPath>\n",
       "</defs>\n",
       "<path clip-path=\"url(#clip640)\" d=\"\n",
       "M148.334 1486.45 L2352.76 1486.45 L2352.76 47.2441 L148.334 47.2441  Z\n",
       "  \" fill=\"#ffffff\" fill-rule=\"evenodd\" fill-opacity=\"1\"/>\n",
       "<defs>\n",
       "  <clipPath id=\"clip642\">\n",
       "    <rect x=\"148\" y=\"47\" width=\"2205\" height=\"1440\"/>\n",
       "  </clipPath>\n",
       "</defs>\n",
       "<polyline clip-path=\"url(#clip642)\" style=\"stroke:#000000; stroke-width:2; stroke-opacity:0.1; fill:none\" points=\"\n",
       "  168.282,1486.45 168.282,47.2441 \n",
       "  \"/>\n",
       "<polyline clip-path=\"url(#clip642)\" style=\"stroke:#000000; stroke-width:2; stroke-opacity:0.1; fill:none\" points=\"\n",
       "  592.699,1486.45 592.699,47.2441 \n",
       "  \"/>\n",
       "<polyline clip-path=\"url(#clip642)\" style=\"stroke:#000000; stroke-width:2; stroke-opacity:0.1; fill:none\" points=\"\n",
       "  1017.12,1486.45 1017.12,47.2441 \n",
       "  \"/>\n",
       "<polyline clip-path=\"url(#clip642)\" style=\"stroke:#000000; stroke-width:2; stroke-opacity:0.1; fill:none\" points=\"\n",
       "  1441.53,1486.45 1441.53,47.2441 \n",
       "  \"/>\n",
       "<polyline clip-path=\"url(#clip642)\" style=\"stroke:#000000; stroke-width:2; stroke-opacity:0.1; fill:none\" points=\"\n",
       "  1865.95,1486.45 1865.95,47.2441 \n",
       "  \"/>\n",
       "<polyline clip-path=\"url(#clip642)\" style=\"stroke:#000000; stroke-width:2; stroke-opacity:0.1; fill:none\" points=\"\n",
       "  2290.37,1486.45 2290.37,47.2441 \n",
       "  \"/>\n",
       "<polyline clip-path=\"url(#clip640)\" style=\"stroke:#000000; stroke-width:4; stroke-opacity:1; fill:none\" points=\"\n",
       "  148.334,1486.45 2352.76,1486.45 \n",
       "  \"/>\n",
       "<polyline clip-path=\"url(#clip640)\" style=\"stroke:#000000; stroke-width:4; stroke-opacity:1; fill:none\" points=\"\n",
       "  168.282,1486.45 168.282,1469.18 \n",
       "  \"/>\n",
       "<polyline clip-path=\"url(#clip640)\" style=\"stroke:#000000; stroke-width:4; stroke-opacity:1; fill:none\" points=\"\n",
       "  592.699,1486.45 592.699,1469.18 \n",
       "  \"/>\n",
       "<polyline clip-path=\"url(#clip640)\" style=\"stroke:#000000; stroke-width:4; stroke-opacity:1; fill:none\" points=\"\n",
       "  1017.12,1486.45 1017.12,1469.18 \n",
       "  \"/>\n",
       "<polyline clip-path=\"url(#clip640)\" style=\"stroke:#000000; stroke-width:4; stroke-opacity:1; fill:none\" points=\"\n",
       "  1441.53,1486.45 1441.53,1469.18 \n",
       "  \"/>\n",
       "<polyline clip-path=\"url(#clip640)\" style=\"stroke:#000000; stroke-width:4; stroke-opacity:1; fill:none\" points=\"\n",
       "  1865.95,1486.45 1865.95,1469.18 \n",
       "  \"/>\n",
       "<polyline clip-path=\"url(#clip640)\" style=\"stroke:#000000; stroke-width:4; stroke-opacity:1; fill:none\" points=\"\n",
       "  2290.37,1486.45 2290.37,1469.18 \n",
       "  \"/>\n",
       "<path clip-path=\"url(#clip640)\" d=\"M 0 0 M168.282 1515.64 Q164.671 1515.64 162.842 1519.2 Q161.037 1522.75 161.037 1529.87 Q161.037 1536.98 162.842 1540.55 Q164.671 1544.09 168.282 1544.09 Q171.916 1544.09 173.722 1540.55 Q175.55 1536.98 175.55 1529.87 Q175.55 1522.75 173.722 1519.2 Q171.916 1515.64 168.282 1515.64 M168.282 1511.93 Q174.092 1511.93 177.148 1516.54 Q180.226 1521.12 180.226 1529.87 Q180.226 1538.6 177.148 1543.21 Q174.092 1547.79 168.282 1547.79 Q162.472 1547.79 159.393 1543.21 Q156.338 1538.6 156.338 1529.87 Q156.338 1521.12 159.393 1516.54 Q162.472 1511.93 168.282 1511.93 Z\" fill=\"#000000\" fill-rule=\"evenodd\" fill-opacity=\"1\" /><path clip-path=\"url(#clip640)\" d=\"M 0 0 M569.574 1543.18 L577.213 1543.18 L577.213 1516.82 L568.903 1518.49 L568.903 1514.23 L577.167 1512.56 L581.842 1512.56 L581.842 1543.18 L589.481 1543.18 L589.481 1547.12 L569.574 1547.12 L569.574 1543.18 Z\" fill=\"#000000\" fill-rule=\"evenodd\" fill-opacity=\"1\" /><path clip-path=\"url(#clip640)\" d=\"M 0 0 M604.551 1515.64 Q600.94 1515.64 599.111 1519.2 Q597.305 1522.75 597.305 1529.87 Q597.305 1536.98 599.111 1540.55 Q600.94 1544.09 604.551 1544.09 Q608.185 1544.09 609.99 1540.55 Q611.819 1536.98 611.819 1529.87 Q611.819 1522.75 609.99 1519.2 Q608.185 1515.64 604.551 1515.64 M604.551 1511.93 Q610.361 1511.93 613.416 1516.54 Q616.495 1521.12 616.495 1529.87 Q616.495 1538.6 613.416 1543.21 Q610.361 1547.79 604.551 1547.79 Q598.741 1547.79 595.662 1543.21 Q592.606 1538.6 592.606 1529.87 Q592.606 1521.12 595.662 1516.54 Q598.741 1511.93 604.551 1511.93 Z\" fill=\"#000000\" fill-rule=\"evenodd\" fill-opacity=\"1\" /><path clip-path=\"url(#clip640)\" d=\"M 0 0 M998.262 1543.18 L1014.58 1543.18 L1014.58 1547.12 L992.637 1547.12 L992.637 1543.18 Q995.299 1540.43 999.882 1535.8 Q1004.49 1531.15 1005.67 1529.81 Q1007.91 1527.28 1008.79 1525.55 Q1009.7 1523.79 1009.7 1522.1 Q1009.7 1519.34 1007.75 1517.61 Q1005.83 1515.87 1002.73 1515.87 Q1000.53 1515.87 998.077 1516.63 Q995.646 1517.4 992.868 1518.95 L992.868 1514.23 Q995.692 1513.09 998.146 1512.51 Q1000.6 1511.93 1002.64 1511.93 Q1008.01 1511.93 1011.2 1514.62 Q1014.4 1517.31 1014.4 1521.8 Q1014.4 1523.93 1013.59 1525.85 Q1012.8 1527.74 1010.69 1530.34 Q1010.11 1531.01 1007.01 1534.23 Q1003.91 1537.42 998.262 1543.18 Z\" fill=\"#000000\" fill-rule=\"evenodd\" fill-opacity=\"1\" /><path clip-path=\"url(#clip640)\" d=\"M 0 0 M1029.65 1515.64 Q1026.04 1515.64 1024.21 1519.2 Q1022.41 1522.75 1022.41 1529.87 Q1022.41 1536.98 1024.21 1540.55 Q1026.04 1544.09 1029.65 1544.09 Q1033.28 1544.09 1035.09 1540.55 Q1036.92 1536.98 1036.92 1529.87 Q1036.92 1522.75 1035.09 1519.2 Q1033.28 1515.64 1029.65 1515.64 M1029.65 1511.93 Q1035.46 1511.93 1038.52 1516.54 Q1041.59 1521.12 1041.59 1529.87 Q1041.59 1538.6 1038.52 1543.21 Q1035.46 1547.79 1029.65 1547.79 Q1023.84 1547.79 1020.76 1543.21 Q1017.71 1538.6 1017.71 1529.87 Q1017.71 1521.12 1020.76 1516.54 Q1023.84 1511.93 1029.65 1511.93 Z\" fill=\"#000000\" fill-rule=\"evenodd\" fill-opacity=\"1\" /><path clip-path=\"url(#clip640)\" d=\"M 0 0 M1432.27 1528.49 Q1435.63 1529.2 1437.51 1531.47 Q1439.4 1533.74 1439.4 1537.07 Q1439.4 1542.19 1435.88 1544.99 Q1432.37 1547.79 1425.88 1547.79 Q1423.71 1547.79 1421.39 1547.35 Q1419.1 1546.93 1416.65 1546.08 L1416.65 1541.56 Q1418.59 1542.7 1420.91 1543.28 Q1423.22 1543.86 1425.75 1543.86 Q1430.14 1543.86 1432.44 1542.12 Q1434.75 1540.38 1434.75 1537.07 Q1434.75 1534.02 1432.6 1532.31 Q1430.47 1530.57 1426.65 1530.57 L1422.62 1530.57 L1422.62 1526.73 L1426.83 1526.73 Q1430.28 1526.73 1432.11 1525.36 Q1433.94 1523.97 1433.94 1521.38 Q1433.94 1518.72 1432.04 1517.31 Q1430.17 1515.87 1426.65 1515.87 Q1424.73 1515.87 1422.53 1516.29 Q1420.33 1516.7 1417.69 1517.58 L1417.69 1513.42 Q1420.35 1512.68 1422.67 1512.31 Q1425.01 1511.93 1427.07 1511.93 Q1432.39 1511.93 1435.49 1514.37 Q1438.59 1516.77 1438.59 1520.89 Q1438.59 1523.76 1436.95 1525.75 Q1435.31 1527.72 1432.27 1528.49 Z\" fill=\"#000000\" fill-rule=\"evenodd\" fill-opacity=\"1\" /><path clip-path=\"url(#clip640)\" d=\"M 0 0 M1454.47 1515.64 Q1450.86 1515.64 1449.03 1519.2 Q1447.23 1522.75 1447.23 1529.87 Q1447.23 1536.98 1449.03 1540.55 Q1450.86 1544.09 1454.47 1544.09 Q1458.11 1544.09 1459.91 1540.55 Q1461.74 1536.98 1461.74 1529.87 Q1461.74 1522.75 1459.91 1519.2 Q1458.11 1515.64 1454.47 1515.64 M1454.47 1511.93 Q1460.28 1511.93 1463.34 1516.54 Q1466.42 1521.12 1466.42 1529.87 Q1466.42 1538.6 1463.34 1543.21 Q1460.28 1547.79 1454.47 1547.79 Q1448.66 1547.79 1445.58 1543.21 Q1442.53 1538.6 1442.53 1529.87 Q1442.53 1521.12 1445.58 1516.54 Q1448.66 1511.93 1454.47 1511.93 Z\" fill=\"#000000\" fill-rule=\"evenodd\" fill-opacity=\"1\" /><path clip-path=\"url(#clip640)\" d=\"M 0 0 M1855.45 1516.63 L1843.65 1535.08 L1855.45 1535.08 L1855.45 1516.63 M1854.23 1512.56 L1860.1 1512.56 L1860.1 1535.08 L1865.04 1535.08 L1865.04 1538.97 L1860.1 1538.97 L1860.1 1547.12 L1855.45 1547.12 L1855.45 1538.97 L1839.85 1538.97 L1839.85 1534.46 L1854.23 1512.56 Z\" fill=\"#000000\" fill-rule=\"evenodd\" fill-opacity=\"1\" /><path clip-path=\"url(#clip640)\" d=\"M 0 0 M1880.1 1515.64 Q1876.49 1515.64 1874.66 1519.2 Q1872.86 1522.75 1872.86 1529.87 Q1872.86 1536.98 1874.66 1540.55 Q1876.49 1544.09 1880.1 1544.09 Q1883.74 1544.09 1885.54 1540.55 Q1887.37 1536.98 1887.37 1529.87 Q1887.37 1522.75 1885.54 1519.2 Q1883.74 1515.64 1880.1 1515.64 M1880.1 1511.93 Q1885.91 1511.93 1888.97 1516.54 Q1892.05 1521.12 1892.05 1529.87 Q1892.05 1538.6 1888.97 1543.21 Q1885.91 1547.79 1880.1 1547.79 Q1874.29 1547.79 1871.22 1543.21 Q1868.16 1538.6 1868.16 1529.87 Q1868.16 1521.12 1871.22 1516.54 Q1874.29 1511.93 1880.1 1511.93 Z\" fill=\"#000000\" fill-rule=\"evenodd\" fill-opacity=\"1\" /><path clip-path=\"url(#clip640)\" d=\"M 0 0 M2267.14 1512.56 L2285.49 1512.56 L2285.49 1516.5 L2271.42 1516.5 L2271.42 1524.97 Q2272.44 1524.62 2273.46 1524.46 Q2274.48 1524.27 2275.49 1524.27 Q2281.28 1524.27 2284.66 1527.44 Q2288.04 1530.62 2288.04 1536.03 Q2288.04 1541.61 2284.57 1544.71 Q2281.1 1547.79 2274.78 1547.79 Q2272.6 1547.79 2270.33 1547.42 Q2268.09 1547.05 2265.68 1546.31 L2265.68 1541.61 Q2267.76 1542.74 2269.98 1543.3 Q2272.21 1543.86 2274.68 1543.86 Q2278.69 1543.86 2281.03 1541.75 Q2283.36 1539.64 2283.36 1536.03 Q2283.36 1532.42 2281.03 1530.31 Q2278.69 1528.21 2274.68 1528.21 Q2272.81 1528.21 2270.93 1528.62 Q2269.08 1529.04 2267.14 1529.92 L2267.14 1512.56 Z\" fill=\"#000000\" fill-rule=\"evenodd\" fill-opacity=\"1\" /><path clip-path=\"url(#clip640)\" d=\"M 0 0 M2303.11 1515.64 Q2299.5 1515.64 2297.67 1519.2 Q2295.86 1522.75 2295.86 1529.87 Q2295.86 1536.98 2297.67 1540.55 Q2299.5 1544.09 2303.11 1544.09 Q2306.74 1544.09 2308.55 1540.55 Q2310.38 1536.98 2310.38 1529.87 Q2310.38 1522.75 2308.55 1519.2 Q2306.74 1515.64 2303.11 1515.64 M2303.11 1511.93 Q2308.92 1511.93 2311.98 1516.54 Q2315.05 1521.12 2315.05 1529.87 Q2315.05 1538.6 2311.98 1543.21 Q2308.92 1547.79 2303.11 1547.79 Q2297.3 1547.79 2294.22 1543.21 Q2291.17 1538.6 2291.17 1529.87 Q2291.17 1521.12 2294.22 1516.54 Q2297.3 1511.93 2303.11 1511.93 Z\" fill=\"#000000\" fill-rule=\"evenodd\" fill-opacity=\"1\" /><polyline clip-path=\"url(#clip642)\" style=\"stroke:#000000; stroke-width:2; stroke-opacity:0.1; fill:none\" points=\"\n",
       "  148.334,1445.74 2352.76,1445.74 \n",
       "  \"/>\n",
       "<polyline clip-path=\"url(#clip642)\" style=\"stroke:#000000; stroke-width:2; stroke-opacity:0.1; fill:none\" points=\"\n",
       "  148.334,1180.19 2352.76,1180.19 \n",
       "  \"/>\n",
       "<polyline clip-path=\"url(#clip642)\" style=\"stroke:#000000; stroke-width:2; stroke-opacity:0.1; fill:none\" points=\"\n",
       "  148.334,914.647 2352.76,914.647 \n",
       "  \"/>\n",
       "<polyline clip-path=\"url(#clip642)\" style=\"stroke:#000000; stroke-width:2; stroke-opacity:0.1; fill:none\" points=\"\n",
       "  148.334,649.101 2352.76,649.101 \n",
       "  \"/>\n",
       "<polyline clip-path=\"url(#clip642)\" style=\"stroke:#000000; stroke-width:2; stroke-opacity:0.1; fill:none\" points=\"\n",
       "  148.334,383.554 2352.76,383.554 \n",
       "  \"/>\n",
       "<polyline clip-path=\"url(#clip642)\" style=\"stroke:#000000; stroke-width:2; stroke-opacity:0.1; fill:none\" points=\"\n",
       "  148.334,118.008 2352.76,118.008 \n",
       "  \"/>\n",
       "<polyline clip-path=\"url(#clip640)\" style=\"stroke:#000000; stroke-width:4; stroke-opacity:1; fill:none\" points=\"\n",
       "  148.334,1486.45 148.334,47.2441 \n",
       "  \"/>\n",
       "<polyline clip-path=\"url(#clip640)\" style=\"stroke:#000000; stroke-width:4; stroke-opacity:1; fill:none\" points=\"\n",
       "  148.334,1445.74 174.787,1445.74 \n",
       "  \"/>\n",
       "<polyline clip-path=\"url(#clip640)\" style=\"stroke:#000000; stroke-width:4; stroke-opacity:1; fill:none\" points=\"\n",
       "  148.334,1180.19 174.787,1180.19 \n",
       "  \"/>\n",
       "<polyline clip-path=\"url(#clip640)\" style=\"stroke:#000000; stroke-width:4; stroke-opacity:1; fill:none\" points=\"\n",
       "  148.334,914.647 174.787,914.647 \n",
       "  \"/>\n",
       "<polyline clip-path=\"url(#clip640)\" style=\"stroke:#000000; stroke-width:4; stroke-opacity:1; fill:none\" points=\"\n",
       "  148.334,649.101 174.787,649.101 \n",
       "  \"/>\n",
       "<polyline clip-path=\"url(#clip640)\" style=\"stroke:#000000; stroke-width:4; stroke-opacity:1; fill:none\" points=\"\n",
       "  148.334,383.554 174.787,383.554 \n",
       "  \"/>\n",
       "<polyline clip-path=\"url(#clip640)\" style=\"stroke:#000000; stroke-width:4; stroke-opacity:1; fill:none\" points=\"\n",
       "  148.334,118.008 174.787,118.008 \n",
       "  \"/>\n",
       "<path clip-path=\"url(#clip640)\" d=\"M 0 0 M63.4226 1431.54 Q59.8115 1431.54 57.9828 1435.1 Q56.1773 1438.64 56.1773 1445.77 Q56.1773 1452.88 57.9828 1456.45 Q59.8115 1459.99 63.4226 1459.99 Q67.0569 1459.99 68.8624 1456.45 Q70.6911 1452.88 70.6911 1445.77 Q70.6911 1438.64 68.8624 1435.1 Q67.0569 1431.54 63.4226 1431.54 M63.4226 1427.83 Q69.2328 1427.83 72.2883 1432.44 Q75.367 1437.02 75.367 1445.77 Q75.367 1454.5 72.2883 1459.11 Q69.2328 1463.69 63.4226 1463.69 Q57.6125 1463.69 54.5338 1459.11 Q51.4782 1454.5 51.4782 1445.77 Q51.4782 1437.02 54.5338 1432.44 Q57.6125 1427.83 63.4226 1427.83 Z\" fill=\"#000000\" fill-rule=\"evenodd\" fill-opacity=\"1\" /><path clip-path=\"url(#clip640)\" d=\"M 0 0 M80.4364 1457.14 L85.3206 1457.14 L85.3206 1463.02 L80.4364 1463.02 L80.4364 1457.14 Z\" fill=\"#000000\" fill-rule=\"evenodd\" fill-opacity=\"1\" /><path clip-path=\"url(#clip640)\" d=\"M 0 0 M100.39 1431.54 Q96.7789 1431.54 94.9502 1435.1 Q93.1447 1438.64 93.1447 1445.77 Q93.1447 1452.88 94.9502 1456.45 Q96.7789 1459.99 100.39 1459.99 Q104.024 1459.99 105.83 1456.45 Q107.658 1452.88 107.658 1445.77 Q107.658 1438.64 105.83 1435.1 Q104.024 1431.54 100.39 1431.54 M100.39 1427.83 Q106.2 1427.83 109.256 1432.44 Q112.334 1437.02 112.334 1445.77 Q112.334 1454.5 109.256 1459.11 Q106.2 1463.69 100.39 1463.69 Q94.5799 1463.69 91.5012 1459.11 Q88.4456 1454.5 88.4456 1445.77 Q88.4456 1437.02 91.5012 1432.44 Q94.5799 1427.83 100.39 1427.83 Z\" fill=\"#000000\" fill-rule=\"evenodd\" fill-opacity=\"1\" /><path clip-path=\"url(#clip640)\" d=\"M 0 0 M64.6495 1165.99 Q61.0384 1165.99 59.2097 1169.56 Q57.4041 1173.1 57.4041 1180.23 Q57.4041 1187.33 59.2097 1190.9 Q61.0384 1194.44 64.6495 1194.44 Q68.2837 1194.44 70.0892 1190.9 Q71.9179 1187.33 71.9179 1180.23 Q71.9179 1173.1 70.0892 1169.56 Q68.2837 1165.99 64.6495 1165.99 M64.6495 1162.29 Q70.4596 1162.29 73.5152 1166.89 Q76.5938 1171.48 76.5938 1180.23 Q76.5938 1188.95 73.5152 1193.56 Q70.4596 1198.14 64.6495 1198.14 Q58.8393 1198.14 55.7606 1193.56 Q52.7051 1188.95 52.7051 1180.23 Q52.7051 1171.48 55.7606 1166.89 Q58.8393 1162.29 64.6495 1162.29 Z\" fill=\"#000000\" fill-rule=\"evenodd\" fill-opacity=\"1\" /><path clip-path=\"url(#clip640)\" d=\"M 0 0 M81.6633 1191.59 L86.5475 1191.59 L86.5475 1197.47 L81.6633 1197.47 L81.6633 1191.59 Z\" fill=\"#000000\" fill-rule=\"evenodd\" fill-opacity=\"1\" /><path clip-path=\"url(#clip640)\" d=\"M 0 0 M92.4271 1193.54 L100.066 1193.54 L100.066 1167.17 L91.7558 1168.84 L91.7558 1164.58 L100.02 1162.91 L104.696 1162.91 L104.696 1193.54 L112.334 1193.54 L112.334 1197.47 L92.4271 1197.47 L92.4271 1193.54 Z\" fill=\"#000000\" fill-rule=\"evenodd\" fill-opacity=\"1\" /><path clip-path=\"url(#clip640)\" d=\"M 0 0 M65.0198 900.446 Q61.4087 900.446 59.58 904.01 Q57.7745 907.552 57.7745 914.682 Q57.7745 921.788 59.58 925.353 Q61.4087 928.895 65.0198 928.895 Q68.6541 928.895 70.4596 925.353 Q72.2883 921.788 72.2883 914.682 Q72.2883 907.552 70.4596 904.01 Q68.6541 900.446 65.0198 900.446 M65.0198 896.742 Q70.83 896.742 73.8855 901.348 Q76.9642 905.932 76.9642 914.682 Q76.9642 923.408 73.8855 928.015 Q70.83 932.598 65.0198 932.598 Q59.2097 932.598 56.131 928.015 Q53.0754 923.408 53.0754 914.682 Q53.0754 905.932 56.131 901.348 Q59.2097 896.742 65.0198 896.742 Z\" fill=\"#000000\" fill-rule=\"evenodd\" fill-opacity=\"1\" /><path clip-path=\"url(#clip640)\" d=\"M 0 0 M82.0336 926.047 L86.9179 926.047 L86.9179 931.927 L82.0336 931.927 L82.0336 926.047 Z\" fill=\"#000000\" fill-rule=\"evenodd\" fill-opacity=\"1\" /><path clip-path=\"url(#clip640)\" d=\"M 0 0 M96.015 927.992 L112.334 927.992 L112.334 931.927 L90.3901 931.927 L90.3901 927.992 Q93.0521 925.237 97.6354 920.608 Q102.242 915.955 103.422 914.612 Q105.668 912.089 106.547 910.353 Q107.45 908.594 107.45 906.904 Q107.45 904.149 105.506 902.413 Q103.584 900.677 100.483 900.677 Q98.2835 900.677 95.8298 901.441 Q93.3993 902.205 90.6215 903.756 L90.6215 899.034 Q93.4456 897.899 95.8993 897.321 Q98.353 896.742 100.39 896.742 Q105.76 896.742 108.955 899.427 Q112.149 902.112 112.149 906.603 Q112.149 908.733 111.339 910.654 Q110.552 912.552 108.446 915.145 Q107.867 915.816 104.765 919.033 Q101.663 922.228 96.015 927.992 Z\" fill=\"#000000\" fill-rule=\"evenodd\" fill-opacity=\"1\" /><path clip-path=\"url(#clip640)\" d=\"M 0 0 M64.0708 634.899 Q60.4597 634.899 58.631 638.464 Q56.8254 642.006 56.8254 649.135 Q56.8254 656.242 58.631 659.807 Q60.4597 663.348 64.0708 663.348 Q67.705 663.348 69.5105 659.807 Q71.3392 656.242 71.3392 649.135 Q71.3392 642.006 69.5105 638.464 Q67.705 634.899 64.0708 634.899 M64.0708 631.196 Q69.8809 631.196 72.9365 635.802 Q76.0151 640.385 76.0151 649.135 Q76.0151 657.862 72.9365 662.469 Q69.8809 667.052 64.0708 667.052 Q58.2606 667.052 55.1819 662.469 Q52.1264 657.862 52.1264 649.135 Q52.1264 640.385 55.1819 635.802 Q58.2606 631.196 64.0708 631.196 Z\" fill=\"#000000\" fill-rule=\"evenodd\" fill-opacity=\"1\" /><path clip-path=\"url(#clip640)\" d=\"M 0 0 M81.0846 660.501 L85.9688 660.501 L85.9688 666.381 L81.0846 666.381 L81.0846 660.501 Z\" fill=\"#000000\" fill-rule=\"evenodd\" fill-opacity=\"1\" /><path clip-path=\"url(#clip640)\" d=\"M 0 0 M105.205 647.746 Q108.561 648.464 110.436 650.733 Q112.334 653.001 112.334 656.334 Q112.334 661.45 108.816 664.251 Q105.297 667.052 98.8159 667.052 Q96.64 667.052 94.3252 666.612 Q92.0336 666.195 89.5799 665.339 L89.5799 660.825 Q91.5243 661.959 93.8391 662.538 Q96.1539 663.117 98.6771 663.117 Q103.075 663.117 105.367 661.381 Q107.682 659.645 107.682 656.334 Q107.682 653.279 105.529 651.566 Q103.399 649.83 99.5798 649.83 L95.5521 649.83 L95.5521 645.987 L99.765 645.987 Q103.214 645.987 105.043 644.621 Q106.871 643.233 106.871 640.64 Q106.871 637.978 104.973 636.566 Q103.098 635.131 99.5798 635.131 Q97.6585 635.131 95.4595 635.547 Q93.2604 635.964 90.6215 636.844 L90.6215 632.677 Q93.2836 631.936 95.5984 631.566 Q97.9363 631.196 99.9965 631.196 Q105.321 631.196 108.422 633.626 Q111.524 636.034 111.524 640.154 Q111.524 643.024 109.881 645.015 Q108.237 646.983 105.205 647.746 Z\" fill=\"#000000\" fill-rule=\"evenodd\" fill-opacity=\"1\" /><path clip-path=\"url(#clip640)\" d=\"M 0 0 M62.9365 369.353 Q59.3254 369.353 57.4967 372.918 Q55.6912 376.459 55.6912 383.589 Q55.6912 390.695 57.4967 394.26 Q59.3254 397.802 62.9365 397.802 Q66.5707 397.802 68.3763 394.26 Q70.205 390.695 70.205 383.589 Q70.205 376.459 68.3763 372.918 Q66.5707 369.353 62.9365 369.353 M62.9365 365.649 Q68.7467 365.649 71.8022 370.256 Q74.8809 374.839 74.8809 383.589 Q74.8809 392.316 71.8022 396.922 Q68.7467 401.506 62.9365 401.506 Q57.1264 401.506 54.0477 396.922 Q50.9921 392.316 50.9921 383.589 Q50.9921 374.839 54.0477 370.256 Q57.1264 365.649 62.9365 365.649 Z\" fill=\"#000000\" fill-rule=\"evenodd\" fill-opacity=\"1\" /><path clip-path=\"url(#clip640)\" d=\"M 0 0 M79.9503 394.955 L84.8345 394.955 L84.8345 400.834 L79.9503 400.834 L79.9503 394.955 Z\" fill=\"#000000\" fill-rule=\"evenodd\" fill-opacity=\"1\" /><path clip-path=\"url(#clip640)\" d=\"M 0 0 M102.751 370.348 L90.9456 388.797 L102.751 388.797 L102.751 370.348 M101.524 366.274 L107.404 366.274 L107.404 388.797 L112.334 388.797 L112.334 392.686 L107.404 392.686 L107.404 400.834 L102.751 400.834 L102.751 392.686 L87.1493 392.686 L87.1493 388.172 L101.524 366.274 Z\" fill=\"#000000\" fill-rule=\"evenodd\" fill-opacity=\"1\" /><path clip-path=\"url(#clip640)\" d=\"M 0 0 M64.418 103.807 Q60.8069 103.807 58.9782 107.371 Q57.1726 110.913 57.1726 118.043 Q57.1726 125.149 58.9782 128.714 Q60.8069 132.256 64.418 132.256 Q68.0522 132.256 69.8578 128.714 Q71.6865 125.149 71.6865 118.043 Q71.6865 110.913 69.8578 107.371 Q68.0522 103.807 64.418 103.807 M64.418 100.103 Q70.2281 100.103 73.2837 104.709 Q76.3624 109.293 76.3624 118.043 Q76.3624 126.769 73.2837 131.376 Q70.2281 135.959 64.418 135.959 Q58.6078 135.959 55.5291 131.376 Q52.4736 126.769 52.4736 118.043 Q52.4736 109.293 55.5291 104.709 Q58.6078 100.103 64.418 100.103 Z\" fill=\"#000000\" fill-rule=\"evenodd\" fill-opacity=\"1\" /><path clip-path=\"url(#clip640)\" d=\"M 0 0 M81.4318 129.408 L86.316 129.408 L86.316 135.288 L81.4318 135.288 L81.4318 129.408 Z\" fill=\"#000000\" fill-rule=\"evenodd\" fill-opacity=\"1\" /><path clip-path=\"url(#clip640)\" d=\"M 0 0 M91.4317 100.728 L109.788 100.728 L109.788 104.663 L95.7141 104.663 L95.7141 113.135 Q96.7326 112.788 97.7511 112.626 Q98.7696 112.441 99.7882 112.441 Q105.575 112.441 108.955 115.612 Q112.334 118.783 112.334 124.2 Q112.334 129.779 108.862 132.881 Q105.39 135.959 99.0706 135.959 Q96.8947 135.959 94.6262 135.589 Q92.3808 135.219 89.9734 134.478 L89.9734 129.779 Q92.0567 130.913 94.2789 131.469 Q96.5011 132.024 98.978 132.024 Q102.983 132.024 105.321 129.918 Q107.658 127.811 107.658 124.2 Q107.658 120.589 105.321 118.483 Q102.983 116.376 98.978 116.376 Q97.103 116.376 95.228 116.793 Q93.3762 117.209 91.4317 118.089 L91.4317 100.728 Z\" fill=\"#000000\" fill-rule=\"evenodd\" fill-opacity=\"1\" /><polyline clip-path=\"url(#clip642)\" style=\"stroke:#009af9; stroke-width:4; stroke-opacity:1; fill:none\" points=\"\n",
       "  210.724,1445.72 253.165,1445.7 295.607,1445.62 338.049,1445.53 380.49,1445.38 422.932,1445.07 465.374,1444.74 507.816,1443.92 550.257,1443.59 592.699,1442.66 \n",
       "  635.141,1441.27 677.582,1440.33 720.024,1414.95 762.466,1436.95 804.907,1434.94 847.349,1423.91 889.791,1398.64 932.232,1401.78 974.674,1406.75 1017.12,1365.98 \n",
       "  1059.56,1385.1 1102,1377.79 1144.44,1378.9 1186.88,1357.08 1229.32,1349.29 1271.77,1313.47 1314.21,1317.69 1356.65,1302.46 1399.09,1286.49 1441.53,1254.52 \n",
       "  1483.97,1224.35 1526.42,1202.06 1568.86,1164.3 1611.3,1134.55 1653.74,1071.77 1696.18,1038.02 1738.62,1008.1 1781.07,954.006 1823.51,874.877 1865.95,867.411 \n",
       "  1908.39,771.58 1950.83,736.94 1993.27,495.7 2035.72,558.261 2078.16,545.094 2120.6,472.555 2163.04,298.227 2205.48,305.725 2247.92,189.016 2290.37,87.9763 \n",
       "  \n",
       "  \"/>\n",
       "<circle clip-path=\"url(#clip642)\" cx=\"210.724\" cy=\"1445.72\" r=\"14\" fill=\"#009af9\" fill-rule=\"evenodd\" fill-opacity=\"1\" stroke=\"#000000\" stroke-opacity=\"1\" stroke-width=\"3.2\"/>\n",
       "<circle clip-path=\"url(#clip642)\" cx=\"253.165\" cy=\"1445.7\" r=\"14\" fill=\"#009af9\" fill-rule=\"evenodd\" fill-opacity=\"1\" stroke=\"#000000\" stroke-opacity=\"1\" stroke-width=\"3.2\"/>\n",
       "<circle clip-path=\"url(#clip642)\" cx=\"295.607\" cy=\"1445.62\" r=\"14\" fill=\"#009af9\" fill-rule=\"evenodd\" fill-opacity=\"1\" stroke=\"#000000\" stroke-opacity=\"1\" stroke-width=\"3.2\"/>\n",
       "<circle clip-path=\"url(#clip642)\" cx=\"338.049\" cy=\"1445.53\" r=\"14\" fill=\"#009af9\" fill-rule=\"evenodd\" fill-opacity=\"1\" stroke=\"#000000\" stroke-opacity=\"1\" stroke-width=\"3.2\"/>\n",
       "<circle clip-path=\"url(#clip642)\" cx=\"380.49\" cy=\"1445.38\" r=\"14\" fill=\"#009af9\" fill-rule=\"evenodd\" fill-opacity=\"1\" stroke=\"#000000\" stroke-opacity=\"1\" stroke-width=\"3.2\"/>\n",
       "<circle clip-path=\"url(#clip642)\" cx=\"422.932\" cy=\"1445.07\" r=\"14\" fill=\"#009af9\" fill-rule=\"evenodd\" fill-opacity=\"1\" stroke=\"#000000\" stroke-opacity=\"1\" stroke-width=\"3.2\"/>\n",
       "<circle clip-path=\"url(#clip642)\" cx=\"465.374\" cy=\"1444.74\" r=\"14\" fill=\"#009af9\" fill-rule=\"evenodd\" fill-opacity=\"1\" stroke=\"#000000\" stroke-opacity=\"1\" stroke-width=\"3.2\"/>\n",
       "<circle clip-path=\"url(#clip642)\" cx=\"507.816\" cy=\"1443.92\" r=\"14\" fill=\"#009af9\" fill-rule=\"evenodd\" fill-opacity=\"1\" stroke=\"#000000\" stroke-opacity=\"1\" stroke-width=\"3.2\"/>\n",
       "<circle clip-path=\"url(#clip642)\" cx=\"550.257\" cy=\"1443.59\" r=\"14\" fill=\"#009af9\" fill-rule=\"evenodd\" fill-opacity=\"1\" stroke=\"#000000\" stroke-opacity=\"1\" stroke-width=\"3.2\"/>\n",
       "<circle clip-path=\"url(#clip642)\" cx=\"592.699\" cy=\"1442.66\" r=\"14\" fill=\"#009af9\" fill-rule=\"evenodd\" fill-opacity=\"1\" stroke=\"#000000\" stroke-opacity=\"1\" stroke-width=\"3.2\"/>\n",
       "<circle clip-path=\"url(#clip642)\" cx=\"635.141\" cy=\"1441.27\" r=\"14\" fill=\"#009af9\" fill-rule=\"evenodd\" fill-opacity=\"1\" stroke=\"#000000\" stroke-opacity=\"1\" stroke-width=\"3.2\"/>\n",
       "<circle clip-path=\"url(#clip642)\" cx=\"677.582\" cy=\"1440.33\" r=\"14\" fill=\"#009af9\" fill-rule=\"evenodd\" fill-opacity=\"1\" stroke=\"#000000\" stroke-opacity=\"1\" stroke-width=\"3.2\"/>\n",
       "<circle clip-path=\"url(#clip642)\" cx=\"720.024\" cy=\"1414.95\" r=\"14\" fill=\"#009af9\" fill-rule=\"evenodd\" fill-opacity=\"1\" stroke=\"#000000\" stroke-opacity=\"1\" stroke-width=\"3.2\"/>\n",
       "<circle clip-path=\"url(#clip642)\" cx=\"762.466\" cy=\"1436.95\" r=\"14\" fill=\"#009af9\" fill-rule=\"evenodd\" fill-opacity=\"1\" stroke=\"#000000\" stroke-opacity=\"1\" stroke-width=\"3.2\"/>\n",
       "<circle clip-path=\"url(#clip642)\" cx=\"804.907\" cy=\"1434.94\" r=\"14\" fill=\"#009af9\" fill-rule=\"evenodd\" fill-opacity=\"1\" stroke=\"#000000\" stroke-opacity=\"1\" stroke-width=\"3.2\"/>\n",
       "<circle clip-path=\"url(#clip642)\" cx=\"847.349\" cy=\"1423.91\" r=\"14\" fill=\"#009af9\" fill-rule=\"evenodd\" fill-opacity=\"1\" stroke=\"#000000\" stroke-opacity=\"1\" stroke-width=\"3.2\"/>\n",
       "<circle clip-path=\"url(#clip642)\" cx=\"889.791\" cy=\"1398.64\" r=\"14\" fill=\"#009af9\" fill-rule=\"evenodd\" fill-opacity=\"1\" stroke=\"#000000\" stroke-opacity=\"1\" stroke-width=\"3.2\"/>\n",
       "<circle clip-path=\"url(#clip642)\" cx=\"932.232\" cy=\"1401.78\" r=\"14\" fill=\"#009af9\" fill-rule=\"evenodd\" fill-opacity=\"1\" stroke=\"#000000\" stroke-opacity=\"1\" stroke-width=\"3.2\"/>\n",
       "<circle clip-path=\"url(#clip642)\" cx=\"974.674\" cy=\"1406.75\" r=\"14\" fill=\"#009af9\" fill-rule=\"evenodd\" fill-opacity=\"1\" stroke=\"#000000\" stroke-opacity=\"1\" stroke-width=\"3.2\"/>\n",
       "<circle clip-path=\"url(#clip642)\" cx=\"1017.12\" cy=\"1365.98\" r=\"14\" fill=\"#009af9\" fill-rule=\"evenodd\" fill-opacity=\"1\" stroke=\"#000000\" stroke-opacity=\"1\" stroke-width=\"3.2\"/>\n",
       "<circle clip-path=\"url(#clip642)\" cx=\"1059.56\" cy=\"1385.1\" r=\"14\" fill=\"#009af9\" fill-rule=\"evenodd\" fill-opacity=\"1\" stroke=\"#000000\" stroke-opacity=\"1\" stroke-width=\"3.2\"/>\n",
       "<circle clip-path=\"url(#clip642)\" cx=\"1102\" cy=\"1377.79\" r=\"14\" fill=\"#009af9\" fill-rule=\"evenodd\" fill-opacity=\"1\" stroke=\"#000000\" stroke-opacity=\"1\" stroke-width=\"3.2\"/>\n",
       "<circle clip-path=\"url(#clip642)\" cx=\"1144.44\" cy=\"1378.9\" r=\"14\" fill=\"#009af9\" fill-rule=\"evenodd\" fill-opacity=\"1\" stroke=\"#000000\" stroke-opacity=\"1\" stroke-width=\"3.2\"/>\n",
       "<circle clip-path=\"url(#clip642)\" cx=\"1186.88\" cy=\"1357.08\" r=\"14\" fill=\"#009af9\" fill-rule=\"evenodd\" fill-opacity=\"1\" stroke=\"#000000\" stroke-opacity=\"1\" stroke-width=\"3.2\"/>\n",
       "<circle clip-path=\"url(#clip642)\" cx=\"1229.32\" cy=\"1349.29\" r=\"14\" fill=\"#009af9\" fill-rule=\"evenodd\" fill-opacity=\"1\" stroke=\"#000000\" stroke-opacity=\"1\" stroke-width=\"3.2\"/>\n",
       "<circle clip-path=\"url(#clip642)\" cx=\"1271.77\" cy=\"1313.47\" r=\"14\" fill=\"#009af9\" fill-rule=\"evenodd\" fill-opacity=\"1\" stroke=\"#000000\" stroke-opacity=\"1\" stroke-width=\"3.2\"/>\n",
       "<circle clip-path=\"url(#clip642)\" cx=\"1314.21\" cy=\"1317.69\" r=\"14\" fill=\"#009af9\" fill-rule=\"evenodd\" fill-opacity=\"1\" stroke=\"#000000\" stroke-opacity=\"1\" stroke-width=\"3.2\"/>\n",
       "<circle clip-path=\"url(#clip642)\" cx=\"1356.65\" cy=\"1302.46\" r=\"14\" fill=\"#009af9\" fill-rule=\"evenodd\" fill-opacity=\"1\" stroke=\"#000000\" stroke-opacity=\"1\" stroke-width=\"3.2\"/>\n",
       "<circle clip-path=\"url(#clip642)\" cx=\"1399.09\" cy=\"1286.49\" r=\"14\" fill=\"#009af9\" fill-rule=\"evenodd\" fill-opacity=\"1\" stroke=\"#000000\" stroke-opacity=\"1\" stroke-width=\"3.2\"/>\n",
       "<circle clip-path=\"url(#clip642)\" cx=\"1441.53\" cy=\"1254.52\" r=\"14\" fill=\"#009af9\" fill-rule=\"evenodd\" fill-opacity=\"1\" stroke=\"#000000\" stroke-opacity=\"1\" stroke-width=\"3.2\"/>\n",
       "<circle clip-path=\"url(#clip642)\" cx=\"1483.97\" cy=\"1224.35\" r=\"14\" fill=\"#009af9\" fill-rule=\"evenodd\" fill-opacity=\"1\" stroke=\"#000000\" stroke-opacity=\"1\" stroke-width=\"3.2\"/>\n",
       "<circle clip-path=\"url(#clip642)\" cx=\"1526.42\" cy=\"1202.06\" r=\"14\" fill=\"#009af9\" fill-rule=\"evenodd\" fill-opacity=\"1\" stroke=\"#000000\" stroke-opacity=\"1\" stroke-width=\"3.2\"/>\n",
       "<circle clip-path=\"url(#clip642)\" cx=\"1568.86\" cy=\"1164.3\" r=\"14\" fill=\"#009af9\" fill-rule=\"evenodd\" fill-opacity=\"1\" stroke=\"#000000\" stroke-opacity=\"1\" stroke-width=\"3.2\"/>\n",
       "<circle clip-path=\"url(#clip642)\" cx=\"1611.3\" cy=\"1134.55\" r=\"14\" fill=\"#009af9\" fill-rule=\"evenodd\" fill-opacity=\"1\" stroke=\"#000000\" stroke-opacity=\"1\" stroke-width=\"3.2\"/>\n",
       "<circle clip-path=\"url(#clip642)\" cx=\"1653.74\" cy=\"1071.77\" r=\"14\" fill=\"#009af9\" fill-rule=\"evenodd\" fill-opacity=\"1\" stroke=\"#000000\" stroke-opacity=\"1\" stroke-width=\"3.2\"/>\n",
       "<circle clip-path=\"url(#clip642)\" cx=\"1696.18\" cy=\"1038.02\" r=\"14\" fill=\"#009af9\" fill-rule=\"evenodd\" fill-opacity=\"1\" stroke=\"#000000\" stroke-opacity=\"1\" stroke-width=\"3.2\"/>\n",
       "<circle clip-path=\"url(#clip642)\" cx=\"1738.62\" cy=\"1008.1\" r=\"14\" fill=\"#009af9\" fill-rule=\"evenodd\" fill-opacity=\"1\" stroke=\"#000000\" stroke-opacity=\"1\" stroke-width=\"3.2\"/>\n",
       "<circle clip-path=\"url(#clip642)\" cx=\"1781.07\" cy=\"954.006\" r=\"14\" fill=\"#009af9\" fill-rule=\"evenodd\" fill-opacity=\"1\" stroke=\"#000000\" stroke-opacity=\"1\" stroke-width=\"3.2\"/>\n",
       "<circle clip-path=\"url(#clip642)\" cx=\"1823.51\" cy=\"874.877\" r=\"14\" fill=\"#009af9\" fill-rule=\"evenodd\" fill-opacity=\"1\" stroke=\"#000000\" stroke-opacity=\"1\" stroke-width=\"3.2\"/>\n",
       "<circle clip-path=\"url(#clip642)\" cx=\"1865.95\" cy=\"867.411\" r=\"14\" fill=\"#009af9\" fill-rule=\"evenodd\" fill-opacity=\"1\" stroke=\"#000000\" stroke-opacity=\"1\" stroke-width=\"3.2\"/>\n",
       "<circle clip-path=\"url(#clip642)\" cx=\"1908.39\" cy=\"771.58\" r=\"14\" fill=\"#009af9\" fill-rule=\"evenodd\" fill-opacity=\"1\" stroke=\"#000000\" stroke-opacity=\"1\" stroke-width=\"3.2\"/>\n",
       "<circle clip-path=\"url(#clip642)\" cx=\"1950.83\" cy=\"736.94\" r=\"14\" fill=\"#009af9\" fill-rule=\"evenodd\" fill-opacity=\"1\" stroke=\"#000000\" stroke-opacity=\"1\" stroke-width=\"3.2\"/>\n",
       "<circle clip-path=\"url(#clip642)\" cx=\"1993.27\" cy=\"495.7\" r=\"14\" fill=\"#009af9\" fill-rule=\"evenodd\" fill-opacity=\"1\" stroke=\"#000000\" stroke-opacity=\"1\" stroke-width=\"3.2\"/>\n",
       "<circle clip-path=\"url(#clip642)\" cx=\"2035.72\" cy=\"558.261\" r=\"14\" fill=\"#009af9\" fill-rule=\"evenodd\" fill-opacity=\"1\" stroke=\"#000000\" stroke-opacity=\"1\" stroke-width=\"3.2\"/>\n",
       "<circle clip-path=\"url(#clip642)\" cx=\"2078.16\" cy=\"545.094\" r=\"14\" fill=\"#009af9\" fill-rule=\"evenodd\" fill-opacity=\"1\" stroke=\"#000000\" stroke-opacity=\"1\" stroke-width=\"3.2\"/>\n",
       "<circle clip-path=\"url(#clip642)\" cx=\"2120.6\" cy=\"472.555\" r=\"14\" fill=\"#009af9\" fill-rule=\"evenodd\" fill-opacity=\"1\" stroke=\"#000000\" stroke-opacity=\"1\" stroke-width=\"3.2\"/>\n",
       "<circle clip-path=\"url(#clip642)\" cx=\"2163.04\" cy=\"298.227\" r=\"14\" fill=\"#009af9\" fill-rule=\"evenodd\" fill-opacity=\"1\" stroke=\"#000000\" stroke-opacity=\"1\" stroke-width=\"3.2\"/>\n",
       "<circle clip-path=\"url(#clip642)\" cx=\"2205.48\" cy=\"305.725\" r=\"14\" fill=\"#009af9\" fill-rule=\"evenodd\" fill-opacity=\"1\" stroke=\"#000000\" stroke-opacity=\"1\" stroke-width=\"3.2\"/>\n",
       "<circle clip-path=\"url(#clip642)\" cx=\"2247.92\" cy=\"189.016\" r=\"14\" fill=\"#009af9\" fill-rule=\"evenodd\" fill-opacity=\"1\" stroke=\"#000000\" stroke-opacity=\"1\" stroke-width=\"3.2\"/>\n",
       "<circle clip-path=\"url(#clip642)\" cx=\"2290.37\" cy=\"87.9763\" r=\"14\" fill=\"#009af9\" fill-rule=\"evenodd\" fill-opacity=\"1\" stroke=\"#000000\" stroke-opacity=\"1\" stroke-width=\"3.2\"/>\n",
       "<path clip-path=\"url(#clip640)\" d=\"\n",
       "M1983.32 216.178 L2279.28 216.178 L2279.28 95.2176 L1983.32 95.2176  Z\n",
       "  \" fill=\"#ffffff\" fill-rule=\"evenodd\" fill-opacity=\"1\"/>\n",
       "<polyline clip-path=\"url(#clip640)\" style=\"stroke:#000000; stroke-width:4; stroke-opacity:1; fill:none\" points=\"\n",
       "  1983.32,216.178 2279.28,216.178 2279.28,95.2176 1983.32,95.2176 1983.32,216.178 \n",
       "  \"/>\n",
       "<polyline clip-path=\"url(#clip640)\" style=\"stroke:#009af9; stroke-width:4; stroke-opacity:1; fill:none\" points=\"\n",
       "  2007.81,155.698 2154.78,155.698 \n",
       "  \"/>\n",
       "<circle clip-path=\"url(#clip640)\" cx=\"2081.3\" cy=\"155.698\" r=\"23\" fill=\"#009af9\" fill-rule=\"evenodd\" fill-opacity=\"1\" stroke=\"#000000\" stroke-opacity=\"1\" stroke-width=\"5.12\"/>\n",
       "<path clip-path=\"url(#clip640)\" d=\"M 0 0 M2193.11 175.385 Q2191.31 180.015 2189.59 181.427 Q2187.88 182.839 2185.01 182.839 L2181.61 182.839 L2181.61 179.274 L2184.11 179.274 Q2185.87 179.274 2186.84 178.44 Q2187.81 177.607 2188.99 174.505 L2189.76 172.561 L2179.27 147.052 L2183.78 147.052 L2191.89 167.329 L2199.99 147.052 L2204.5 147.052 L2193.11 175.385 Z\" fill=\"#000000\" fill-rule=\"evenodd\" fill-opacity=\"1\" /><path clip-path=\"url(#clip640)\" d=\"M 0 0 M2210.38 169.042 L2218.02 169.042 L2218.02 142.677 L2209.71 144.343 L2209.71 140.084 L2217.97 138.418 L2222.65 138.418 L2222.65 169.042 L2230.29 169.042 L2230.29 172.978 L2210.38 172.978 L2210.38 169.042 Z\" fill=\"#000000\" fill-rule=\"evenodd\" fill-opacity=\"1\" /></svg>\n"
      ]
     },
     "execution_count": 168,
     "metadata": {},
     "output_type": "execute_result"
    }
   ],
   "source": [
    "plot(nn, t, shape = :circle)"
   ]
  },
  {
   "cell_type": "code",
   "execution_count": null,
   "metadata": {},
   "outputs": [],
   "source": []
  }
 ],
 "metadata": {
  "kernelspec": {
   "display_name": "Julia 1.5.2",
   "language": "julia",
   "name": "julia-1.5"
  },
  "language_info": {
   "file_extension": ".jl",
   "mimetype": "application/julia",
   "name": "julia",
   "version": "1.5.2"
  }
 },
 "nbformat": 4,
 "nbformat_minor": 4
}
