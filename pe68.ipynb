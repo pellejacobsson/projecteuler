{
 "cells": [
  {
   "cell_type": "markdown",
   "metadata": {},
   "source": [
    "## Problem 68: Magic 5-gon ring"
   ]
  },
  {
   "cell_type": "code",
   "execution_count": 12,
   "metadata": {},
   "outputs": [
    {
     "ename": "ArgumentError",
     "evalue": "ArgumentError: Package Combinatorics not found in current path:\n- Run `import Pkg; Pkg.add(\"Combinatorics\")` to install the Combinatorics package.\n",
     "output_type": "error",
     "traceback": [
      "ArgumentError: Package Combinatorics not found in current path:\n- Run `import Pkg; Pkg.add(\"Combinatorics\")` to install the Combinatorics package.\n",
      "",
      "Stacktrace:",
      " [1] require(::Module, ::Symbol) at .\\loading.jl:887",
      " [2] top-level scope at In[12]:1"
     ]
    }
   ],
   "source": [
    "using Combinatorics"
   ]
  },
  {
   "cell_type": "code",
   "execution_count": 58,
   "metadata": {},
   "outputs": [
    {
     "data": {
      "text/plain": [
       "inttolist (generic function with 1 method)"
      ]
     },
     "execution_count": 58,
     "metadata": {},
     "output_type": "execute_result"
    }
   ],
   "source": [
    "function inttolist(n)\n",
    "    return [parse(Int32, x) for x in string(n)]\n",
    "end"
   ]
  },
  {
   "cell_type": "code",
   "execution_count": 52,
   "metadata": {},
   "outputs": [],
   "source": [
    "ss = []\n",
    "for p in permutations(1:6)\n",
    "    s1 = p[1:3]\n",
    "    s2 = [p[4], p[3], p[5]]\n",
    "    s3 = [p[6], p[5], p[2]]\n",
    "    if (sum(s1) == sum(s2)) & (sum(s1) == sum(s3)) & (sum(s2) == sum(s3))\n",
    "        m = min(s1[1], s2[1], s3[1])\n",
    "        if m == s1[1]\n",
    "            s = vcat(s1, s2, s3)\n",
    "        elseif m == s2[1]\n",
    "            s = vcat(s2, s3, s1)\n",
    "        elseif m == s3[1]\n",
    "            s = vcat(s3, s1, s2)\n",
    "        end\n",
    "        push!(ss, s)\n",
    "    end\n",
    "end"
   ]
  },
  {
   "cell_type": "code",
   "execution_count": 54,
   "metadata": {},
   "outputs": [],
   "source": [
    "ss = []\n",
    "for p in permutations(1:10)\n",
    "    s1 = p[1:3]\n",
    "    s2 = [p[4], p[3], p[5]]\n",
    "    s3 = [p[6], p[5], p[7]]\n",
    "    s4 = [p[8], p[7], p[9]]\n",
    "    s5 = [p[10], p[9], p[2]]\n",
    "    if (sum(s1) == sum(s2)) & (sum(s1) == sum(s3)) & (sum(s1) == sum(s4)) & (sum(s1) == sum(s5)) & (sum(s2) == sum(s3)) & (sum(s2) == sum(s4)) & (sum(s2) == sum(s5)) & (sum(s3) == sum(s4)) & (sum(s3) == sum(s5)) & (sum(s4) == sum(s5))\n",
    "        m = min(s1[1], s2[1], s3[1], s4[1], s5[1])\n",
    "        if m == s1[1]\n",
    "            s = vcat(s1, s2, s3, s4, s5)\n",
    "        elseif m == s2[1]\n",
    "            s = vcat(s2, s3, s4, s5, s1)\n",
    "        elseif m == s3[1]\n",
    "            s = vcat(s3, s4, s5, s1, s2)\n",
    "        elseif m == s4[1]\n",
    "            s = vcat(s4, s5, s1, s2, s3)\n",
    "        elseif m == s5[1]\n",
    "            s = vcat(s5, s1, s2, s3, s4)\n",
    "        end\n",
    "        push!(ss, s)\n",
    "    end\n",
    "end"
   ]
  },
  {
   "cell_type": "code",
   "execution_count": 59,
   "metadata": {},
   "outputs": [],
   "source": [
    "sss = []\n",
    "for s in ss\n",
    "    n = parse(Int, join([string(x) for x in s]))\n",
    "    if length(inttolist(n)) == 16\n",
    "        push!(sss, n)\n",
    "    end\n",
    "end\n"
   ]
  },
  {
   "cell_type": "code",
   "execution_count": 60,
   "metadata": {},
   "outputs": [
    {
     "data": {
      "text/plain": [
       "6531031914842725"
      ]
     },
     "execution_count": 60,
     "metadata": {},
     "output_type": "execute_result"
    }
   ],
   "source": [
    "maximum(sss)"
   ]
  },
  {
   "cell_type": "code",
   "execution_count": null,
   "metadata": {},
   "outputs": [],
   "source": []
  }
 ],
 "metadata": {
  "kernelspec": {
   "display_name": "Julia 1.3.1",
   "language": "julia",
   "name": "julia-1.3"
  },
  "language_info": {
   "file_extension": ".jl",
   "mimetype": "application/julia",
   "name": "julia",
   "version": "1.3.1"
  }
 },
 "nbformat": 4,
 "nbformat_minor": 4
}
