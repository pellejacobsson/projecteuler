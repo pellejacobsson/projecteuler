{
 "cells": [
  {
   "cell_type": "markdown",
   "metadata": {},
   "source": [
    "## Problem 99: Largest exponential"
   ]
  },
  {
   "cell_type": "code",
   "execution_count": 1,
   "metadata": {},
   "outputs": [],
   "source": [
    "using DelimitedFiles"
   ]
  },
  {
   "cell_type": "code",
   "execution_count": 2,
   "metadata": {},
   "outputs": [
    {
     "data": {
      "text/plain": [
       "1000×2 Array{Float64,2}:\n",
       " 519432.0  525806.0\n",
       " 632382.0  518061.0\n",
       "  78864.0  613712.0\n",
       " 466580.0  530130.0\n",
       " 780495.0  510032.0\n",
       " 525895.0  525320.0\n",
       "  15991.0  714883.0\n",
       " 960290.0  502358.0\n",
       " 760018.0  511029.0\n",
       " 166800.0  575487.0\n",
       " 210884.0  564478.0\n",
       " 555151.0  523163.0\n",
       " 681146.0  515199.0\n",
       "      ⋮    \n",
       " 203327.0  566155.0\n",
       " 798176.0  509187.0\n",
       " 667688.0  515963.0\n",
       " 636120.0  517833.0\n",
       " 137410.0  584913.0\n",
       " 217615.0  563034.0\n",
       " 556887.0  523038.0\n",
       " 667229.0  515991.0\n",
       " 672276.0  515708.0\n",
       " 325361.0  545187.0\n",
       " 172115.0  573985.0\n",
       "  13846.0  725685.0"
      ]
     },
     "execution_count": 2,
     "metadata": {},
     "output_type": "execute_result"
    }
   ],
   "source": [
    "explist = readdlm(\"p099_base_exp.txt\", ',')"
   ]
  },
  {
   "cell_type": "code",
   "execution_count": 19,
   "metadata": {},
   "outputs": [],
   "source": [
    "maxline = 1\n",
    "maxval = 0\n",
    "for line = 1:size(explist)[1]\n",
    "    val = BigFloat(explist[line,1])^explist[line,2]\n",
    "    if val > maxval\n",
    "        maxval = val\n",
    "        maxline = line\n",
    "    end\n",
    "end"
   ]
  },
  {
   "cell_type": "code",
   "execution_count": 20,
   "metadata": {},
   "outputs": [
    {
     "data": {
      "text/plain": [
       "709"
      ]
     },
     "execution_count": 20,
     "metadata": {},
     "output_type": "execute_result"
    }
   ],
   "source": [
    "maxline"
   ]
  },
  {
   "cell_type": "code",
   "execution_count": null,
   "metadata": {},
   "outputs": [],
   "source": []
  }
 ],
 "metadata": {
  "kernelspec": {
   "display_name": "Julia 1.5.2",
   "language": "julia",
   "name": "julia-1.5"
  },
  "language_info": {
   "file_extension": ".jl",
   "mimetype": "application/julia",
   "name": "julia",
   "version": "1.5.2"
  }
 },
 "nbformat": 4,
 "nbformat_minor": 4
}
