{
 "cells": [
  {
   "cell_type": "markdown",
   "metadata": {},
   "source": [
    "## Problem 101: Optimum polynomial"
   ]
  },
  {
   "cell_type": "code",
   "execution_count": 7,
   "metadata": {},
   "outputs": [
    {
     "name": "stderr",
     "output_type": "stream",
     "text": [
      "┌ Info: Precompiling Polynomials [f27b6e38-b328-58d1-80ce-0feddd5e7a45]\n",
      "└ @ Base loading.jl:1278\n"
     ]
    }
   ],
   "source": [
    "using Polynomials"
   ]
  },
  {
   "cell_type": "code",
   "execution_count": 2,
   "metadata": {},
   "outputs": [
    {
     "data": {
      "text/plain": [
       "u (generic function with 1 method)"
      ]
     },
     "execution_count": 2,
     "metadata": {},
     "output_type": "execute_result"
    }
   ],
   "source": [
    "u(n) = 1 - n + n^2 - n^3 + n^4 - n^5 + n^6 - n^7 + n^8 - n^9 + n^10"
   ]
  },
  {
   "cell_type": "code",
   "execution_count": 33,
   "metadata": {},
   "outputs": [
    {
     "name": "stdout",
     "output_type": "stream",
     "text": [
      "1.0\n",
      "-681.0 + 682.0*x\n",
      "42241.0 - 63701.0*x + 21461.0*x^2\n",
      "-665807.0 + 1.23439e6*x - 686587.0*x^2 + 118008.0*x^3\n",
      "4.37976e6 - 9.27721e6*x + 6.67153e6*x^2 - 1.98431e6*x^3 + 210232.0*x^4\n",
      "-1.47074e7 + 3.43052e7*x - 2.9117e7*x^2 + 1.15358e7*x^3 - 2.17567e6*x^4 + 159060.0*x^5\n",
      "2.74428e7 - 6.89629e7*x + 6.59552e7*x^2 - 3.14926e7*x^3 + 8.06918e6*x^4 - 1.07032e6*x^5 + 58542.0*x^6\n",
      "-2.88288e7 + 7.69414e7*x - 8.06635e7*x^2 + 4.40833e7*x^3 - 1.38142e7*x^4 + 2.52481e6*x^5 - 254078.0*x^6 + 11165.0*x^7\n",
      "1.59667e7 - 4.48065e7*x + 5.05722e7*x^2 - 3.06692e7*x^3 + 1.11266e7*x^4 - 2.51469e6*x^5 + 352528.0*x^6 - 28831.0*x^7 + 1111.0*x^8\n",
      "-3.6288e6 + 1.06286e7*x - 1.27536e7*x^2 + 8.4095e6*x^3 - 3.41693e6*x^4 + 902054.0*x^5 - 157772.0*x^6 + 18149.0*x^7 - 1319.0*x^8 + 54.0*x^9\n"
     ]
    }
   ],
   "source": [
    "y = [u(n) for n = 1:10]\n",
    "s = 0\n",
    "for m = 1:length(y)\n",
    "    f = fit(1:m, y[1:m])\n",
    "    println(f)\n",
    "    s += Int(f(m+1))\n",
    "end"
   ]
  },
  {
   "cell_type": "code",
   "execution_count": 31,
   "metadata": {},
   "outputs": [
    {
     "data": {
      "text/plain": [
       "37076114526"
      ]
     },
     "execution_count": 31,
     "metadata": {},
     "output_type": "execute_result"
    }
   ],
   "source": [
    "s"
   ]
  }
 ],
 "metadata": {
  "kernelspec": {
   "display_name": "Julia 1.5.2",
   "language": "julia",
   "name": "julia-1.5"
  },
  "language_info": {
   "file_extension": ".jl",
   "mimetype": "application/julia",
   "name": "julia",
   "version": "1.5.2"
  }
 },
 "nbformat": 4,
 "nbformat_minor": 4
}
