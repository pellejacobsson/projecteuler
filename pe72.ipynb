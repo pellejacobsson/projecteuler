{
 "cells": [
  {
   "cell_type": "markdown",
   "metadata": {},
   "source": [
    "## Problem 72: Counting fractions"
   ]
  },
  {
   "cell_type": "code",
   "execution_count": 10,
   "metadata": {},
   "outputs": [
    {
     "data": {
      "text/plain": [
       "totient (generic function with 1 method)"
      ]
     },
     "execution_count": 10,
     "metadata": {},
     "output_type": "execute_result"
    }
   ],
   "source": [
    "function sieveprimes(nmax)\n",
    "    p = trues(nmax)\n",
    "    p[1] = false\n",
    "    p[4:2:nmax] .= false\n",
    "    n = 3\n",
    "    while n^2 < nmax\n",
    "        if p[n]\n",
    "            p[n^2:n:nmax] .= false\n",
    "        end\n",
    "        n += 1\n",
    "    end\n",
    "    return p\n",
    "end\n",
    "\n",
    "function primelist(nmax)\n",
    "    pidx = sieveprimes(nmax)\n",
    "    pall = 1:nmax\n",
    "    return pall[pidx]\n",
    "end\n",
    "\n",
    "function primefact(n, plist)\n",
    "    f = []\n",
    "    for p in plist\n",
    "        while n % p == 0\n",
    "            push!(f, p)\n",
    "            n /= p\n",
    "        end\n",
    "        if p^2 >= n\n",
    "            if n != 1\n",
    "                push!(f, n)\n",
    "            end\n",
    "            return f\n",
    "        end\n",
    "    end\n",
    "end\n",
    "\n",
    "function totient(n, plist)\n",
    "    f = unique(primefact(n, plist))\n",
    "    phi = n\n",
    "    for p in f\n",
    "        phi *= (1 - 1/p)\n",
    "    end\n",
    "    return phi\n",
    "end"
   ]
  },
  {
   "cell_type": "code",
   "execution_count": 25,
   "metadata": {},
   "outputs": [
    {
     "data": {
      "text/plain": [
       "303963552391"
      ]
     },
     "execution_count": 25,
     "metadata": {},
     "output_type": "execute_result"
    }
   ],
   "source": [
    "plist = primelist(2000)\n",
    "dmax = 1000000\n",
    "c = 0\n",
    "for n = 2:dmax\n",
    "    c += totient(n, plist)\n",
    "end\n",
    "c = Int(c)"
   ]
  }
 ],
 "metadata": {
  "kernelspec": {
   "display_name": "Julia 1.3.1",
   "language": "julia",
   "name": "julia-1.3"
  },
  "language_info": {
   "file_extension": ".jl",
   "mimetype": "application/julia",
   "name": "julia",
   "version": "1.3.1"
  }
 },
 "nbformat": 4,
 "nbformat_minor": 4
}
