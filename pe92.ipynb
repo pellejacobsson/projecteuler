{
 "cells": [
  {
   "cell_type": "markdown",
   "metadata": {},
   "source": [
    "## Problem 92: Square digit chains"
   ]
  },
  {
   "cell_type": "code",
   "execution_count": 2,
   "metadata": {},
   "outputs": [
    {
     "data": {
      "text/plain": [
       "chain (generic function with 1 method)"
      ]
     },
     "execution_count": 2,
     "metadata": {},
     "output_type": "execute_result"
    }
   ],
   "source": [
    "function inttolist(n)\n",
    "    return [parse(Int, s) for s in string(n)]\n",
    "end\n",
    "\n",
    "function chain(n)\n",
    "    x = n\n",
    "    while true\n",
    "        if x == 1\n",
    "            return 1\n",
    "        elseif x == 89\n",
    "            return 89\n",
    "        else\n",
    "            l = inttolist(x)\n",
    "            x = sum(l.^2)\n",
    "        end\n",
    "    end\n",
    "end"
   ]
  },
  {
   "cell_type": "code",
   "execution_count": 13,
   "metadata": {},
   "outputs": [
    {
     "name": "stdout",
     "output_type": "stream",
     "text": [
      "Number of chains end with 1: 1418853\n",
      "Number of chains end with 89: 8581146"
     ]
    }
   ],
   "source": [
    "n1 = 0\n",
    "n89 = 0\n",
    "for n = 1:9999999\n",
    "    chainend = chain(n)\n",
    "    if chainend == 1\n",
    "        n1 += 1\n",
    "    elseif chainend == 89\n",
    "        n89 += 1\n",
    "    end\n",
    "end\n",
    "print(\"Number of chains end with 1: $n1\\nNumber of chains end with 89: $n89\")"
   ]
  }
 ],
 "metadata": {
  "kernelspec": {
   "display_name": "Julia 1.5.2",
   "language": "julia",
   "name": "julia-1.5"
  },
  "language_info": {
   "file_extension": ".jl",
   "mimetype": "application/julia",
   "name": "julia",
   "version": "1.5.2"
  }
 },
 "nbformat": 4,
 "nbformat_minor": 4
}
