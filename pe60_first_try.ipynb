{
 "cells": [
  {
   "cell_type": "markdown",
   "metadata": {},
   "source": [
    "## Problem 60: Prime pair sets\n",
    "The primes 3, 7, 109, and 673, are quite remarkable. By taking any two primes and concatenating them in any order the result will always be prime. For example, taking 7 and 109, both 7109 and 1097 are prime. The sum of these four primes, 792, represents the lowest sum for a set of four primes with this property.\n",
    "\n",
    "Find the lowest sum for a set of five primes for which any two primes concatenate to produce another prime."
   ]
  },
  {
   "cell_type": "code",
   "execution_count": 92,
   "metadata": {},
   "outputs": [],
   "source": [
    "using Combinatorics"
   ]
  },
  {
   "cell_type": "code",
   "execution_count": 93,
   "metadata": {},
   "outputs": [
    {
     "data": {
      "text/plain": [
       "isprimepairset (generic function with 1 method)"
      ]
     },
     "execution_count": 93,
     "metadata": {},
     "output_type": "execute_result"
    }
   ],
   "source": [
    "function concatint(n1, n2)\n",
    "    return parse(Int, string(n1)*string(n2))\n",
    "end\n",
    "\n",
    "function isprime(n)\n",
    "    if n == 2\n",
    "        return true\n",
    "    else\n",
    "        for m = 2:ceil(sqrt(n))\n",
    "            if n % m == 0\n",
    "                return false\n",
    "            end\n",
    "        end\n",
    "        return true\n",
    "    end\n",
    "end\n",
    "\n",
    "function sieveprimes(nmax)\n",
    "    p = trues(nmax)\n",
    "    p[1] = false\n",
    "    p[4:2:nmax] .= false\n",
    "    n = 3\n",
    "    while n^2 < nmax\n",
    "        if p[n]\n",
    "            p[n^2:n:nmax] .= false\n",
    "        end\n",
    "        n += 1\n",
    "    end\n",
    "    return p\n",
    "end\n",
    "\n",
    "function primelist(nmax)\n",
    "    pidx = sieveprimes(nmax)\n",
    "    pall = 1:nmax\n",
    "    return pall[pidx]\n",
    "end\n",
    "\n",
    "function isprimepairset(plist)\n",
    "    combidx = collect(combinations(1:length(plist),2))\n",
    "    for idx in combidx\n",
    "        n1 = plist[idx[1]]\n",
    "        n2 = plist[idx[2]]\n",
    "        cc1 = concatint(n1, n2)\n",
    "        cc2 = concatint(n2, n1)\n",
    "        if !(isprime(cc1) & isprime(cc2))\n",
    "            return false\n",
    "        end\n",
    "    end\n",
    "    return true\n",
    "end"
   ]
  },
  {
   "cell_type": "code",
   "execution_count": 94,
   "metadata": {},
   "outputs": [
    {
     "name": "stdout",
     "output_type": "stream",
     "text": [
      "Number of three pairs: 833\n",
      "Number of two pairs: 1672\n",
      "Number of five pairs: 0\n",
      "Any[]\n"
     ]
    }
   ],
   "source": [
    "maxprime = 6000\n",
    "part3 = 0.5\n",
    "allprimes = primelist(maxprime)\n",
    "npall = length(allprimes)\n",
    "np1 = Int(round(npall*part3))\n",
    "primes = allprimes[1:np1]\n",
    "np = length(primes)\n",
    "pairs3 = []\n",
    "for idx in combinations(1:np, 3)\n",
    "    if isprimepairset(primes[idx])\n",
    "        push!(pairs3, primes[idx])\n",
    "    end\n",
    "end\n",
    "println(\"Number of three pairs: $(length(pairs3))\")\n",
    "\n",
    "primes = allprimes[(np1+1):end]\n",
    "np = length(primes)\n",
    "pairs2 = []\n",
    "for idx in combinations(1:np, 2)\n",
    "    if isprimepairset(primes[idx])\n",
    "        push!(pairs2, primes[idx])\n",
    "    end\n",
    "end\n",
    "println(\"Number of two pairs: $(length(pairs2))\")\n",
    "\n",
    "pairs5 = []\n",
    "for pair2 in pairs2\n",
    "    for pair3 in pairs3\n",
    "        cand = [pair2[1], pair3[1], pair2[2], pair3[2], pair3[2]]\n",
    "        if isprimepairset(cand)\n",
    "            push!(pairs5, cand)\n",
    "        end\n",
    "    end\n",
    "end\n",
    "println(\"Number of five pairs: $(length(pairs5))\")\n",
    "println(\"$pairs5\")"
   ]
  },
  {
   "cell_type": "code",
   "execution_count": null,
   "metadata": {},
   "outputs": [],
   "source": []
  }
 ],
 "metadata": {
  "kernelspec": {
   "display_name": "Julia 1.2.0",
   "language": "julia",
   "name": "julia-1.2"
  },
  "language_info": {
   "file_extension": ".jl",
   "mimetype": "application/julia",
   "name": "julia",
   "version": "1.2.0"
  }
 },
 "nbformat": 4,
 "nbformat_minor": 4
}
