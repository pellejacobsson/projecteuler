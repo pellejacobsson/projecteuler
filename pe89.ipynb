{
 "cells": [
  {
   "cell_type": "markdown",
   "metadata": {},
   "source": [
    "## Problem 89: Roman numerals"
   ]
  },
  {
   "cell_type": "code",
   "execution_count": 47,
   "metadata": {},
   "outputs": [
    {
     "data": {
      "text/plain": [
       "romanton (generic function with 1 method)"
      ]
     },
     "execution_count": 47,
     "metadata": {},
     "output_type": "execute_result"
    }
   ],
   "source": [
    "function ntoroman(n)\n",
    "    l = []\n",
    "    num = [1, 4, 5, 9, 10, 40, 50, 90, 100, 400, 500, 900, 1000]\n",
    "    sym = [\"I\" ,\"IV\", \"V\", \"IX\", \"X\", \"XL\", \"L\", \"XC\", \"C\", \"CD\", \"D\", \"CM\", \"M\"]\n",
    "    i = 13\n",
    "    while n > 0\n",
    "        d = div(n, num[i])\n",
    "        n = n % num[i]\n",
    "        while d > 0\n",
    "            push!(l, sym[i])\n",
    "            d -= 1\n",
    "        end\n",
    "        i -= 1\n",
    "    end\n",
    "    return join(l)\n",
    "end\n",
    "\n",
    "function romanton(rom)\n",
    "    n = 0\n",
    "    sym1 = Dict(\"IV\" => 4, \"IX\" => 9, \"XL\" => 40, \"XC\" => 90, \"CD\" => 400, \"CM\" => 900)\n",
    "    sym2 = Dict(\"I\" => 1, \"V\" => 5, \"X\" => 10, \"L\" => 50, \"C\" => 100, \"D\" => 500, \"M\" => 1000)\n",
    "    i = 1\n",
    "    while i < length(rom)\n",
    "        if string(rom[i:(i+1)]) in keys(sym1)\n",
    "            n += sym1[string(rom[i:(i+1)])]\n",
    "            i += 2\n",
    "        elseif string(rom[i]) in keys(sym2)\n",
    "            n += sym2[string(rom[i])]\n",
    "            i += 1\n",
    "        end\n",
    "    end\n",
    "    if i <= length(rom)\n",
    "        n += sym2[string(rom[i])]\n",
    "    end\n",
    "    return n\n",
    "end\n",
    "        \n",
    "    "
   ]
  },
  {
   "cell_type": "markdown",
   "metadata": {},
   "source": [
    "### Test"
   ]
  },
  {
   "cell_type": "code",
   "execution_count": 56,
   "metadata": {},
   "outputs": [
    {
     "name": "stdout",
     "output_type": "stream",
     "text": [
      "2711 -> MMDCCXI -> 2711\n",
      "1922 -> MCMXXII -> 1922\n",
      "4109 -> MMMMCIX -> 4109\n",
      "8610 -> MMMMMMMMDCX -> 8610\n",
      "4702 -> MMMMDCCII -> 4702\n",
      "5720 -> MMMMMDCCXX -> 5720\n",
      "8442 -> MMMMMMMMCDXLII -> 8442\n",
      "4607 -> MMMMDCVII -> 4607\n",
      "7359 -> MMMMMMMCCCLIX -> 7359\n",
      "5238 -> MMMMMCCXXXVIII -> 5238\n"
     ]
    }
   ],
   "source": [
    "for n in rand(1000:10000, 10)\n",
    "    r = ntoroman(n)\n",
    "    n2 = romanton(r)\n",
    "    println(\"$n -> $r -> $n2\")\n",
    "end"
   ]
  },
  {
   "cell_type": "markdown",
   "metadata": {},
   "source": [
    "### Do the task"
   ]
  },
  {
   "cell_type": "code",
   "execution_count": 60,
   "metadata": {},
   "outputs": [
    {
     "data": {
      "text/plain": [
       "1000-element Array{String,1}:\n",
       " \"MMMMDCLXXII\"\n",
       " \"MMDCCCLXXXIII\"\n",
       " \"MMMDLXVIIII\"\n",
       " \"MMMMDXCV\"\n",
       " \"DCCCLXXII\"\n",
       " \"MMCCCVI\"\n",
       " \"MMMCDLXXXVII\"\n",
       " \"MMMMCCXXI\"\n",
       " \"MMMCCXX\"\n",
       " \"MMMMDCCCLXXIII\"\n",
       " \"MMMCCXXXVII\"\n",
       " \"MMCCCLXXXXIX\"\n",
       " \"MDCCCXXIIII\"\n",
       " ⋮\n",
       " \"MMMDCCCCVIII\"\n",
       " \"MMMMDCCCCXXXXVI\"\n",
       " \"MMDCCCXXXV\"\n",
       " \"MMCXCIV\"\n",
       " \"MCMLXXXXIII\"\n",
       " \"MMMCCCLXXVI\"\n",
       " \"MMMMDCLXXXV\"\n",
       " \"CMLXIX\"\n",
       " \"DCXCII\"\n",
       " \"MMXXVIII\"\n",
       " \"MMMMCCCXXX\"\n",
       " \"XXXXVIIII\""
      ]
     },
     "execution_count": 60,
     "metadata": {},
     "output_type": "execute_result"
    }
   ],
   "source": [
    "romans = open(\"p089_roman.txt\") do file\n",
    "    readlines(file)\n",
    "end"
   ]
  },
  {
   "cell_type": "code",
   "execution_count": 61,
   "metadata": {},
   "outputs": [],
   "source": [
    "nsaved = 0\n",
    "for r in romans\n",
    "    rr = ntoroman(romanton(r))\n",
    "    nsaved += length(r) - length(rr)\n",
    "end"
   ]
  },
  {
   "cell_type": "code",
   "execution_count": 62,
   "metadata": {},
   "outputs": [
    {
     "data": {
      "text/plain": [
       "743"
      ]
     },
     "execution_count": 62,
     "metadata": {},
     "output_type": "execute_result"
    }
   ],
   "source": [
    "nsaved"
   ]
  },
  {
   "cell_type": "code",
   "execution_count": null,
   "metadata": {},
   "outputs": [],
   "source": []
  }
 ],
 "metadata": {
  "kernelspec": {
   "display_name": "Julia 1.5.2",
   "language": "julia",
   "name": "julia-1.5"
  },
  "language_info": {
   "file_extension": ".jl",
   "mimetype": "application/julia",
   "name": "julia",
   "version": "1.5.2"
  }
 },
 "nbformat": 4,
 "nbformat_minor": 4
}
