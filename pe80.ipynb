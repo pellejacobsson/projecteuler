{
 "cells": [
  {
   "cell_type": "markdown",
   "metadata": {},
   "source": [
    "## Problem 80: Square root digital expansion"
   ]
  },
  {
   "cell_type": "code",
   "execution_count": 3,
   "metadata": {},
   "outputs": [],
   "source": [
    "natural = 1:100\n",
    "squares = [x^2 for x in 1:10]\n",
    "nlist = sort(collect(setdiff(Set(natural), Set(squares))));"
   ]
  },
  {
   "cell_type": "code",
   "execution_count": 64,
   "metadata": {},
   "outputs": [],
   "source": [
    "setprecision(512)\n",
    "\n",
    "s = 0\n",
    "for n in nlist\n",
    "    dall = split(string(sqrt(BigFloat(n))), \".\")\n",
    "    d = dall[1]*dall[2]\n",
    "    d = d[1:100]\n",
    "    dn = [parse(Int, x) for x in d]\n",
    "    s += sum(dn)\n",
    "end"
   ]
  },
  {
   "cell_type": "code",
   "execution_count": 65,
   "metadata": {},
   "outputs": [
    {
     "name": "stdout",
     "output_type": "stream",
     "text": [
      "Answer: 40886\n"
     ]
    }
   ],
   "source": [
    "println(\"Answer: $s\")"
   ]
  },
  {
   "cell_type": "code",
   "execution_count": null,
   "metadata": {},
   "outputs": [],
   "source": []
  }
 ],
 "metadata": {
  "kernelspec": {
   "display_name": "Julia 1.3.1",
   "language": "julia",
   "name": "julia-1.3"
  },
  "language_info": {
   "file_extension": ".jl",
   "mimetype": "application/julia",
   "name": "julia",
   "version": "1.3.1"
  }
 },
 "nbformat": 4,
 "nbformat_minor": 4
}
