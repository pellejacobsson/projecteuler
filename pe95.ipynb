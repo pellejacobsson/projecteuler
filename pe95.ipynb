{
 "cells": [
  {
   "cell_type": "code",
   "execution_count": 1,
   "metadata": {},
   "outputs": [
    {
     "name": "stderr",
     "output_type": "stream",
     "text": [
      "Matplotlib is building the font cache; this may take a moment.\n"
     ]
    }
   ],
   "source": [
    "import numpy as np\n",
    "import time\n",
    "import matplotlib.pyplot as plt\n",
    "%matplotlib widget"
   ]
  },
  {
   "cell_type": "code",
   "execution_count": 2,
   "metadata": {},
   "outputs": [],
   "source": [
    "def propdiv(n):\n",
    "    divs = []\n",
    "    for m in range(1, int(np.ceil(np.sqrt(n)))):\n",
    "        if n % m == 0:\n",
    "            divs.append(m)\n",
    "            if (n / m != m) & (m != 1):\n",
    "                divs.append(int(n/m))\n",
    "    return divs"
   ]
  },
  {
   "cell_type": "code",
   "execution_count": 42,
   "metadata": {},
   "outputs": [
    {
     "name": "stdout",
     "output_type": "stream",
     "text": [
      "308.55280923843384\n"
     ]
    }
   ],
   "source": [
    "tstart = time.time()\n",
    "nlistfinal = []\n",
    "visited = {}\n",
    "for nstart in range(1,1000000+1):\n",
    "    n = nstart\n",
    "    nlist = [n]\n",
    "    chain = False\n",
    "    while True:\n",
    "        if (n > 1000000):\n",
    "            break\n",
    "        if (n == 1):\n",
    "            break \n",
    "        if (n < nstart):\n",
    "            break\n",
    "        n = int(np.sum(propdiv(n)))\n",
    "        if n == nlist[0]:\n",
    "            chain = True\n",
    "            break\n",
    "        if n in nlist:\n",
    "            break\n",
    "        nlist.append(n)\n",
    "    if chain & (len(nlist) > len(nlistfinal)):\n",
    "        nlistfinal = nlist.copy()\n",
    "\n",
    "print(time.time() - tstart)"
   ]
  },
  {
   "cell_type": "code",
   "execution_count": 44,
   "metadata": {},
   "outputs": [
    {
     "data": {
      "text/plain": [
       "14316"
      ]
     },
     "execution_count": 44,
     "metadata": {},
     "output_type": "execute_result"
    }
   ],
   "source": [
    "min(nlistfinal)"
   ]
  },
  {
   "cell_type": "code",
   "execution_count": 41,
   "metadata": {},
   "outputs": [
    {
     "data": {
      "text/plain": [
       "14316"
      ]
     },
     "execution_count": 41,
     "metadata": {},
     "output_type": "execute_result"
    }
   ],
   "source": [
    "np.sum(propdiv(17716))"
   ]
  },
  {
   "cell_type": "code",
   "execution_count": 91,
   "metadata": {},
   "outputs": [
    {
     "data": {
      "text/plain": [
       "[1000,\n",
       " 1340,\n",
       " 1516,\n",
       " 1144,\n",
       " 1376,\n",
       " 1396,\n",
       " 1054,\n",
       " 674,\n",
       " 340,\n",
       " 416,\n",
       " 466,\n",
       " 236,\n",
       " 184,\n",
       " 176,\n",
       " 196,\n",
       " 189,\n",
       " 131,\n",
       " 1]"
      ]
     },
     "execution_count": 91,
     "metadata": {},
     "output_type": "execute_result"
    }
   ],
   "source": [
    "nlist"
   ]
  },
  {
   "cell_type": "code",
   "execution_count": null,
   "metadata": {},
   "outputs": [],
   "source": []
  }
 ],
 "metadata": {
  "kernelspec": {
   "display_name": "Python 3",
   "language": "python",
   "name": "python3"
  },
  "language_info": {
   "codemirror_mode": {
    "name": "ipython",
    "version": 3
   },
   "file_extension": ".py",
   "mimetype": "text/x-python",
   "name": "python",
   "nbconvert_exporter": "python",
   "pygments_lexer": "ipython3",
   "version": "3.7.9"
  }
 },
 "nbformat": 4,
 "nbformat_minor": 4
}
