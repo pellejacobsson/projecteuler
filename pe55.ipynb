{
 "cells": [
  {
   "cell_type": "markdown",
   "metadata": {},
   "source": [
    "## Problem 55: Lychrel numbers\n",
    "If we take 47, reverse and add, 47 + 74 = 121, which is palindromic.\n",
    "\n",
    "Not all numbers produce palindromes so quickly. For example,\n",
    "\n",
    "349 + 943 = 1292,\n",
    "\n",
    "1292 + 2921 = 4213\n",
    "\n",
    "4213 + 3124 = 7337\n",
    "\n",
    "That is, 349 took three iterations to arrive at a palindrome.\n",
    "\n",
    "Although no one has proved it yet, it is thought that some numbers, like 196, never produce a palindrome. A number that never forms a palindrome through the reverse and add process is called a Lychrel number. Due to the theoretical nature of these numbers, and for the purpose of this problem, we shall assume that a number is Lychrel until proven otherwise. In addition you are given that for every number below ten-thousand, it will either (i) become a palindrome in less than fifty iterations, or, (ii) no one, with all the computing power that exists, has managed so far to map it to a palindrome. In fact, 10677 is the first number to be shown to require over fifty iterations before producing a palindrome: 4668731596684224866951378664 (53 iterations, 28-digits).\n",
    "\n",
    "Surprisingly, there are palindromic numbers that are themselves Lychrel numbers; the first example is 4994.\n",
    "\n",
    "How many Lychrel numbers are there below ten-thousand?\n",
    "\n",
    "NOTE: Wording was modified slightly on 24 April 2007 to emphasise the theoretical nature of Lychrel numbers."
   ]
  },
  {
   "cell_type": "code",
   "execution_count": 54,
   "metadata": {},
   "outputs": [
    {
     "data": {
      "text/plain": [
       "reverse (generic function with 2 methods)"
      ]
     },
     "execution_count": 54,
     "metadata": {},
     "output_type": "execute_result"
    }
   ],
   "source": [
    "function inttolist(n)\n",
    "    return [parse(Int32, x) for x in string(n)]\n",
    "end\n",
    "\n",
    "function listtoint(nvect)\n",
    "    return parse(BigInt, join([string(x) for x in nvect]))\n",
    "end\n",
    "\n",
    "function ispalindrome(n)\n",
    "    nl = inttolist(n)\n",
    "    nll = length(nl)\n",
    "    if nll % 2 == 0\n",
    "        nl1 = nl[1:Int(nll/2)]\n",
    "        nl2 = nl[Int(nll/2)+1:end]\n",
    "    else\n",
    "        nl1 = nl[1:Int((nll-1)/2)]\n",
    "        nl2 = nl[Int((nll-1)/2)+2:end]\n",
    "    end\n",
    "    if nl1 == nl2[end:-1:1]\n",
    "        return true\n",
    "    else\n",
    "        return false\n",
    "    end\n",
    "end\n",
    "\n",
    "function reverse(n::BigInt)\n",
    "    nl = [parse(BigInt, x) for x in string(n)]\n",
    "    nlr = nl[end:-1:1]\n",
    "    nr = listtoint(nlr)\n",
    "    return nr\n",
    "end"
   ]
  },
  {
   "cell_type": "code",
   "execution_count": 84,
   "metadata": {},
   "outputs": [],
   "source": [
    "lychrel = Dict()\n",
    "for n = 1:9999\n",
    "    i = 1\n",
    "    nn = n + reverse(n)\n",
    "    while i <= 50\n",
    "        if ispalindrome(nn)\n",
    "            lychrel[n] = i\n",
    "            break\n",
    "        else\n",
    "            i += 1\n",
    "            nn += reverse(nn)\n",
    "        end\n",
    "    end\n",
    "end"
   ]
  },
  {
   "cell_type": "code",
   "execution_count": 94,
   "metadata": {},
   "outputs": [
    {
     "name": "stdout",
     "output_type": "stream",
     "text": [
      "Number of Lychrel numbers below 10000: 249\n"
     ]
    }
   ],
   "source": [
    "println(\"Number of Lychrel numbers below 10000: $(9999-length(lychrel))\")"
   ]
  }
 ],
 "metadata": {
  "kernelspec": {
   "display_name": "Julia 1.2.0",
   "language": "julia",
   "name": "julia-1.2"
  },
  "language_info": {
   "file_extension": ".jl",
   "mimetype": "application/julia",
   "name": "julia",
   "version": "1.2.0"
  }
 },
 "nbformat": 4,
 "nbformat_minor": 4
}
