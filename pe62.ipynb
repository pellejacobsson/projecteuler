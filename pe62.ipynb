{
 "cells": [
  {
   "cell_type": "markdown",
   "metadata": {},
   "source": [
    "## Problem 62: Cubic permutations\n",
    "The cube, 41063625 ($345^3$), can be permuted to produce two other cubes: 56623104 ($384^3$) and 66430125 ($405^3$). In fact, 41063625 is the smallest cube which has exactly three permutations of its digits which are also cube.\n",
    "\n",
    "Find the smallest cube for which exactly five permutations of its digits are cube."
   ]
  },
  {
   "cell_type": "code",
   "execution_count": 1,
   "metadata": {},
   "outputs": [],
   "source": [
    "using Combinatorics"
   ]
  },
  {
   "cell_type": "code",
   "execution_count": 97,
   "metadata": {},
   "outputs": [
    {
     "data": {
      "text/plain": [
       "ispermutation (generic function with 1 method)"
      ]
     },
     "execution_count": 97,
     "metadata": {},
     "output_type": "execute_result"
    }
   ],
   "source": [
    "function inttolist(n)\n",
    "    return [parse(Int32, x) for x in string(n)]\n",
    "end\n",
    "\n",
    "function ispermutation(n1, n2)\n",
    "    n1l = inttolist(n1)\n",
    "    n2l = inttolist(n2)\n",
    "    return sort(n1l) == sort(n2l)\n",
    "end"
   ]
  },
  {
   "cell_type": "code",
   "execution_count": 124,
   "metadata": {},
   "outputs": [],
   "source": [
    "plist = []\n",
    "smallestcube = 1e20\n",
    "nstart = 4641\n",
    "nend = 10000\n",
    "for n1 in nstart:nend\n",
    "    n1c = n1^3\n",
    "    for n2 in nstart:nend\n",
    "        if n2 == n1\n",
    "            continue\n",
    "        end\n",
    "        n2c = n2^3\n",
    "        if ispermutation(n1c, n2c)\n",
    "            for n3 in nstart:nend\n",
    "                if (n3 == n1) | (n3 == n2)\n",
    "                    continue\n",
    "                end\n",
    "                n3c = n3^3\n",
    "                if ispermutation(n2c, n3c)\n",
    "                    for n4 in nstart:nend\n",
    "                        if (n4 == n1) | (n4 == n2) | (n4 == n3)\n",
    "                            continue\n",
    "                        end\n",
    "                        n4c = n4^3\n",
    "                        if ispermutation(n3c, n4c)\n",
    "                            for n5 in nstart:nend\n",
    "                                if (n5 == n4) | (n5 == n3) | (n5 == n2) | (n5 == n1)\n",
    "                                    continue\n",
    "                                end\n",
    "                                n5c = n5^3\n",
    "                                if ispermutation(n4c, n5c)\n",
    "                                    ncmin = min(n1c, n2c, n3c, n4c, n5c)\n",
    "                                    if ncmin < smallestcube\n",
    "                                        smallestcube = ncmin\n",
    "                                        plist = [n1, n2, n3, n4, n5]\n",
    "                                    end\n",
    "                                end\n",
    "                            end\n",
    "                        end\n",
    "                    end\n",
    "                end\n",
    "            end\n",
    "        end\n",
    "    end\n",
    "end"
   ]
  },
  {
   "cell_type": "code",
   "execution_count": 125,
   "metadata": {},
   "outputs": [
    {
     "data": {
      "text/plain": [
       "5-element Array{Int64,1}:\n",
       " 5027\n",
       " 7061\n",
       " 7202\n",
       " 8288\n",
       " 8384"
      ]
     },
     "execution_count": 125,
     "metadata": {},
     "output_type": "execute_result"
    }
   ],
   "source": [
    "plist"
   ]
  },
  {
   "cell_type": "code",
   "execution_count": 126,
   "metadata": {},
   "outputs": [
    {
     "data": {
      "text/plain": [
       "5-element Array{Int64,1}:\n",
       " 127035954683\n",
       " 352045367981\n",
       " 373559126408\n",
       " 569310543872\n",
       " 589323567104"
      ]
     },
     "execution_count": 126,
     "metadata": {},
     "output_type": "execute_result"
    }
   ],
   "source": [
    "p3 = [x^3 for x in plist]"
   ]
  },
  {
   "cell_type": "code",
   "execution_count": null,
   "metadata": {},
   "outputs": [],
   "source": []
  }
 ],
 "metadata": {
  "kernelspec": {
   "display_name": "Julia 1.3.1",
   "language": "julia",
   "name": "julia-1.3"
  },
  "language_info": {
   "file_extension": ".jl",
   "mimetype": "application/julia",
   "name": "julia",
   "version": "1.3.1"
  }
 },
 "nbformat": 4,
 "nbformat_minor": 4
}
