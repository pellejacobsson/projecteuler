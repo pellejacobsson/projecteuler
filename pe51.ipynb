{
 "cells": [
  {
   "cell_type": "markdown",
   "metadata": {},
   "source": [
    "## Problem 51: Prime digit replacements\n",
    "By replacing the 1st digit of the 2-digit number *3, it turns out that six of the nine possible values: 13, 23, 43, 53, 73, and 83, are all prime.\n",
    "\n",
    "By replacing the 3rd and 4th digits of 56**3 with the same digit, this 5-digit number is the first example having seven primes among the ten generated numbers, yielding the family: 56003, 56113, 56333, 56443, 56663, 56773, and 56993. Consequently 56003, being the first member of this family, is the smallest prime with this property.\n",
    "\n",
    "Find the smallest prime which, by replacing part of the number (not necessarily adjacent digits) with the same digit, is part of an eight prime value family."
   ]
  },
  {
   "cell_type": "code",
   "execution_count": 5,
   "metadata": {},
   "outputs": [
    {
     "name": "stderr",
     "output_type": "stream",
     "text": [
      "┌ Info: Precompiling Combinatorics [861a8166-3701-5b0c-9a16-15d98fcdc6aa]\n",
      "└ @ Base loading.jl:1242\n"
     ]
    }
   ],
   "source": [
    "using Combinatorics"
   ]
  },
  {
   "cell_type": "code",
   "execution_count": 145,
   "metadata": {},
   "outputs": [
    {
     "data": {
      "text/plain": [
       "replacedprimes (generic function with 2 methods)"
      ]
     },
     "execution_count": 145,
     "metadata": {},
     "output_type": "execute_result"
    }
   ],
   "source": [
    "function sieveprimes(nmax)\n",
    "    p = trues(nmax)\n",
    "    p[1] = false\n",
    "    p[4:2:nmax] .= false\n",
    "    n = 3\n",
    "    while n^2 < nmax\n",
    "        if p[n]\n",
    "            p[n^2:n:nmax] .= false\n",
    "        end\n",
    "        n += 1\n",
    "    end\n",
    "    return p\n",
    "end\n",
    "\n",
    "function primelist(nmax)\n",
    "    pidx = sieveprimes(nmax)\n",
    "    pall = 1:nmax\n",
    "    return pall[pidx]\n",
    "end\n",
    "\n",
    "function isprime(n, plist)\n",
    "    for p in plist\n",
    "        if p^2 > n\n",
    "            return true\n",
    "        elseif n % p == 0\n",
    "            return false\n",
    "        end\n",
    "    end\n",
    "    return true\n",
    "end\n",
    "\n",
    "function inttolist(n)\n",
    "    return [parse(Int32, x) for x in string(n)]\n",
    "end\n",
    "\n",
    "function listtoint(nvect)\n",
    "    return parse(Int32, join([string(x) for x in nvect]))\n",
    "end\n",
    "\n",
    "function replacedprimes(n, idx, plist)\n",
    "    p = []\n",
    "    nvect = inttolist(n)\n",
    "    orignsize = size(nvect)[1]\n",
    "    for m in 0:9\n",
    "        nvect[idx] .= m\n",
    "        nn = listtoint(nvect)\n",
    "        if nvect[1] != 0 && isprime(nn, plist)\n",
    "            push!(p, nn)\n",
    "        end\n",
    "    end\n",
    "    return p\n",
    "end"
   ]
  },
  {
   "cell_type": "code",
   "execution_count": 143,
   "metadata": {},
   "outputs": [
    {
     "data": {
      "text/plain": [
       "calcreplacedprimes (generic function with 2 methods)"
      ]
     },
     "execution_count": 143,
     "metadata": {},
     "output_type": "execute_result"
    }
   ],
   "source": [
    "function calcreplacedprimes(n, plist)\n",
    "    ndigits = size(inttolist(n))[1]\n",
    "    maxprimes = 0\n",
    "    maxprimelist = []\n",
    "    for idx in combinations(1:ndigits)\n",
    "        rprimelist = replacedprimes(n, idx, plist)\n",
    "        nprimes = size(rprimelist)[1]\n",
    "        if nprimes > maxprimes\n",
    "            maxprimes = nprimes\n",
    "            maxprimelist = rprimelist\n",
    "        end\n",
    "    end\n",
    "    return maxprimes, maxprimelist\n",
    "end"
   ]
  },
  {
   "cell_type": "code",
   "execution_count": 150,
   "metadata": {},
   "outputs": [],
   "source": [
    "plist = primelist(convert(Int32, ceil(sqrt(10^10))))\n",
    "bestnmax = 0\n",
    "bestnlist = []\n",
    "for n = 100000:200000\n",
    "    nmax, nlist = calcreplacedprimes(n, plist)\n",
    "    if nmax > bestnmax\n",
    "        bestnmax = nmax\n",
    "        bestnlist = nlist\n",
    "    end\n",
    "end"
   ]
  },
  {
   "cell_type": "code",
   "execution_count": 151,
   "metadata": {},
   "outputs": [
    {
     "data": {
      "text/plain": [
       "8"
      ]
     },
     "execution_count": 151,
     "metadata": {},
     "output_type": "execute_result"
    }
   ],
   "source": [
    "bestnmax"
   ]
  },
  {
   "cell_type": "code",
   "execution_count": 156,
   "metadata": {},
   "outputs": [
    {
     "name": "stdout",
     "output_type": "stream",
     "text": [
      "First prime: 121313\n"
     ]
    }
   ],
   "source": [
    "println(\"First prime: $(bestnlist[1])\")"
   ]
  }
 ],
 "metadata": {
  "kernelspec": {
   "display_name": "Julia 1.2.0",
   "language": "julia",
   "name": "julia-1.2"
  },
  "language_info": {
   "file_extension": ".jl",
   "mimetype": "application/julia",
   "name": "julia",
   "version": "1.2.0"
  }
 },
 "nbformat": 4,
 "nbformat_minor": 4
}
