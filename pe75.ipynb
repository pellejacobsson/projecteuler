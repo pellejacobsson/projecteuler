{
 "cells": [
  {
   "cell_type": "markdown",
   "metadata": {},
   "source": [
    "## Problem 75: Singular integer right triangles"
   ]
  },
  {
   "cell_type": "code",
   "execution_count": 63,
   "metadata": {},
   "outputs": [],
   "source": [
    "lmax = 1500000\n",
    "nmax = Int(ceil(0.5*(sqrt(9/4 - 2 + lmax) - 3/2)))\n",
    "mmax = Int(ceil(0.5*(sqrt(1 + 2*lmax) - 1)))\n",
    "ll1 = falses(lmax)\n",
    "ll2 = falses(lmax)\n",
    "for n = 1:nmax\n",
    "    for m = (n+1):mmax\n",
    "        oddeven = ((m % 2 == 0) & (n % 2 != 0)) | ((n % 2 == 0) & (m % 2 != 0))\n",
    "        if (numerator(m//n) == m) & oddeven\n",
    "            a = m^2 - n^2\n",
    "            b = 2*m*n\n",
    "            c = m^2 + n^2\n",
    "            l = a + b + c\n",
    "            k = 1\n",
    "            while k*l <= lmax\n",
    "                if !ll1[k*l]\n",
    "                    ll1[k*l] = true\n",
    "                else\n",
    "                    ll2[k*l] = true\n",
    "                end\n",
    "                k += 1\n",
    "            end\n",
    "        end\n",
    "    end\n",
    "end "
   ]
  },
  {
   "cell_type": "code",
   "execution_count": 64,
   "metadata": {},
   "outputs": [],
   "source": [
    "ll = ll1 .& .!ll2;"
   ]
  },
  {
   "cell_type": "code",
   "execution_count": 65,
   "metadata": {},
   "outputs": [
    {
     "data": {
      "text/plain": [
       "true"
      ]
     },
     "execution_count": 65,
     "metadata": {},
     "output_type": "execute_result"
    }
   ],
   "source": [
    "ll1[24]"
   ]
  },
  {
   "cell_type": "code",
   "execution_count": 66,
   "metadata": {},
   "outputs": [
    {
     "data": {
      "text/plain": [
       "false"
      ]
     },
     "execution_count": 66,
     "metadata": {},
     "output_type": "execute_result"
    }
   ],
   "source": [
    "ll2[24]"
   ]
  },
  {
   "cell_type": "code",
   "execution_count": 67,
   "metadata": {},
   "outputs": [
    {
     "data": {
      "text/plain": [
       "161667"
      ]
     },
     "execution_count": 67,
     "metadata": {},
     "output_type": "execute_result"
    }
   ],
   "source": [
    "sum(ll)"
   ]
  },
  {
   "cell_type": "code",
   "execution_count": null,
   "metadata": {},
   "outputs": [],
   "source": []
  }
 ],
 "metadata": {
  "kernelspec": {
   "display_name": "Julia 1.3.1",
   "language": "julia",
   "name": "julia-1.3"
  },
  "language_info": {
   "file_extension": ".jl",
   "mimetype": "application/julia",
   "name": "julia",
   "version": "1.3.1"
  }
 },
 "nbformat": 4,
 "nbformat_minor": 4
}
