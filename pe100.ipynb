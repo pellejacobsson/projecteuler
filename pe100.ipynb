{
 "cells": [
  {
   "cell_type": "markdown",
   "metadata": {},
   "source": [
    "## Problem 100: Arranged probability"
   ]
  },
  {
   "cell_type": "markdown",
   "metadata": {},
   "source": [
    "\\\\[\n",
    "\\frac{x}{n} \\frac{x-1}{n-1} = \\frac{1}{2} \\rightarrow x = \\frac{1 + \\sqrt{1 + 2n(n-1)}}{2} = \\frac{1 + \\sqrt{n^2 + (n-1)^2}}{2}\n",
    "\\\\]\n",
    "Använd Pell-nummer för att generera pythagoriska tripplar för att hitta $n^2 + (n-1)^2 = m^2$\n"
   ]
  },
  {
   "cell_type": "code",
   "execution_count": 1,
   "metadata": {},
   "outputs": [
    {
     "data": {
      "text/plain": [
       "pell (generic function with 1 method)"
      ]
     },
     "execution_count": 1,
     "metadata": {},
     "output_type": "execute_result"
    }
   ],
   "source": [
    "function pell(n)\n",
    "    if n == 0\n",
    "        return 0\n",
    "    elseif n == 1\n",
    "        return 1\n",
    "    elseif n in keys(memo)\n",
    "        return memo[n]\n",
    "    else\n",
    "        val = 2*pell(n-1) + pell(n-2)\n",
    "        memo[n] = val\n",
    "        return val\n",
    "    end\n",
    "end"
   ]
  },
  {
   "cell_type": "code",
   "execution_count": 59,
   "metadata": {},
   "outputs": [
    {
     "name": "stdout",
     "output_type": "stream",
     "text": [
      "Blue: 7.56872327473e11, red: 3.13506783024e11"
     ]
    }
   ],
   "source": [
    "memo = Dict()\n",
    "for m = 1:30\n",
    "    n = pell(m+1)^2 - pell(m)^2\n",
    "    if n > 1e12\n",
    "        x = (1 + pell(2*m+1))/2\n",
    "        print(\"Blue: $x, red: $(n-x)\")\n",
    "        break\n",
    "    end\n",
    "end"
   ]
  },
  {
   "cell_type": "code",
   "execution_count": 60,
   "metadata": {},
   "outputs": [
    {
     "data": {
      "text/plain": [
       "756872327473"
      ]
     },
     "execution_count": 60,
     "metadata": {},
     "output_type": "execute_result"
    }
   ],
   "source": [
    "Int(x)"
   ]
  }
 ],
 "metadata": {
  "kernelspec": {
   "display_name": "Julia 1.5.2",
   "language": "julia",
   "name": "julia-1.5"
  },
  "language_info": {
   "file_extension": ".jl",
   "mimetype": "application/julia",
   "name": "julia",
   "version": "1.5.2"
  }
 },
 "nbformat": 4,
 "nbformat_minor": 4
}
