{
 "cells": [
  {
   "cell_type": "markdown",
   "metadata": {},
   "source": [
    "## Problem 79: Passcode derivation"
   ]
  },
  {
   "cell_type": "code",
   "execution_count": 1,
   "metadata": {},
   "outputs": [],
   "source": [
    "rl = []\n",
    "r = []\n",
    "open(\"p079_keylog.txt\") do file\n",
    "    for ln in eachline(file)\n",
    "        push!(r, parse(Int, ln))\n",
    "    end\n",
    "end"
   ]
  },
  {
   "cell_type": "code",
   "execution_count": 2,
   "metadata": {},
   "outputs": [],
   "source": [
    "unique!(r);"
   ]
  },
  {
   "cell_type": "code",
   "execution_count": 3,
   "metadata": {},
   "outputs": [],
   "source": [
    "rl = [[parse(Int, x) for x in string(y)] for y in r];"
   ]
  },
  {
   "cell_type": "code",
   "execution_count": 4,
   "metadata": {},
   "outputs": [],
   "source": [
    "r1 = [x[1] for x in rl]\n",
    "r2 = [x[2] for x in rl]\n",
    "r3 = [x[3] for x in rl];"
   ]
  },
  {
   "cell_type": "code",
   "execution_count": 20,
   "metadata": {},
   "outputs": [],
   "source": [
    "before = Dict()\n",
    "for nlist in rl\n",
    "    if haskey(before, nlist[2])\n",
    "        if !(nlist[1] in before[nlist[2]])\n",
    "            push!(before[nlist[2]], nlist[1])\n",
    "        end\n",
    "    else\n",
    "        before[nlist[2]] = [nlist[1]]\n",
    "    end\n",
    "    if haskey(before, nlist[3])\n",
    "        if !(nlist[1] in before[nlist[3]])\n",
    "            push!(before[nlist[3]], nlist[1])\n",
    "        end\n",
    "    else\n",
    "        before[nlist[3]] = [nlist[1]]\n",
    "    end\n",
    "    if !(nlist[2] in before[nlist[3]])\n",
    "        push!(before[nlist[3]], nlist[2])\n",
    "    end\n",
    "end\n",
    "\n",
    "        "
   ]
  },
  {
   "cell_type": "code",
   "execution_count": 21,
   "metadata": {},
   "outputs": [
    {
     "data": {
      "text/plain": [
       "Dict{Any,Any} with 7 entries:\n",
       "  0 => [6, 8, 1, 9, 2, 7, 3]\n",
       "  9 => [3, 1, 6, 2, 8, 7]\n",
       "  2 => [1, 6, 7, 3]\n",
       "  3 => [7]\n",
       "  8 => [6, 1, 3, 2, 7]\n",
       "  6 => [7, 3, 1]\n",
       "  1 => [3, 7]"
      ]
     },
     "execution_count": 21,
     "metadata": {},
     "output_type": "execute_result"
    }
   ],
   "source": [
    "before"
   ]
  },
  {
   "cell_type": "code",
   "execution_count": 23,
   "metadata": {},
   "outputs": [
    {
     "name": "stdout",
     "output_type": "stream",
     "text": [
      "73162890\n"
     ]
    }
   ],
   "source": [
    "println(\"73162890\")"
   ]
  },
  {
   "cell_type": "code",
   "execution_count": null,
   "metadata": {},
   "outputs": [],
   "source": []
  }
 ],
 "metadata": {
  "kernelspec": {
   "display_name": "Julia 1.3.1",
   "language": "julia",
   "name": "julia-1.3"
  },
  "language_info": {
   "file_extension": ".jl",
   "mimetype": "application/julia",
   "name": "julia",
   "version": "1.3.1"
  }
 },
 "nbformat": 4,
 "nbformat_minor": 4
}
