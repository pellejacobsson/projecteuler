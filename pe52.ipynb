{
 "cells": [
  {
   "cell_type": "markdown",
   "metadata": {},
   "source": [
    "## Problem 52: Permuted multiples\n",
    "It can be seen that the number, 125874, and its double, 251748, contain exactly the same digits, but in a different order.\n",
    "\n",
    "Find the smallest positive integer, x, such that 2x, 3x, 4x, 5x, and 6x, contain the same digits."
   ]
  },
  {
   "cell_type": "code",
   "execution_count": 16,
   "metadata": {},
   "outputs": [
    {
     "data": {
      "text/plain": [
       "i2sl (generic function with 1 method)"
      ]
     },
     "execution_count": 16,
     "metadata": {},
     "output_type": "execute_result"
    }
   ],
   "source": [
    "function inttolist(n)\n",
    "    return [parse(Int32, x) for x in string(n)]\n",
    "end\n",
    "\n",
    "function i2sl(n)\n",
    "    return sort!(inttolist(n))\n",
    "end"
   ]
  },
  {
   "cell_type": "code",
   "execution_count": 17,
   "metadata": {},
   "outputs": [],
   "source": [
    "x = 1\n",
    "found = false\n",
    "while true\n",
    "    if x % 10000000 == 0\n",
    "        println(\"x = $x\")\n",
    "    end\n",
    "    s2x = i2sl(2*x)\n",
    "    if i2sl(3*x) == s2x && i2sl(4*x) == s2x && i2sl(5*x) == s2x && i2sl(6*x) == s2x\n",
    "        break\n",
    "    else\n",
    "        x += 1\n",
    "    end\n",
    "end"
   ]
  },
  {
   "cell_type": "code",
   "execution_count": 26,
   "metadata": {},
   "outputs": [
    {
     "name": "stdout",
     "output_type": "stream",
     "text": [
      " x: 142857 \n",
      "2x: 285714 \n",
      "3x: 428571 \n",
      "4x: 571428 \n",
      "5x: 714285 \n",
      "6x: 857142\n"
     ]
    }
   ],
   "source": [
    "println(\" x: $x \\n2x: $(2*x) \\n3x: $(3*x) \\n4x: $(4*x) \\n5x: $(5*x) \\n6x: $(6*x)\")"
   ]
  },
  {
   "cell_type": "code",
   "execution_count": null,
   "metadata": {},
   "outputs": [],
   "source": []
  }
 ],
 "metadata": {
  "kernelspec": {
   "display_name": "Julia 1.2.0",
   "language": "julia",
   "name": "julia-1.2"
  },
  "language_info": {
   "file_extension": ".jl",
   "mimetype": "application/julia",
   "name": "julia",
   "version": "1.2.0"
  }
 },
 "nbformat": 4,
 "nbformat_minor": 4
}
