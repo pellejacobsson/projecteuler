{
 "cells": [
  {
   "cell_type": "markdown",
   "metadata": {},
   "source": [
    "## Problem 93: Arithmetic expressions"
   ]
  },
  {
   "cell_type": "code",
   "execution_count": 1,
   "metadata": {},
   "outputs": [],
   "source": [
    "using Combinatorics"
   ]
  },
  {
   "cell_type": "code",
   "execution_count": 121,
   "metadata": {},
   "outputs": [
    {
     "data": {
      "text/plain": [
       "consecutivemax (generic function with 1 method)"
      ]
     },
     "execution_count": 121,
     "metadata": {},
     "output_type": "execute_result"
    }
   ],
   "source": [
    "function consecutivemax(digits)\n",
    "    res = []\n",
    "    for pp1 in combinations(digits, 2)\n",
    "        for p1 in permutations(pp1)\n",
    "            for op in ops\n",
    "                p2 = op(p1[1], p1[2])\n",
    "                lasttwo = collect(setdiff(Set(digits), Set(p1)))\n",
    "                for p3 in lasttwo\n",
    "                    for op in ops\n",
    "                        p4 = op(p2, p3)\n",
    "                        p5 = collect(setdiff(Set(digits), union(Set(p1), Set(p3))))[1]\n",
    "                        for op in ops\n",
    "                            val = op(p4, p5)\n",
    "                            if (val > 0) & isinteger(val)\n",
    "                                push!(res, Int(val))\n",
    "                            end\n",
    "                        end\n",
    "                    end\n",
    "                end\n",
    "                for pp3 in combinations(lasttwo,2)\n",
    "                    for p3 in permutations(pp3)\n",
    "                        for op in ops\n",
    "                            p4 = op(p3[1], p3[2])\n",
    "                            for op in ops\n",
    "                                val = op(p2, p4)\n",
    "                                if (val > 0) & isinteger(val)\n",
    "                                    push!(res, Int(val))\n",
    "                                end\n",
    "                            end\n",
    "                        end\n",
    "                    end\n",
    "                end         \n",
    "            end\n",
    "        end\n",
    "    end\n",
    "\n",
    "    resus = sort(unique(res))\n",
    "    if resus[end] == length(resus)\n",
    "        return resus[end]\n",
    "    else\n",
    "        return findfirst(resus .!= 1:length(resus)) - 1\n",
    "    end\n",
    "end"
   ]
  },
  {
   "cell_type": "code",
   "execution_count": 122,
   "metadata": {},
   "outputs": [],
   "source": [
    "ops = [+, -, /, *]\n",
    "mmax = 0\n",
    "digitsmax = []\n",
    "for a = 0:9\n",
    "    for b = (a+1):9\n",
    "        for c = (b+1):9\n",
    "            for d = (c+1):9\n",
    "                digits = [a, b, c, d]\n",
    "                m = consecutivemax(digits)\n",
    "                if m > mmax\n",
    "                    mmax = m\n",
    "                    digitsmax = digits\n",
    "                end\n",
    "            end\n",
    "        end\n",
    "    end\n",
    "end"
   ]
  },
  {
   "cell_type": "code",
   "execution_count": 123,
   "metadata": {},
   "outputs": [
    {
     "name": "stdout",
     "output_type": "stream",
     "text": [
      "Max value 51 for digits [1, 2, 5, 8]"
     ]
    }
   ],
   "source": [
    "print(\"Max value $mmax for digits $digitsmax\")"
   ]
  },
  {
   "cell_type": "code",
   "execution_count": 124,
   "metadata": {},
   "outputs": [
    {
     "data": {
      "text/plain": [
       "28"
      ]
     },
     "execution_count": 124,
     "metadata": {},
     "output_type": "execute_result"
    }
   ],
   "source": [
    "consecutivemax([1,2,3,4])"
   ]
  },
  {
   "cell_type": "code",
   "execution_count": null,
   "metadata": {},
   "outputs": [],
   "source": []
  }
 ],
 "metadata": {
  "kernelspec": {
   "display_name": "Julia 1.5.2",
   "language": "julia",
   "name": "julia-1.5"
  },
  "language_info": {
   "file_extension": ".jl",
   "mimetype": "application/julia",
   "name": "julia",
   "version": "1.5.2"
  }
 },
 "nbformat": 4,
 "nbformat_minor": 4
}
