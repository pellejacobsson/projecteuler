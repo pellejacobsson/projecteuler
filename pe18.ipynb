{
 "cells": [
  {
   "cell_type": "markdown",
   "metadata": {},
   "source": [
    "## Problem 18: Maximum path sum I"
   ]
  },
  {
   "cell_type": "code",
   "execution_count": 49,
   "metadata": {},
   "outputs": [
    {
     "data": {
      "text/plain": [
       "tsum (generic function with 1 method)"
      ]
     },
     "execution_count": 49,
     "metadata": {},
     "output_type": "execute_result"
    }
   ],
   "source": [
    "function tsum(t)\n",
    "    ss = t[end]\n",
    "    for l = (length(t)-1):-1:1\n",
    "        s = []\n",
    "        for i =1:length(t[l])\n",
    "            push!(s, max(t[l][i] + ss[i], t[l][i] + ss[i+1]))\n",
    "        end\n",
    "        ss = s\n",
    "    end\n",
    "    return ss[1]\n",
    "end"
   ]
  },
  {
   "cell_type": "code",
   "execution_count": 51,
   "metadata": {},
   "outputs": [
    {
     "data": {
      "text/plain": [
       "4-element Array{Array{Int64,1},1}:\n",
       " [3]         \n",
       " [7, 4]      \n",
       " [2, 4, 6]   \n",
       " [8, 5, 9, 3]"
      ]
     },
     "execution_count": 51,
     "metadata": {},
     "output_type": "execute_result"
    }
   ],
   "source": [
    "t1 = [[3], [7, 4], [2, 4, 6], [8, 5, 9, 3]]"
   ]
  },
  {
   "cell_type": "code",
   "execution_count": 69,
   "metadata": {},
   "outputs": [],
   "source": [
    "t2 = []\n",
    "open(\"triangle_18.txt\") do file\n",
    "    for ln in eachline(file)\n",
    "        push!(t2, [parse(Int, s) for s in split(ln, \" \")])\n",
    "    end\n",
    "end"
   ]
  },
  {
   "cell_type": "code",
   "execution_count": 70,
   "metadata": {},
   "outputs": [
    {
     "data": {
      "text/plain": [
       "15-element Array{Any,1}:\n",
       " [75]                                                     \n",
       " [95, 64]                                                 \n",
       " [17, 47, 82]                                             \n",
       " [18, 35, 87, 10]                                         \n",
       " [20, 4, 82, 47, 65]                                      \n",
       " [19, 1, 23, 75, 3, 34]                                   \n",
       " [88, 2, 77, 73, 7, 63, 67]                               \n",
       " [99, 65, 4, 28, 6, 16, 70, 92]                           \n",
       " [41, 41, 26, 56, 83, 40, 80, 70, 33]                     \n",
       " [41, 48, 72, 33, 47, 32, 37, 16, 94, 29]                 \n",
       " [53, 71, 44, 65, 25, 43, 91, 52, 97, 51, 14]             \n",
       " [70, 11, 33, 28, 77, 73, 17, 78, 39, 68, 17, 57]         \n",
       " [91, 71, 52, 38, 17, 14, 91, 43, 58, 50, 27, 29, 48]     \n",
       " [63, 66, 4, 68, 89, 53, 67, 30, 73, 16, 69, 87, 40, 31]  \n",
       " [4, 62, 98, 27, 23, 9, 70, 98, 73, 93, 38, 53, 60, 4, 23]"
      ]
     },
     "execution_count": 70,
     "metadata": {},
     "output_type": "execute_result"
    }
   ],
   "source": [
    "t2"
   ]
  },
  {
   "cell_type": "code",
   "execution_count": 72,
   "metadata": {},
   "outputs": [
    {
     "data": {
      "text/plain": [
       "1074"
      ]
     },
     "execution_count": 72,
     "metadata": {},
     "output_type": "execute_result"
    }
   ],
   "source": [
    "tsum(t2)"
   ]
  },
  {
   "cell_type": "code",
   "execution_count": null,
   "metadata": {},
   "outputs": [],
   "source": []
  }
 ],
 "metadata": {
  "kernelspec": {
   "display_name": "Julia 1.3.1",
   "language": "julia",
   "name": "julia-1.3"
  },
  "language_info": {
   "file_extension": ".jl",
   "mimetype": "application/julia",
   "name": "julia",
   "version": "1.3.1"
  }
 },
 "nbformat": 4,
 "nbformat_minor": 4
}
