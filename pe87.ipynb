{
 "cells": [
  {
   "cell_type": "markdown",
   "metadata": {},
   "source": [
    "## Problem 87: Prime power triples"
   ]
  },
  {
   "cell_type": "code",
   "execution_count": 1,
   "metadata": {},
   "outputs": [
    {
     "data": {
      "text/plain": [
       "primelist (generic function with 1 method)"
      ]
     },
     "execution_count": 1,
     "metadata": {},
     "output_type": "execute_result"
    }
   ],
   "source": [
    "function sieveprimes(nmax)\n",
    "    p = trues(nmax)\n",
    "    p[1] = false\n",
    "    p[4:2:nmax] .= false\n",
    "    n = 3\n",
    "    while n^2 < nmax\n",
    "        if p[n]\n",
    "            p[n^2:n:nmax] .= false\n",
    "        end\n",
    "        n += 1\n",
    "    end\n",
    "    return p\n",
    "end\n",
    "\n",
    "function primelist(nmax)\n",
    "    pidx = sieveprimes(nmax)\n",
    "    pall = 1:nmax\n",
    "    return pall[pidx]\n",
    "end"
   ]
  },
  {
   "cell_type": "code",
   "execution_count": 7,
   "metadata": {},
   "outputs": [],
   "source": [
    "nmax = 50000000\n",
    "all = falses(nmax)\n",
    "p2 = primelist(Int(ceil(sqrt(nmax))))\n",
    "p3 = primelist(Int(ceil(nmax^(1/3))))\n",
    "p4 = primelist(Int(ceil(nmax^(1/4))))\n",
    "for x = p2\n",
    "    for y = p3\n",
    "        for z = p4\n",
    "            n = x^2 + y^3 + z^4\n",
    "            if n <= nmax\n",
    "                all[n] = true\n",
    "            end\n",
    "        end\n",
    "    end\n",
    "end"
   ]
  },
  {
   "cell_type": "code",
   "execution_count": 8,
   "metadata": {},
   "outputs": [
    {
     "data": {
      "text/plain": [
       "1097343"
      ]
     },
     "execution_count": 8,
     "metadata": {},
     "output_type": "execute_result"
    }
   ],
   "source": [
    "sum(all)"
   ]
  },
  {
   "cell_type": "code",
   "execution_count": null,
   "metadata": {},
   "outputs": [],
   "source": []
  }
 ],
 "metadata": {
  "kernelspec": {
   "display_name": "Julia 1.3.1",
   "language": "julia",
   "name": "julia-1.3"
  },
  "language_info": {
   "file_extension": ".jl",
   "mimetype": "application/julia",
   "name": "julia",
   "version": "1.3.1"
  }
 },
 "nbformat": 4,
 "nbformat_minor": 4
}
