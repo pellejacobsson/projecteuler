{
 "cells": [
  {
   "cell_type": "markdown",
   "metadata": {},
   "source": [
    "## Problem 57: Square root convergents\n",
    "It is possible to show that the square root of two can be expressed as an infinite continued fraction.\n",
    "$$ \\sqrt{2} = 1 + \\frac{1}{2 + \\frac{1}{2 + \\frac{1}{2 + \\ldots}}} $$\n",
    "\n",
    "By expanding this for the first four iterations, we get:\n",
    "$$ \\begin{array}{l}\n",
    "&1 + \\frac{1}{2} = \\frac{3}{2} = 1.5 \\\\\n",
    "&1 + \\frac{1}{2 + \\frac{1}{2}} = \\frac{7}{5} = 1.4 \\\\\n",
    "&1 + \\frac{1}{2 + \\frac{1}{2 + \\frac{1}{2}}} = \\frac{17}{12} = 1.41666\\ldots \\\\\n",
    "&1 + \\frac{1}{2 + \\frac{1}{2 + \\frac{1}{2 + \\frac{1}{2}}}} = \\frac{41}{29} = 1.41379\\ldots\n",
    "\\end{array} $$\n",
    "\n",
    "The next three expansions are $\\frac{99}{70}, \\frac{239}{169}, \\frac{577}{408}$ but the eight expansion, $\\frac{1393}{985}$, is the first example where the number of digits in the numerator exceeds the number of digits in the denominator.\n",
    "\n",
    "In the first one-thousand expansions, how many fractions contain a numerator with more digits than the denominator?"
   ]
  },
  {
   "cell_type": "code",
   "execution_count": 21,
   "metadata": {},
   "outputs": [
    {
     "data": {
      "text/plain": [
       "sqapprox (generic function with 1 method)"
      ]
     },
     "execution_count": 21,
     "metadata": {},
     "output_type": "execute_result"
    }
   ],
   "source": [
    "function inttolist(n)\n",
    "    return [parse(Int32, x) for x in string(n)]\n",
    "end\n",
    "\n",
    "function numofdigits(n)\n",
    "    return length(inttolist(n))\n",
    "end\n",
    "\n",
    "function denom(iter)\n",
    "    if iter == 1\n",
    "        return Rational{BigInt}(2)\n",
    "    else\n",
    "        return Rational{BigInt}(2 + 1//(denom(iter-1)))\n",
    "    end\n",
    "end\n",
    "\n",
    "function sqapprox(iter)\n",
    "    return 1 + 1//denom(iter)\n",
    "end\n"
   ]
  },
  {
   "cell_type": "code",
   "execution_count": 22,
   "metadata": {},
   "outputs": [],
   "source": [
    "ns = 0\n",
    "for i = 1:1000\n",
    "    s = sqapprox(i)\n",
    "    if numofdigits(numerator(s)) > numofdigits(denominator(s))\n",
    "        ns += 1\n",
    "    end\n",
    "end"
   ]
  },
  {
   "cell_type": "code",
   "execution_count": 24,
   "metadata": {},
   "outputs": [
    {
     "name": "stdout",
     "output_type": "stream",
     "text": [
      "Number of fractions with numerator larger than denominator: 153\n"
     ]
    }
   ],
   "source": [
    "println(\"Number of fractions with numerator larger than denominator: $ns\")"
   ]
  },
  {
   "cell_type": "code",
   "execution_count": null,
   "metadata": {},
   "outputs": [],
   "source": []
  }
 ],
 "metadata": {
  "kernelspec": {
   "display_name": "Julia 1.2.0",
   "language": "julia",
   "name": "julia-1.2"
  },
  "language_info": {
   "file_extension": ".jl",
   "mimetype": "application/julia",
   "name": "julia",
   "version": "1.2.0"
  }
 },
 "nbformat": 4,
 "nbformat_minor": 4
}
