{
 "cells": [
  {
   "cell_type": "markdown",
   "metadata": {},
   "source": [
    "## Problem 65: Convergents of e"
   ]
  },
  {
   "cell_type": "code",
   "execution_count": 77,
   "metadata": {},
   "outputs": [
    {
     "data": {
      "text/plain": [
       "inttolist (generic function with 1 method)"
      ]
     },
     "execution_count": 77,
     "metadata": {},
     "output_type": "execute_result"
    }
   ],
   "source": [
    "function econv(n, k)\n",
    "    if (n-2) % 3 == 0\n",
    "        if n == k\n",
    "            return Rational{BigInt}(2*(n+1)//3)\n",
    "        else\n",
    "            return Rational{BigInt}(2*(n+1)//3 + 1 // econv(n+1, k))\n",
    "        end\n",
    "    else\n",
    "        if n == k\n",
    "            return Rational{BigInt}(1)\n",
    "        else\n",
    "            return Rational{BigInt}(1 + 1 // econv(n+1, k))\n",
    "        end\n",
    "    end\n",
    "end\n",
    "\n",
    "function geteconv(k)\n",
    "    return 2 + 1//econv(1,k)\n",
    "end\n",
    "\n",
    "function inttolist(n)\n",
    "    return [parse(Int32, x) for x in string(n)]\n",
    "end"
   ]
  },
  {
   "cell_type": "code",
   "execution_count": 86,
   "metadata": {},
   "outputs": [
    {
     "name": "stdout",
     "output_type": "stream",
     "text": [
      "2: 3//1\n",
      "3: 8//3\n",
      "4: 11//4\n",
      "5: 19//7\n",
      "6: 87//32\n",
      "7: 106//39\n",
      "8: 193//71\n",
      "9: 1264//465\n",
      "10: 1457//536\n"
     ]
    }
   ],
   "source": [
    "for n = 2:10\n",
    "    println(\"$(n): $(geteconv(n-1))\")\n",
    "end"
   ]
  },
  {
   "cell_type": "code",
   "execution_count": 79,
   "metadata": {},
   "outputs": [
    {
     "name": "stdout",
     "output_type": "stream",
     "text": [
      "Sum of digits of 100th numerator: 272"
     ]
    }
   ],
   "source": [
    "n = 100\n",
    "s = sum(inttolist(numerator(geteconv(n-1))))\n",
    "print(\"Sum of digits of $(n)th numerator: $s\")"
   ]
  },
  {
   "cell_type": "code",
   "execution_count": null,
   "metadata": {},
   "outputs": [],
   "source": []
  }
 ],
 "metadata": {
  "kernelspec": {
   "display_name": "Julia 1.3.1",
   "language": "julia",
   "name": "julia-1.3"
  },
  "language_info": {
   "file_extension": ".jl",
   "mimetype": "application/julia",
   "name": "julia",
   "version": "1.3.1"
  }
 },
 "nbformat": 4,
 "nbformat_minor": 4
}
