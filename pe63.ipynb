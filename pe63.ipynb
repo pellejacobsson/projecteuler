{
 "cells": [
  {
   "cell_type": "markdown",
   "metadata": {},
   "source": [
    "## Problem 62: Powerful digit counts\n",
    "The 5-digit number, $16807 = 7^5$, is also a fifth power. Similarly, the 9-digit number, $134217728 = 8^9$, is a ninth power.\n",
    "\n",
    "How many n-digit positive integers exist which are also an nth power?"
   ]
  },
  {
   "cell_type": "code",
   "execution_count": 1,
   "metadata": {},
   "outputs": [
    {
     "data": {
      "text/plain": [
       "ndigits (generic function with 1 method)"
      ]
     },
     "execution_count": 1,
     "metadata": {},
     "output_type": "execute_result"
    }
   ],
   "source": [
    "function inttolist(n)\n",
    "    return [parse(Int32, x) for x in string(n)]\n",
    "end\n",
    "\n",
    "function ndigits(n)\n",
    "    return length(inttolist(n))\n",
    "end"
   ]
  },
  {
   "cell_type": "code",
   "execution_count": 47,
   "metadata": {},
   "outputs": [],
   "source": [
    "bsave = Dict{BigInt, Int32}()\n",
    "psave = Dict{BigInt, Int32}()\n",
    "for b in 1:9\n",
    "    for p in 1:22\n",
    "        n = BigInt(b)^p\n",
    "        if ndigits(n) == p\n",
    "            bsave[n] = b\n",
    "            psave[n] = p\n",
    "        end\n",
    "    end\n",
    "end"
   ]
  },
  {
   "cell_type": "code",
   "execution_count": 49,
   "metadata": {},
   "outputs": [
    {
     "data": {
      "text/plain": [
       "49"
      ]
     },
     "execution_count": 49,
     "metadata": {},
     "output_type": "execute_result"
    }
   ],
   "source": [
    "length(bsave)"
   ]
  },
  {
   "cell_type": "code",
   "execution_count": 46,
   "metadata": {},
   "outputs": [
    {
     "data": {
      "text/plain": [
       "21-element Array{Int64,1}:\n",
       " 10\n",
       " 11\n",
       " 12\n",
       " 13\n",
       " 14\n",
       " 15\n",
       " 16\n",
       " 17\n",
       " 18\n",
       " 19\n",
       " 20\n",
       " 21\n",
       " 21\n",
       " 22\n",
       " 23\n",
       " 24\n",
       " 25\n",
       " 26\n",
       " 27\n",
       " 28\n",
       " 29"
      ]
     },
     "execution_count": 46,
     "metadata": {},
     "output_type": "execute_result"
    }
   ],
   "source": [
    "[ndigits(BigInt(9)^x) for x in 10:30]"
   ]
  }
 ],
 "metadata": {
  "kernelspec": {
   "display_name": "Julia 1.3.1",
   "language": "julia",
   "name": "julia-1.3"
  },
  "language_info": {
   "file_extension": ".jl",
   "mimetype": "application/julia",
   "name": "julia",
   "version": "1.3.1"
  }
 },
 "nbformat": 4,
 "nbformat_minor": 4
}
