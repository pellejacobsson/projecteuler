{
 "cells": [
  {
   "cell_type": "markdown",
   "metadata": {},
   "source": [
    "## Problem 86: Cuboid route"
   ]
  },
  {
   "cell_type": "code",
   "execution_count": 1,
   "metadata": {},
   "outputs": [
    {
     "data": {
      "text/plain": [
       "mindist2 (generic function with 1 method)"
      ]
     },
     "execution_count": 1,
     "metadata": {},
     "output_type": "execute_result"
    }
   ],
   "source": [
    "function floor1(b, d, h)\n",
    "    return sqrt(d^2 + (b*d/(h+d))^2) + sqrt(h^2 + (b - b*d/(h+d))^2)\n",
    "end\n",
    "\n",
    "function floor2(b, d, h)\n",
    "    return sqrt(b^2 + (d*b/(h+b))^2) + sqrt(h^2 + (d - d*b/(h+b))^2)\n",
    "end\n",
    "\n",
    "function wall1(b, d, h)\n",
    "    return sqrt(h^2 + (b*h/(d+h))^2) + sqrt(d^2 + (b - b*h/(d+h))^2)\n",
    "end\n",
    "\n",
    "function wall2(b, d, h)\n",
    "    return sqrt(b^2 + (h*b/(d+b))^2) + sqrt(d^2 + (h - h*b/(d+b))^2)\n",
    "end\n",
    "\n",
    "function wall3(b, d, h)\n",
    "    return sqrt(h^2 + (d*h/(b+h))^2) + sqrt(b^2 + (d - d*h/(b+h))^2)\n",
    "end\n",
    "\n",
    "function wall4(b, d, h)\n",
    "    return sqrt(d^2 + (h*d/(b+d))^2) + sqrt(b^2 + (h - h*d/(b+d))^2)\n",
    "end\n",
    "\n",
    "function mindist(b, h, d)\n",
    "    return min(floor1(b, d, h), floor2(b, d, h), wall1(b, d, h), wall2(b, d, h), wall3(b, d, h), wall4(b, d, h))\n",
    "end\n",
    "\n",
    "function isinteger2(x)\n",
    "    return abs(x - round(x)) < 1e-5\n",
    "end\n",
    "\n",
    "function mindist2(b, h, d)\n",
    "    return sqrt(b^2 + (h + d)^2)\n",
    "end"
   ]
  },
  {
   "cell_type": "code",
   "execution_count": 21,
   "metadata": {},
   "outputs": [],
   "source": [
    "M = 1818\n",
    "idist = 0\n",
    "for b = 1:M\n",
    "    for d = 1:b\n",
    "        for h = 1:d\n",
    "            dmin = mindist2(b, d, h)\n",
    "            if isinteger2(dmin)\n",
    "                idist += 1\n",
    "            end\n",
    "        end\n",
    "    end\n",
    "end"
   ]
  },
  {
   "cell_type": "code",
   "execution_count": 22,
   "metadata": {},
   "outputs": [
    {
     "data": {
      "text/plain": [
       "1000457"
      ]
     },
     "execution_count": 22,
     "metadata": {},
     "output_type": "execute_result"
    }
   ],
   "source": [
    "idist"
   ]
  },
  {
   "cell_type": "code",
   "execution_count": null,
   "metadata": {},
   "outputs": [],
   "source": []
  }
 ],
 "metadata": {
  "kernelspec": {
   "display_name": "Julia 1.3.1",
   "language": "julia",
   "name": "julia-1.3"
  },
  "language_info": {
   "file_extension": ".jl",
   "mimetype": "application/julia",
   "name": "julia",
   "version": "1.3.1"
  }
 },
 "nbformat": 4,
 "nbformat_minor": 4
}
