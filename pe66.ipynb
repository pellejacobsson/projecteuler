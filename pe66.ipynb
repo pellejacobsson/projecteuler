{
 "cells": [
  {
   "cell_type": "markdown",
   "metadata": {},
   "source": [
    "## Problem 66: Diophantine equation\n",
    "**Solution:** Let $\\frac{h_i}{k_i}$ denote the sequence of convergents to the regular continued fraction for $\\sqrt{n}$. This sequence is unique. Then the pair $(x_1,y_1)$ solving Pell's equation and minimizing $x$ satisfies $x_1 = h_i$ and $y_1 = k_i$ for some $i$. This pair is called the fundamental solution. Thus, the fundamental solution may be found by performing the continued fraction expansion and testing each successive convergent until a solution to Pell's equation is found. (Wikipedia)"
   ]
  },
  {
   "cell_type": "code",
   "execution_count": 57,
   "metadata": {},
   "outputs": [
    {
     "data": {
      "text/plain": [
       "getxy (generic function with 1 method)"
      ]
     },
     "execution_count": 57,
     "metadata": {},
     "output_type": "execute_result"
    }
   ],
   "source": [
    "function solvesDio(x, y, D)\n",
    "    return BigInt(x)^2 - D*BigInt(y)^2 == 1\n",
    "end\n",
    "\n",
    "function getxy(s, lmax)\n",
    "    m = 0\n",
    "    d = 1\n",
    "    a = floor(sqrt(s))\n",
    "    a0 = a\n",
    "    h = BigInt(a)\n",
    "    k = BigInt(1)\n",
    "    if solvesDio(h, k, s)\n",
    "        return Int(h), Int(k)\n",
    "    end\n",
    "    m = d*a - m\n",
    "    d = (s - m^2)/d\n",
    "    a = floor((a0 + m)/d)\n",
    "    h1 = h\n",
    "    k1 = k\n",
    "    h = a*h+1\n",
    "    k = a\n",
    "    if solvesDio(h, k, s)\n",
    "        return Int(h), Int(k)\n",
    "    end\n",
    "    h2 = h1\n",
    "    h1 = h\n",
    "    k2 = k1\n",
    "    k1 = k\n",
    "    for i = 3:lmax\n",
    "        m = d*a - m\n",
    "        d = (s - m^2)/d\n",
    "        a = floor((a0 + m)/d)\n",
    "        h = a*h1 + h2\n",
    "        k = a*k1 + k2\n",
    "        h2 = h1\n",
    "        h1 = h\n",
    "        k2 = k1\n",
    "        k1 = k\n",
    "        if solvesDio(h, k, s)\n",
    "            return BigInt(h), BigInt(k)\n",
    "        end\n",
    "    end\n",
    "    println(\"$h, $k\")\n",
    "    return 0, 0\n",
    "end\n"
   ]
  },
  {
   "cell_type": "code",
   "execution_count": 59,
   "metadata": {},
   "outputs": [],
   "source": [
    "Dmax = 1000\n",
    "squares = [x^2 for x = 1:Int(floor(sqrt(Dmax)))]\n",
    "Dlist = sort(collect(setdiff(Set(1:Dmax), Set(squares))))\n",
    "xx = []\n",
    "for D = Dlist\n",
    "    x, y = getxy(D, 100)\n",
    "    push!(xx, x)\n",
    "end"
   ]
  },
  {
   "cell_type": "code",
   "execution_count": 64,
   "metadata": {},
   "outputs": [
    {
     "name": "stdout",
     "output_type": "stream",
     "text": [
      "Max x = 16421658242965910275055840472270471049 for D = 661\n"
     ]
    }
   ],
   "source": [
    "midx = argmax(xx)\n",
    "println(\"Max x = $(xx[midx]) for D = $(Dlist[midx])\")"
   ]
  }
 ],
 "metadata": {
  "kernelspec": {
   "display_name": "Julia 1.3.1",
   "language": "julia",
   "name": "julia-1.3"
  },
  "language_info": {
   "file_extension": ".jl",
   "mimetype": "application/julia",
   "name": "julia",
   "version": "1.3.1"
  }
 },
 "nbformat": 4,
 "nbformat_minor": 4
}
