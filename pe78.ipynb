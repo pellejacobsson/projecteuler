{
 "cells": [
  {
   "cell_type": "markdown",
   "metadata": {},
   "source": [
    "## Problem 78: Coin partitions"
   ]
  },
  {
   "cell_type": "code",
   "execution_count": 53,
   "metadata": {},
   "outputs": [
    {
     "name": "stderr",
     "output_type": "stream",
     "text": [
      "Excessive output truncated after 9530713 bytes."
     ]
    }
   ],
   "source": [
    "p = [BigInt(1)]\n",
    "for n = 1:100000\n",
    "    kstart = Int(ceil((-sqrt(24*n + 1) - 1)/6))\n",
    "    kend = Int(floor((sqrt(24*n + 1) + 1)/6))\n",
    "    s = BigInt(0)\n",
    "    for k = kstart:kend\n",
    "        if k == 0\n",
    "            continue\n",
    "        end\n",
    "        x = n - k*(3*k - 1)/2\n",
    "        if x < 0\n",
    "            r = 0\n",
    "        else\n",
    "            r = p[Int(x)+1]\n",
    "        end\n",
    "        s += (-1)^(k+1)*r\n",
    "    end\n",
    "    push!(p, s)\n",
    "    if s % 1000000 == 0\n",
    "        print(\"p(n) = $p for n = $n\")\n",
    "        break\n",
    "    end\n",
    "end"
   ]
  },
  {
   "cell_type": "code",
   "execution_count": 58,
   "metadata": {},
   "outputs": [
    {
     "data": {
      "text/plain": [
       "55375"
      ]
     },
     "execution_count": 58,
     "metadata": {},
     "output_type": "execute_result"
    }
   ],
   "source": [
    "length(p)"
   ]
  },
  {
   "cell_type": "code",
   "execution_count": null,
   "metadata": {},
   "outputs": [],
   "source": []
  }
 ],
 "metadata": {
  "kernelspec": {
   "display_name": "Julia 1.3.1",
   "language": "julia",
   "name": "julia-1.3"
  },
  "language_info": {
   "file_extension": ".jl",
   "mimetype": "application/julia",
   "name": "julia",
   "version": "1.3.1"
  }
 },
 "nbformat": 4,
 "nbformat_minor": 4
}
