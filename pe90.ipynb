{
 "cells": [
  {
   "cell_type": "markdown",
   "metadata": {},
   "source": [
    "Cubes: 01, 04, 09, 16, 25, 36, 49, 64, and 81"
   ]
  },
  {
   "cell_type": "code",
   "execution_count": 12,
   "metadata": {},
   "outputs": [],
   "source": [
    "using Combinatorics"
   ]
  },
  {
   "cell_type": "code",
   "execution_count": 17,
   "metadata": {},
   "outputs": [
    {
     "data": {
      "text/plain": [
       "checkcube (generic function with 1 method)"
      ]
     },
     "execution_count": 17,
     "metadata": {},
     "output_type": "execute_result"
    }
   ],
   "source": [
    "function checkcube(l1, l2)\n",
    "    s1 = Set(l1)\n",
    "    s2 = Set(l2)\n",
    "    needed = [0, 1, 4, 2, 5, 3, 8]\n",
    "    s12 = union(s1, s2)\n",
    "    for n in needed\n",
    "        if !(n in s12)\n",
    "            return false\n",
    "        end\n",
    "    end\n",
    "    if !(((0 in s1) & (1 in s2)) | ((1 in s1) & (0 in s2)))\n",
    "        return false\n",
    "    elseif !((0 in s1) & (4 in s2) | (4 in s1) & (0 in s2))\n",
    "        return false\n",
    "    elseif !(((0 in s1) & ((9 in s2) | (6 in s2))) | (((9 in s1) | (6 in s1)) & (0 in s2)))\n",
    "        return false\n",
    "    elseif !(((1 in s1) & ((9 in s2) | (6 in s2))) | (((9 in s1) | (6 in s1)) & (1 in s2)))\n",
    "        return false\n",
    "    elseif !((2 in s1) & (5 in s2) | (5 in s1) & (2 in s2))\n",
    "        return false\n",
    "    elseif !(((3 in s1) & ((9 in s2) | (6 in s2))) | (((9 in s1) | (6 in s1)) & (3 in s2)))\n",
    "        return false\n",
    "    elseif !(((4 in s1) & ((9 in s2) | (6 in s2))) | (((9 in s1) | (6 in s1)) & (4 in s2)))\n",
    "        return false\n",
    "    elseif !((1 in s1) & (8 in s2) | (8 in s1) & (1 in s2))\n",
    "        return false\n",
    "    end\n",
    "    return true\n",
    "end"
   ]
  },
  {
   "cell_type": "code",
   "execution_count": 20,
   "metadata": {},
   "outputs": [
    {
     "data": {
      "text/plain": [
       "true"
      ]
     },
     "execution_count": 20,
     "metadata": {},
     "output_type": "execute_result"
    }
   ],
   "source": [
    "s1 = [0, 5, 6, 7, 8, 9]\n",
    "s2 = [1, 2, 3, 4, 8, 9]\n",
    "checkcube(s1, s2)"
   ]
  },
  {
   "cell_type": "code",
   "execution_count": 48,
   "metadata": {},
   "outputs": [],
   "source": [
    "cubes = []\n",
    "cubeconfigs = collect(combinations(0:9,6))\n",
    "for s1 in cubeconfigs\n",
    "    for s2 in cubeconfigs\n",
    "        if checkcube(s1, s2)\n",
    "            s12 = copy(s1)\n",
    "            s21 = copy(s2)\n",
    "            append!(s12, s2)\n",
    "            append!(s21, s1)\n",
    "            if !((s12 in cubes) | (s21 in cubes))\n",
    "                push!(cubes, s12)\n",
    "            end\n",
    "        end\n",
    "    end\n",
    "end"
   ]
  },
  {
   "cell_type": "code",
   "execution_count": 49,
   "metadata": {},
   "outputs": [
    {
     "data": {
      "text/plain": [
       "1217-element Array{Any,1}:\n",
       " [0, 1, 2, 3, 4, 5, 0, 1, 2, 3, 6, 8]\n",
       " [0, 1, 2, 3, 4, 5, 0, 1, 2, 3, 8, 9]\n",
       " [0, 1, 2, 3, 4, 5, 0, 1, 2, 4, 6, 8]\n",
       " [0, 1, 2, 3, 4, 5, 0, 1, 2, 4, 8, 9]\n",
       " [0, 1, 2, 3, 4, 5, 0, 1, 2, 5, 6, 8]\n",
       " [0, 1, 2, 3, 4, 5, 0, 1, 2, 5, 8, 9]\n",
       " [0, 1, 2, 3, 4, 5, 0, 1, 2, 6, 7, 8]\n",
       " [0, 1, 2, 3, 4, 5, 0, 1, 2, 6, 8, 9]\n",
       " [0, 1, 2, 3, 4, 5, 0, 1, 2, 7, 8, 9]\n",
       " [0, 1, 2, 3, 4, 5, 0, 1, 3, 5, 6, 8]\n",
       " [0, 1, 2, 3, 4, 5, 0, 1, 3, 5, 8, 9]\n",
       " [0, 1, 2, 3, 4, 5, 0, 1, 4, 5, 6, 8]\n",
       " [0, 1, 2, 3, 4, 5, 0, 1, 4, 5, 8, 9]\n",
       " ⋮\n",
       " [0, 4, 5, 7, 8, 9, 1, 2, 3, 4, 6, 7]\n",
       " [0, 4, 5, 7, 8, 9, 1, 2, 3, 4, 6, 8]\n",
       " [0, 4, 5, 7, 8, 9, 1, 2, 3, 4, 6, 9]\n",
       " [0, 4, 5, 7, 8, 9, 1, 2, 3, 4, 7, 9]\n",
       " [0, 4, 5, 7, 8, 9, 1, 2, 3, 4, 8, 9]\n",
       " [0, 5, 6, 7, 8, 9, 1, 2, 3, 4, 5, 6]\n",
       " [0, 5, 6, 7, 8, 9, 1, 2, 3, 4, 5, 9]\n",
       " [0, 5, 6, 7, 8, 9, 1, 2, 3, 4, 6, 7]\n",
       " [0, 5, 6, 7, 8, 9, 1, 2, 3, 4, 6, 8]\n",
       " [0, 5, 6, 7, 8, 9, 1, 2, 3, 4, 6, 9]\n",
       " [0, 5, 6, 7, 8, 9, 1, 2, 3, 4, 7, 9]\n",
       " [0, 5, 6, 7, 8, 9, 1, 2, 3, 4, 8, 9]"
      ]
     },
     "execution_count": 49,
     "metadata": {},
     "output_type": "execute_result"
    }
   ],
   "source": [
    "cubes"
   ]
  }
 ],
 "metadata": {
  "kernelspec": {
   "display_name": "Julia 1.5.2",
   "language": "julia",
   "name": "julia-1.5"
  },
  "language_info": {
   "file_extension": ".jl",
   "mimetype": "application/julia",
   "name": "julia",
   "version": "1.5.2"
  }
 },
 "nbformat": 4,
 "nbformat_minor": 4
}
