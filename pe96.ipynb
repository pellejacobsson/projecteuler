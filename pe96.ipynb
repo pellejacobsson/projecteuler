{
 "cells": [
  {
   "cell_type": "markdown",
   "metadata": {},
   "source": [
    "## Problem 96: Sudoku"
   ]
  },
  {
   "cell_type": "code",
   "execution_count": 1,
   "metadata": {},
   "outputs": [],
   "source": [
    "f = open(\"p096_sudoku.txt\") do file\n",
    "    readlines(file)\n",
    "end\n",
    "\n",
    "s = Dict()\n",
    "for n = 1:50\n",
    "    a = zeros(Int, 9, 9)\n",
    "    for m = 1:9\n",
    "        a[m,:] = [parse(Int, s) for s in f[(n-1)*10+m+1]]\n",
    "    end \n",
    "    s[n] = a\n",
    "end\n",
    "        "
   ]
  },
  {
   "cell_type": "code",
   "execution_count": 2,
   "metadata": {},
   "outputs": [
    {
     "data": {
      "text/plain": [
       "sudokusolve (generic function with 1 method)"
      ]
     },
     "execution_count": 2,
     "metadata": {},
     "output_type": "execute_result"
    }
   ],
   "source": [
    "function boxset(a, m, n)\n",
    "    subm = div(m-1,3) + 1\n",
    "    subn = div(n-1,3) + 1\n",
    "    mstart = (subm - 1)*3 + 1\n",
    "    nstart = (subn - 1)*3 + 1\n",
    "    row1 = a[mstart, nstart:(nstart+2)]\n",
    "    row2 = a[mstart+1, nstart:(nstart+2)]\n",
    "    row3 = a[mstart+2, nstart:(nstart+2)]\n",
    "    return union(Set(row1), Set(row2), Set(row3))\n",
    "end\n",
    "\n",
    "function rowset(a, m, n)\n",
    "    return Set(a[m,:])\n",
    "end\n",
    "\n",
    "function colset(a, m, n)\n",
    "    return Set(a[:,n])\n",
    "end\n",
    "\n",
    "function allowed(a, m, n, p)\n",
    "    exset = union(boxset(a, m, n), rowset(a, m, n), colset(a, m, n))\n",
    "    return !(p in exset)\n",
    "end\n",
    "\n",
    "function sudokusolve(a)\n",
    "    zmn = [(m,n) for m = 1:9, n = 1:9 if a[m,n] == 0]\n",
    "    if length(zmn) == 0\n",
    "        return true\n",
    "    else\n",
    "        for p = 1:9\n",
    "            m = zmn[1][1]\n",
    "            n = zmn[1][2]\n",
    "            if allowed(a, m, n, p)\n",
    "                a[m, n] = p\n",
    "                if sudokusolve(a)\n",
    "                    return true\n",
    "                else\n",
    "                    a[m, n] = 0\n",
    "                end\n",
    "            end\n",
    "        end\n",
    "    end\n",
    "    return false\n",
    "end"
   ]
  },
  {
   "cell_type": "code",
   "execution_count": 3,
   "metadata": {},
   "outputs": [
    {
     "data": {
      "text/plain": [
       "true"
      ]
     },
     "execution_count": 3,
     "metadata": {},
     "output_type": "execute_result"
    }
   ],
   "source": [
    "Atest = [0  0  3  0  2  0  6  0  0\n",
    " 9  0  0  3  0  5  0  0  1\n",
    " 0  0  1  8  0  6  4  0  0\n",
    " 0  0  8  1  0  2  9  0  0\n",
    " 7  0  0  0  0  0  0  0  8\n",
    " 0  0  6  7  0  8  2  0  0\n",
    " 0  0  2  6  0  9  5  0  0\n",
    " 8  0  0  2  0  3  0  0  9\n",
    " 0  0  5  0  1  0  3  0  0]\n",
    "\n",
    "sudokusolve(Atest)"
   ]
  },
  {
   "cell_type": "code",
   "execution_count": 6,
   "metadata": {},
   "outputs": [],
   "source": [
    "for n = 1:50\n",
    "    solved = sudokusolve(s[n])\n",
    "    if !solved\n",
    "        print(\"Fail for n = $n\")\n",
    "    end\n",
    "end"
   ]
  },
  {
   "cell_type": "code",
   "execution_count": 10,
   "metadata": {},
   "outputs": [
    {
     "data": {
      "text/plain": [
       "24702"
      ]
     },
     "execution_count": 10,
     "metadata": {},
     "output_type": "execute_result"
    }
   ],
   "source": [
    "sum([parse(Int, join([string(x) for x in s[n][1,1:3]])) for n = 1:50])"
   ]
  },
  {
   "cell_type": "code",
   "execution_count": 104,
   "metadata": {},
   "outputs": [
    {
     "data": {
      "text/plain": [
       "9×9 Array{Int64,2}:\n",
       " 4  8  3  9  2  1  6  5  7\n",
       " 9  6  7  3  4  5  8  2  1\n",
       " 2  5  1  8  7  6  4  9  3\n",
       " 5  4  8  1  3  2  9  7  6\n",
       " 7  2  9  5  6  4  1  3  8\n",
       " 1  3  6  7  9  8  2  4  5\n",
       " 3  7  2  6  8  9  5  1  4\n",
       " 8  1  4  2  5  3  7  6  9\n",
       " 6  9  5  4  1  7  3  8  2"
      ]
     },
     "execution_count": 104,
     "metadata": {},
     "output_type": "execute_result"
    }
   ],
   "source": [
    "s[1]"
   ]
  },
  {
   "cell_type": "code",
   "execution_count": null,
   "metadata": {},
   "outputs": [],
   "source": []
  }
 ],
 "metadata": {
  "kernelspec": {
   "display_name": "Julia 1.5.2",
   "language": "julia",
   "name": "julia-1.5"
  },
  "language_info": {
   "file_extension": ".jl",
   "mimetype": "application/julia",
   "name": "julia",
   "version": "1.5.2"
  }
 },
 "nbformat": 4,
 "nbformat_minor": 4
}
