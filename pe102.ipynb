{
 "cells": [
  {
   "cell_type": "markdown",
   "metadata": {},
   "source": [
    "## Problem 102: Triangle containment"
   ]
  },
  {
   "cell_type": "code",
   "execution_count": 11,
   "metadata": {},
   "outputs": [],
   "source": [
    "using DelimitedFiles"
   ]
  },
  {
   "cell_type": "code",
   "execution_count": 6,
   "metadata": {},
   "outputs": [
    {
     "data": {
      "text/plain": [
       "containsorigin (generic function with 1 method)"
      ]
     },
     "execution_count": 6,
     "metadata": {},
     "output_type": "execute_result"
    }
   ],
   "source": [
    "function carttobary(p1, p2, p3, p)\n",
    "    x1 = p1[1]\n",
    "    y1 = p1[2]\n",
    "    x2 = p2[1]\n",
    "    y2 = p2[2]\n",
    "    x3 = p3[1]\n",
    "    y3 = p3[2]\n",
    "    x = p[1]\n",
    "    y = p[2]\n",
    "    α = ((y2 - y3)*(x - x3) + (x3 - x2)*(y - y3)) / ((y2 - y3)*(x1 - x3) + (x3 - x2)*(y1 - y3))\n",
    "    β = ((y3 - y1)*(x - x3) + (x1 - x3)*(y - y3)) / ((y2 - y3)*(x1 - x3) + (x3 - x2)*(y1 - y3))\n",
    "    γ = 1 - α - β\n",
    "    return α, β, γ\n",
    "end\n",
    "\n",
    "function containsorigin(p1, p2, p3)\n",
    "    α, β, γ = carttobary(p1, p2, p3, (0,0))\n",
    "    if (α > 0) & (β > 0) & (γ > 0)\n",
    "        return true\n",
    "    else\n",
    "        return false\n",
    "    end\n",
    "end"
   ]
  },
  {
   "cell_type": "code",
   "execution_count": 8,
   "metadata": {},
   "outputs": [
    {
     "data": {
      "text/plain": [
       "false"
      ]
     },
     "execution_count": 8,
     "metadata": {},
     "output_type": "execute_result"
    }
   ],
   "source": [
    "A = (-340,495)\n",
    "B = (-153,-910)\n",
    "C = (835,-947)\n",
    "X = (-175,41)\n",
    "Y = (-421,-714)\n",
    "Z = (574,-645)\n",
    "containsorigin(X,Y,Z)"
   ]
  },
  {
   "cell_type": "code",
   "execution_count": 15,
   "metadata": {},
   "outputs": [],
   "source": [
    "t = readdlm(\"p102_triangles.txt\", ',')\n",
    "n = 0\n",
    "for m in 1:size(t)[1]\n",
    "    p1 = t[m, 1:2]\n",
    "    p2 = t[m, 3:4]\n",
    "    p3 = t[m, 5:6]\n",
    "    if containsorigin(p1, p2, p3)\n",
    "        n += 1\n",
    "    end\n",
    "end"
   ]
  },
  {
   "cell_type": "code",
   "execution_count": 16,
   "metadata": {},
   "outputs": [
    {
     "data": {
      "text/plain": [
       "228"
      ]
     },
     "execution_count": 16,
     "metadata": {},
     "output_type": "execute_result"
    }
   ],
   "source": [
    "n"
   ]
  },
  {
   "cell_type": "code",
   "execution_count": null,
   "metadata": {},
   "outputs": [],
   "source": []
  }
 ],
 "metadata": {
  "kernelspec": {
   "display_name": "Julia 1.5.2",
   "language": "julia",
   "name": "julia-1.5"
  },
  "language_info": {
   "file_extension": ".jl",
   "mimetype": "application/julia",
   "name": "julia",
   "version": "1.5.2"
  }
 },
 "nbformat": 4,
 "nbformat_minor": 4
}
