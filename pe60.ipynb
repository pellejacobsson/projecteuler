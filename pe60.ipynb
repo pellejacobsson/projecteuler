{
 "cells": [
  {
   "cell_type": "markdown",
   "metadata": {},
   "source": [
    "## Problem 60: Prime pair sets\n",
    "The primes 3, 7, 109, and 673, are quite remarkable. By taking any two primes and concatenating them in any order the result will always be prime. For example, taking 7 and 109, both 7109 and 1097 are prime. The sum of these four primes, 792, represents the lowest sum for a set of four primes with this property.\n",
    "\n",
    "Find the lowest sum for a set of five primes for which any two primes concatenate to produce another prime."
   ]
  },
  {
   "cell_type": "code",
   "execution_count": 1,
   "metadata": {},
   "outputs": [],
   "source": [
    "using Primes"
   ]
  },
  {
   "cell_type": "code",
   "execution_count": 2,
   "metadata": {},
   "outputs": [
    {
     "data": {
      "text/plain": [
       "isprimepair (generic function with 1 method)"
      ]
     },
     "execution_count": 2,
     "metadata": {},
     "output_type": "execute_result"
    }
   ],
   "source": [
    "function concatint(n1, n2)\n",
    "    return parse(Int, string(n1)*string(n2))\n",
    "end\n",
    "\n",
    "function sieveprimes(nmax)\n",
    "    p = trues(nmax)\n",
    "    p[1] = false\n",
    "    p[4:2:nmax] .= false\n",
    "    n = 3\n",
    "    while n^2 < nmax\n",
    "        if p[n]\n",
    "            p[n^2:n:nmax] .= false\n",
    "        end\n",
    "        n += 1\n",
    "    end\n",
    "    return p\n",
    "end\n",
    "\n",
    "function primelist(nmax)\n",
    "    pidx = sieveprimes(nmax)\n",
    "    pall = 1:nmax\n",
    "    return pall[pidx]\n",
    "end\n",
    "\n",
    "function isprimepair(p1, p2)\n",
    "    cc1 = concatint(p1, p2)\n",
    "    if isprime(cc1)\n",
    "        cc2 = concatint(p2, p1)\n",
    "        if isprime(cc2)\n",
    "            return true\n",
    "        end\n",
    "    end\n",
    "    return false\n",
    "end\n",
    "    "
   ]
  },
  {
   "cell_type": "code",
   "execution_count": 3,
   "metadata": {},
   "outputs": [],
   "source": [
    "maxprime = 10000\n",
    "primes = primelist(maxprime)\n",
    "np = length(primes)\n",
    "five= []\n",
    "result = 1000000\n",
    "\n",
    "for n1 = 1:np\n",
    "    p1 = primes[n1]\n",
    "    if p1*5 >= result\n",
    "        break\n",
    "    end\n",
    "    for n2 = (n1+1):np\n",
    "        p2 = primes[n2]\n",
    "        if p1 + p2*4 >= result\n",
    "            break\n",
    "        end\n",
    "        if isprimepair(p1, p2)\n",
    "            for n3 = (n2+1):np\n",
    "                p3 = primes[n3]\n",
    "                if p1 + p2 + p3*3 >= result\n",
    "                    break\n",
    "                end\n",
    "                if isprimepair(p3, p1) & isprimepair(p3, p2)\n",
    "                    for n4 = (n3+1):np\n",
    "                        p4 = primes[n4]\n",
    "                        if p1 + p2 + p3 + p4*2 >= result\n",
    "                            break\n",
    "                        end\n",
    "                        if isprimepair(p4, p1) & isprimepair(p4, p2) & isprimepair(p4, p3)\n",
    "                            for n5 = (n4+1):np\n",
    "                                p5 = primes[n5]\n",
    "                                if p1 + p2 + p3 + p4 + p5 >= result\n",
    "                                    break\n",
    "                                end\n",
    "                                if isprimepair(p5, p1) & isprimepair(p5, p2) & isprimepair(p5, p3) & isprimepair(p5, p4)\n",
    "                                    push!(five, [p1, p2, p3, p4, p5])\n",
    "                                    result = p1 + p2 + p3 + p4 + p5\n",
    "                                end\n",
    "                            end\n",
    "                        end\n",
    "                    end\n",
    "                end\n",
    "            end\n",
    "        end\n",
    "    end\n",
    "end"
   ]
  },
  {
   "cell_type": "code",
   "execution_count": 4,
   "metadata": {},
   "outputs": [
    {
     "data": {
      "text/plain": [
       "26033"
      ]
     },
     "execution_count": 4,
     "metadata": {},
     "output_type": "execute_result"
    }
   ],
   "source": [
    "result"
   ]
  },
  {
   "cell_type": "code",
   "execution_count": 5,
   "metadata": {},
   "outputs": [
    {
     "data": {
      "text/plain": [
       "1-element Array{Any,1}:\n",
       " [13, 5197, 5701, 6733, 8389]"
      ]
     },
     "execution_count": 5,
     "metadata": {},
     "output_type": "execute_result"
    }
   ],
   "source": [
    "five"
   ]
  },
  {
   "cell_type": "code",
   "execution_count": null,
   "metadata": {},
   "outputs": [],
   "source": []
  }
 ],
 "metadata": {
  "kernelspec": {
   "display_name": "Julia 1.3.1",
   "language": "julia",
   "name": "julia-1.3"
  },
  "language_info": {
   "file_extension": ".jl",
   "mimetype": "application/julia",
   "name": "julia",
   "version": "1.3.1"
  }
 },
 "nbformat": 4,
 "nbformat_minor": 4
}
