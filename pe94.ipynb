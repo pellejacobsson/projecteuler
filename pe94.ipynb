{
 "cells": [
  {
   "cell_type": "markdown",
   "metadata": {},
   "source": [
    "## Problem 94: Almost equilateral triangles"
   ]
  },
  {
   "cell_type": "code",
   "execution_count": 46,
   "metadata": {},
   "outputs": [
    {
     "name": "stdout",
     "output_type": "stream",
     "text": [
      "n: 10000000\n",
      "n: 20000000\n",
      "n: 30000000\n",
      "n: 40000000\n",
      "n: 50000000\n",
      "n: 60000000\n",
      "n: 70000000\n",
      "n: 80000000\n",
      "n: 90000000\n",
      "n: 100000000\n",
      "n: 110000000\n",
      "n: 120000000\n",
      "n: 130000000\n",
      "n: 140000000\n",
      "n: 150000000\n",
      "n: 160000000\n",
      "n: 170000000\n",
      "n: 180000000\n",
      "n: 190000000\n",
      "n: 200000000\n",
      "n: 210000000\n",
      "n: 220000000\n",
      "n: 230000000\n",
      "n: 240000000\n",
      "n: 250000000\n",
      "n: 260000000\n",
      "n: 270000000\n",
      "n: 280000000\n",
      "n: 290000000\n",
      "n: 300000000\n",
      "n: 310000000\n",
      "n: 320000000\n",
      "n: 330000000\n",
      "4107.715251 seconds (32.67 G allocations: 831.982 GiB, 14.48% gc time)\n"
     ]
    }
   ],
   "source": [
    "@time begin\n",
    "pmax = 1000000000\n",
    "n = BigInt(2)\n",
    "psum = BigInt(0)\n",
    "nlist = []\n",
    "while 3*n-1 < pmax\n",
    "    if n % 10000000 == 0\n",
    "        println(\"n: $n\")\n",
    "    end\n",
    "    a1 = sqrt(n^2 - ((n-1)/2)^2)*(n-1)\n",
    "    a2 = sqrt(n^2 - ((n+1)/2)^2)*(n+1)\n",
    "    if isinteger(a1)\n",
    "        psum += 3*n - 1\n",
    "        push!(nlist, n)\n",
    "    end\n",
    "    if isinteger(a2)\n",
    "        psum += 3*n + 1\n",
    "        push!(nlist, n)\n",
    "    end\n",
    "    n += 1\n",
    "end\n",
    "end"
   ]
  },
  {
   "cell_type": "code",
   "execution_count": 47,
   "metadata": {},
   "outputs": [
    {
     "data": {
      "text/plain": [
       "14-element Array{Any,1}:\n",
       "         5\n",
       "        17\n",
       "        65\n",
       "       241\n",
       "       901\n",
       "      3361\n",
       "     12545\n",
       "     46817\n",
       "    174725\n",
       "    652081\n",
       "   2433601\n",
       "   9082321\n",
       "  33895685\n",
       " 126500417"
      ]
     },
     "execution_count": 47,
     "metadata": {},
     "output_type": "execute_result"
    }
   ],
   "source": [
    "nlist"
   ]
  },
  {
   "cell_type": "code",
   "execution_count": 48,
   "metadata": {},
   "outputs": [
    {
     "data": {
      "text/plain": [
       "518408346"
      ]
     },
     "execution_count": 48,
     "metadata": {},
     "output_type": "execute_result"
    }
   ],
   "source": [
    "psum"
   ]
  },
  {
   "cell_type": "code",
   "execution_count": 50,
   "metadata": {},
   "outputs": [
    {
     "data": {
      "text/plain": [
       "areas (generic function with 1 method)"
      ]
     },
     "execution_count": 50,
     "metadata": {},
     "output_type": "execute_result"
    }
   ],
   "source": [
    "function areas(n)\n",
    "    return [sqrt(n^2 - ((n+x)/2)^2)*(n+x) for x in [-1,1]]\n",
    "end"
   ]
  },
  {
   "cell_type": "code",
   "execution_count": 51,
   "metadata": {},
   "outputs": [
    {
     "data": {
      "text/plain": [
       "2-element Array{Float64,1}:\n",
       " 18.33030277982336\n",
       " 24.0"
      ]
     },
     "execution_count": 51,
     "metadata": {},
     "output_type": "execute_result"
    }
   ],
   "source": [
    "areas(5)"
   ]
  },
  {
   "cell_type": "code",
   "execution_count": 53,
   "metadata": {},
   "outputs": [
    {
     "data": {
      "text/plain": [
       "2-element Array{BigFloat,1}:\n",
       " 1.38584463113712e+16\n",
       " 1.385844645744129961509981851179672786729223563837560299563474100609932008645668e+16"
      ]
     },
     "execution_count": 53,
     "metadata": {},
     "output_type": "execute_result"
    }
   ],
   "source": [
    "a1, a2 = areas(BigInt(126500417))"
   ]
  },
  {
   "cell_type": "code",
   "execution_count": 54,
   "metadata": {},
   "outputs": [
    {
     "data": {
      "text/plain": [
       "true"
      ]
     },
     "execution_count": 54,
     "metadata": {},
     "output_type": "execute_result"
    }
   ],
   "source": [
    "isinteger(a1)"
   ]
  },
  {
   "cell_type": "code",
   "execution_count": 56,
   "metadata": {},
   "outputs": [
    {
     "data": {
      "text/plain": [
       "false"
      ]
     },
     "execution_count": 56,
     "metadata": {},
     "output_type": "execute_result"
    }
   ],
   "source": [
    "isinteger(a2)"
   ]
  },
  {
   "cell_type": "code",
   "execution_count": 59,
   "metadata": {},
   "outputs": [
    {
     "data": {
      "text/plain": [
       "379501250"
      ]
     },
     "execution_count": 59,
     "metadata": {},
     "output_type": "execute_result"
    }
   ],
   "source": [
    "3*nlist[end]-1"
   ]
  },
  {
   "cell_type": "code",
   "execution_count": 60,
   "metadata": {},
   "outputs": [
    {
     "data": {
      "text/plain": [
       "518408346"
      ]
     },
     "execution_count": 60,
     "metadata": {},
     "output_type": "execute_result"
    }
   ],
   "source": [
    "psum"
   ]
  },
  {
   "cell_type": "code",
   "execution_count": null,
   "metadata": {},
   "outputs": [],
   "source": []
  }
 ],
 "metadata": {
  "kernelspec": {
   "display_name": "Julia 1.5.2",
   "language": "julia",
   "name": "julia-1.5"
  },
  "language_info": {
   "file_extension": ".jl",
   "mimetype": "application/julia",
   "name": "julia",
   "version": "1.5.2"
  }
 },
 "nbformat": 4,
 "nbformat_minor": 4
}
