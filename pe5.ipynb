{
 "cells": [
  {
   "cell_type": "markdown",
   "metadata": {},
   "source": [
    "## Problem 5: Smallest multiple\n",
    "2520 is the smallest number that can be divided by each of the numbers from 1 to 10 without any remainder.\n",
    "\n",
    "What is the smallest positive number that is evenly divisible by all of the numbers from 1 to 20?"
   ]
  },
  {
   "cell_type": "code",
   "execution_count": 11,
   "metadata": {},
   "outputs": [],
   "source": [
    "n = 1*2*3*5*7*11*13*17*19\n",
    "while n < factorial(20)\n",
    "    found = true\n",
    "    for d in 1:20\n",
    "        if !(n % d == 0)\n",
    "            found = false\n",
    "            break\n",
    "        end\n",
    "    end\n",
    "    if found\n",
    "        sn = n\n",
    "        break\n",
    "    else\n",
    "        n += 1\n",
    "    end\n",
    "end     "
   ]
  },
  {
   "cell_type": "code",
   "execution_count": 12,
   "metadata": {},
   "outputs": [
    {
     "name": "stdout",
     "output_type": "stream",
     "text": [
      "Smallest multiple of 1 to 20: 232792560\n"
     ]
    }
   ],
   "source": [
    "println(\"Smallest multiple of 1 to 20: $sn\")"
   ]
  },
  {
   "cell_type": "code",
   "execution_count": 21,
   "metadata": {},
   "outputs": [
    {
     "data": {
      "text/plain": [
       "primelist (generic function with 1 method)"
      ]
     },
     "execution_count": 21,
     "metadata": {},
     "output_type": "execute_result"
    }
   ],
   "source": [
    "function sieveprimes(nmax)\n",
    "    p = trues(nmax)\n",
    "    p[1] = false\n",
    "    p[4:2:nmax] .= false\n",
    "    n = 3\n",
    "    while n^2 < nmax\n",
    "        if p[n]\n",
    "            p[n^2:n:nmax] .= false\n",
    "        end\n",
    "        n += 1\n",
    "    end\n",
    "    return p\n",
    "end\n",
    "\n",
    "function primelist(nmax)\n",
    "    pidx = sieveprimes(nmax)\n",
    "    pall = 1:nmax\n",
    "    return pall[pidx]\n",
    "end"
   ]
  },
  {
   "cell_type": "code",
   "execution_count": 31,
   "metadata": {},
   "outputs": [],
   "source": [
    "k = 20\n",
    "N = 1\n",
    "i = 1\n",
    "check = true\n",
    "limit = sqrt(k)\n",
    "p = primelist(k)\n",
    "a = ones(size(p))\n",
    "while i <= size(p)[1] && p[i] <= k\n",
    "    if check\n",
    "        if p[i] <= limit\n",
    "            a[i] = floor(log(k) / log(p[i]))\n",
    "        else\n",
    "            check = false\n",
    "        end\n",
    "    end\n",
    "    N = N * p[i]^a[i]\n",
    "    i += 1\n",
    "end"
   ]
  },
  {
   "cell_type": "code",
   "execution_count": 40,
   "metadata": {},
   "outputs": [
    {
     "name": "stdout",
     "output_type": "stream",
     "text": [
      "Smallest multiple: 232792560\n"
     ]
    }
   ],
   "source": [
    "N = convert(Int32,N)\n",
    "println(\"Smallest multiple: $N\")"
   ]
  },
  {
   "cell_type": "code",
   "execution_count": null,
   "metadata": {},
   "outputs": [],
   "source": []
  }
 ],
 "metadata": {
  "kernelspec": {
   "display_name": "Julia 1.2.0",
   "language": "julia",
   "name": "julia-1.2"
  },
  "language_info": {
   "file_extension": ".jl",
   "mimetype": "application/julia",
   "name": "julia",
   "version": "1.2.0"
  }
 },
 "nbformat": 4,
 "nbformat_minor": 4
}
